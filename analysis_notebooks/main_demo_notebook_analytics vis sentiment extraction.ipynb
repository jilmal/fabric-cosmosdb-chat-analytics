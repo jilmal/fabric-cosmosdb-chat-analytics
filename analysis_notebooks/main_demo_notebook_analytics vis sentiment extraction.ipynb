{
 "cells": [
  {
   "cell_type": "markdown",
   "id": "7514d41c-0ddb-4ed7-8fe8-ce6934dcdcaf",
   "metadata": {
    "microsoft": {
     "language": "python",
     "language_group": "synapse_pyspark"
    },
    "nteract": {
     "transient": {
      "deleting": false
     }
    }
   },
   "source": [
    "### Extracting and Aggregating Sentiments on Targeted Product Features with Large Language Models "
   ]
  },
  {
   "cell_type": "markdown",
   "id": "8a6ee864-4ad5-4eb6-9a64-910563949924",
   "metadata": {
    "microsoft": {
     "language": "python",
     "language_group": "synapse_pyspark"
    },
    "nteract": {
     "transient": {
      "deleting": false
     }
    }
   },
   "source": [
    "### Introduction\n",
    "In this notebook, we aim to extract valuable insights from chat history conversations by analyzing sentiments related to various product features. We will query pre-processed chat history, leverage Fabric's built-in Azure OpenAI capabilities, identify product mentions, and determine the sentiments expressed around each product feature. This analysis will help us understand customer perceptions and preferences, enabling us to make informed decisions and enhance our product development strategies.\n",
    "\n",
    "Additionally, we will aggregate the counts for each feature and sentiment to provide a comprehensive overview of the data. This aggregation will allow us to quantify the number of mentions, likes, and dislikes for each product feature, as well as the overall sentiment distribution."
   ]
  },
  {
   "cell_type": "markdown",
   "id": "c80cc45f-5a26-4751-add0-43feb17d1fd0",
   "metadata": {
    "microsoft": {
     "language": "python",
     "language_group": "synapse_pyspark"
    },
    "nteract": {
     "transient": {
      "deleting": false
     }
    }
   },
   "source": [
    "#### Prerequisites\n",
    "You need the following services to run this notebook.\n",
    "- Microsoft Fabric with F64 Capacity\n",
    "\n",
    "Make sure the sample data has been uploaded in their respective containers"
   ]
  },
  {
   "cell_type": "markdown",
   "id": "e855359c-133f-43e3-a20e-8cb2b856d947",
   "metadata": {
    "microsoft": {
     "language": "python",
     "language_group": "synapse_pyspark"
    },
    "nteract": {
     "transient": {
      "deleting": false
     }
    }
   },
   "source": [
    "#### 1) Load mirrored container into a spark dataframe"
   ]
  },
  {
   "cell_type": "code",
   "execution_count": 1,
   "id": "e8950f69-518f-45f3-98cd-de1eb1b08dce",
   "metadata": {
    "jupyter": {
     "outputs_hidden": true
    },
    "microsoft": {
     "language": "python",
     "language_group": "synapse_pyspark"
    }
   },
   "outputs": [
    {
     "data": {
      "application/vnd.livy.statement-meta+json": {
       "execution_finish_time": "2025-09-25T15:18:39.7066078Z",
       "execution_start_time": "2025-09-25T15:18:18.4893875Z",
       "livy_statement_state": "available",
       "normalized_state": "finished",
       "parent_msg_id": "f63dbd80-2bf8-401b-ada5-f94fc29ceb49",
       "queued_time": "2025-09-25T15:18:06.1938461Z",
       "session_id": "9d21c6f1-e29a-4478-9370-27b520a80d01",
       "session_start_time": "2025-09-25T15:18:06.1941503Z",
       "spark_pool": null,
       "state": "finished",
       "statement_id": 8,
       "statement_ids": [
        3,
        4,
        5,
        6,
        7,
        8
       ]
      },
      "text/plain": [
       "StatementMeta(, 9d21c6f1-e29a-4478-9370-27b520a80d01, 8, Finished, Available, Finished)"
      ]
     },
     "metadata": {},
     "output_type": "display_data"
    },
    {
     "name": "stdout",
     "output_type": "stream",
     "text": [
      "Requirement already satisfied: azure-core in /home/trusted-service-user/cluster-env/trident_env/lib/python3.11/site-packages (1.30.2)\n",
      "Requirement already satisfied: requests>=2.21.0 in /home/trusted-service-user/cluster-env/trident_env/lib/python3.11/site-packages (from azure-core) (2.31.0)\n",
      "Requirement already satisfied: six>=1.11.0 in /home/trusted-service-user/cluster-env/trident_env/lib/python3.11/site-packages (from azure-core) (1.16.0)\n",
      "Requirement already satisfied: typing-extensions>=4.6.0 in /home/trusted-service-user/cluster-env/trident_env/lib/python3.11/site-packages (from azure-core) (4.9.0)\n",
      "Requirement already satisfied: charset-normalizer<4,>=2 in /home/trusted-service-user/cluster-env/trident_env/lib/python3.11/site-packages (from requests>=2.21.0->azure-core) (2.0.4)\n",
      "Requirement already satisfied: idna<4,>=2.5 in /home/trusted-service-user/cluster-env/trident_env/lib/python3.11/site-packages (from requests>=2.21.0->azure-core) (3.4)\n",
      "Requirement already satisfied: urllib3<3,>=1.21.1 in /home/trusted-service-user/cluster-env/trident_env/lib/python3.11/site-packages (from requests>=2.21.0->azure-core) (2.1.0)\n",
      "Requirement already satisfied: certifi>=2017.4.17 in /home/trusted-service-user/cluster-env/trident_env/lib/python3.11/site-packages (from requests>=2.21.0->azure-core) (2024.2.2)\n",
      "\n",
      "\u001b[1m[\u001b[0m\u001b[34;49mnotice\u001b[0m\u001b[1;39;49m]\u001b[0m\u001b[39;49m A new release of pip is available: \u001b[0m\u001b[31;49m24.0\u001b[0m\u001b[39;49m -> \u001b[0m\u001b[32;49m25.2\u001b[0m\n",
      "\u001b[1m[\u001b[0m\u001b[34;49mnotice\u001b[0m\u001b[1;39;49m]\u001b[0m\u001b[39;49m To update, run: \u001b[0m\u001b[32;49mpython -m pip install --upgrade pip\u001b[0m\n",
      "Note: you may need to restart the kernel to use updated packages.\n",
      "Collecting azure-cosmos\n",
      "  Downloading azure_cosmos-4.9.0-py3-none-any.whl.metadata (80 kB)\n",
      "\u001b[2K     \u001b[90m━━━━━━━━━━━━━━━━━━━━━━━━━━━━━━━━━━━━━━━━\u001b[0m \u001b[32m80.8/80.8 kB\u001b[0m \u001b[31m2.4 MB/s\u001b[0m eta \u001b[36m0:00:00\u001b[0m\n",
      "\u001b[?25hRequirement already satisfied: azure-core>=1.30.0 in /home/trusted-service-user/cluster-env/trident_env/lib/python3.11/site-packages (from azure-cosmos) (1.30.2)\n",
      "Requirement already satisfied: typing-extensions>=4.6.0 in /home/trusted-service-user/cluster-env/trident_env/lib/python3.11/site-packages (from azure-cosmos) (4.9.0)\n",
      "Requirement already satisfied: requests>=2.21.0 in /home/trusted-service-user/cluster-env/trident_env/lib/python3.11/site-packages (from azure-core>=1.30.0->azure-cosmos) (2.31.0)\n",
      "Requirement already satisfied: six>=1.11.0 in /home/trusted-service-user/cluster-env/trident_env/lib/python3.11/site-packages (from azure-core>=1.30.0->azure-cosmos) (1.16.0)\n",
      "Requirement already satisfied: charset-normalizer<4,>=2 in /home/trusted-service-user/cluster-env/trident_env/lib/python3.11/site-packages (from requests>=2.21.0->azure-core>=1.30.0->azure-cosmos) (2.0.4)\n",
      "Requirement already satisfied: idna<4,>=2.5 in /home/trusted-service-user/cluster-env/trident_env/lib/python3.11/site-packages (from requests>=2.21.0->azure-core>=1.30.0->azure-cosmos) (3.4)\n",
      "Requirement already satisfied: urllib3<3,>=1.21.1 in /home/trusted-service-user/cluster-env/trident_env/lib/python3.11/site-packages (from requests>=2.21.0->azure-core>=1.30.0->azure-cosmos) (2.1.0)\n",
      "Requirement already satisfied: certifi>=2017.4.17 in /home/trusted-service-user/cluster-env/trident_env/lib/python3.11/site-packages (from requests>=2.21.0->azure-core>=1.30.0->azure-cosmos) (2024.2.2)\n",
      "Downloading azure_cosmos-4.9.0-py3-none-any.whl (303 kB)\n",
      "\u001b[2K   \u001b[90m━━━━━━━━━━━━━━━━━━━━━━━━━━━━━━━━━━━━━━━━\u001b[0m \u001b[32m303.2/303.2 kB\u001b[0m \u001b[31m11.0 MB/s\u001b[0m eta \u001b[36m0:00:00\u001b[0m\n",
      "\u001b[?25hInstalling collected packages: azure-cosmos\n",
      "Successfully installed azure-cosmos-4.9.0\n",
      "\n",
      "\u001b[1m[\u001b[0m\u001b[34;49mnotice\u001b[0m\u001b[1;39;49m]\u001b[0m\u001b[39;49m A new release of pip is available: \u001b[0m\u001b[31;49m24.0\u001b[0m\u001b[39;49m -> \u001b[0m\u001b[32;49m25.2\u001b[0m\n",
      "\u001b[1m[\u001b[0m\u001b[34;49mnotice\u001b[0m\u001b[1;39;49m]\u001b[0m\u001b[39;49m To update, run: \u001b[0m\u001b[32;49mpython -m pip install --upgrade pip\u001b[0m\n",
      "Note: you may need to restart the kernel to use updated packages.\n",
      "Warning: PySpark kernel has been restarted to use updated packages.\n",
      "\n"
     ]
    }
   ],
   "source": [
    "%pip install azure-core\n",
    "%pip install azure-cosmos"
   ]
  },
  {
   "cell_type": "markdown",
   "id": "1234f507-ff47-4d7a-890a-209e04d116fc",
   "metadata": {
    "microsoft": {
     "language": "python",
     "language_group": "synapse_pyspark"
    },
    "nteract": {
     "transient": {
      "deleting": false
     }
    }
   },
   "source": [
    "This following imports various modules and functions that are essential for working with Spark DataFrames, performing data transformations, and utilizing Azure OpenAI services."
   ]
  },
  {
   "cell_type": "code",
   "execution_count": 2,
   "id": "9f16601a-d681-4402-acbe-85b7ad36a931",
   "metadata": {
    "jupyter": {
     "outputs_hidden": false,
     "source_hidden": false
    },
    "microsoft": {
     "language": "python",
     "language_group": "synapse_pyspark"
    },
    "nteract": {
     "transient": {
      "deleting": false
     }
    }
   },
   "outputs": [
    {
     "data": {
      "application/vnd.livy.statement-meta+json": {
       "execution_finish_time": "2025-09-25T15:18:48.2820898Z",
       "execution_start_time": "2025-09-25T15:18:45.8937199Z",
       "livy_statement_state": "available",
       "normalized_state": "finished",
       "parent_msg_id": "8dd05aee-128f-4ec5-a5ef-ad4e9eb42e9b",
       "queued_time": "2025-09-25T15:18:06.4314436Z",
       "session_id": "9d21c6f1-e29a-4478-9370-27b520a80d01",
       "session_start_time": null,
       "spark_pool": null,
       "state": "finished",
       "statement_id": 10,
       "statement_ids": [
        10
       ]
      },
      "text/plain": [
       "StatementMeta(, 9d21c6f1-e29a-4478-9370-27b520a80d01, 10, Finished, Available, Finished)"
      ]
     },
     "metadata": {},
     "output_type": "display_data"
    }
   ],
   "source": [
    "import base64\n",
    "import json\n",
    "import time\n",
    "from datetime import datetime, timezone\n",
    "from azure.core.credentials import AccessToken\n",
    "from azure.storage.filedatalake import DataLakeServiceClient\n",
    "import azure.cosmos\n",
    "from azure.cosmos import CosmosClient, PartitionKey\n",
    "\n",
    "from pyspark.sql import SparkSession, Row\n",
    "from pyspark.sql import functions as F\n",
    "from pyspark.sql.functions import (col, explode, from_json, sum as _sum, lower, trim,\n",
    "                                    udf, max, expr, lit, when, array_contains)\n",
    "from pyspark.sql.types import (ArrayType, MapType, StringType, StructType, StructField)\n",
    "\n",
    "from synapse.ml.services.openai import OpenAIChatCompletion"
   ]
  },
  {
   "cell_type": "markdown",
   "id": "29671a8a-8b55-4d94-b868-4e3f92bed263",
   "metadata": {
    "microsoft": {
     "language": "python",
     "language_group": "synapse_pyspark"
    },
    "nteract": {
     "transient": {
      "deleting": false
     }
    }
   },
   "source": [
    "#### Dataset\n",
    "The dataset used in this demo is stored in CosmosDB. To facilitate analysis, the data is mirrored into OneLake and brought into the Lakehouse via a shortcut. This approach ensures that we are not duplicating any data, maintaining a single copy in CosmosDB while providing seamless access for processing and analysis in the Lakehouse environment.\n",
    "The synchronization between CosmosDB and the Lakehouse happens within a few minutes, which allows near real-time analysis for many applications."
   ]
  },
  {
   "cell_type": "markdown",
   "id": "5baafac9-2ebc-4fad-8404-ab71a8c9de80",
   "metadata": {
    "microsoft": {
     "language": "python",
     "language_group": "synapse_pyspark"
    },
    "nteract": {
     "transient": {
      "deleting": false
     }
    }
   },
   "source": [
    "\n",
    "let's load the chat history data from the mirrored database into a spark dataframe."
   ]
  },
  {
   "cell_type": "code",
   "execution_count": 3,
   "id": "8eeb558e-8b9d-4cd9-98c1-12d438903dfa",
   "metadata": {
    "collapsed": false,
    "jupyter": {
     "outputs_hidden": false,
     "source_hidden": false
    },
    "microsoft": {
     "language": "python",
     "language_group": "synapse_pyspark"
    },
    "nteract": {
     "transient": {
      "deleting": false
     }
    }
   },
   "outputs": [
    {
     "data": {
      "application/vnd.livy.statement-meta+json": {
       "execution_finish_time": "2025-09-25T15:19:10.8890449Z",
       "execution_start_time": "2025-09-25T15:18:48.2841358Z",
       "livy_statement_state": "available",
       "normalized_state": "finished",
       "parent_msg_id": "adfde98e-e695-45f1-8dac-6cf25bcfd325",
       "queued_time": "2025-09-25T15:18:06.8352088Z",
       "session_id": "9d21c6f1-e29a-4478-9370-27b520a80d01",
       "session_start_time": null,
       "spark_pool": null,
       "state": "finished",
       "statement_id": 11,
       "statement_ids": [
        11
       ]
      },
      "text/plain": [
       "StatementMeta(, 9d21c6f1-e29a-4478-9370-27b520a80d01, 11, Finished, Available, Finished)"
      ]
     },
     "metadata": {},
     "output_type": "display_data"
    },
    {
     "data": {
      "application/vnd.synapse.widget-view+json": {
       "widget_id": "1acaff00-872e-4d4a-83a0-c041727d619e",
       "widget_type": "Synapse.DataFrame"
      },
      "text/plain": [
       "SynapseWidget(Synapse.DataFrame, 1acaff00-872e-4d4a-83a0-c041727d619e)"
      ]
     },
     "metadata": {},
     "output_type": "display_data"
    }
   ],
   "source": [
    "chat_history_container_name = 'chat_history'\n",
    "#df = spark.sql(f\"SELECT * FROM cdb_demo_lh.{chat_history_container_name} WHERE _ts > {max_last_analyzed_ts}\")\n",
    "df = spark.sql(f\"SELECT * FROM cdb_demo_lh.{chat_history_container_name}\")\n",
    "display(df.limit(2))"
   ]
  },
  {
   "cell_type": "markdown",
   "id": "265becef-d73e-4ef6-a64d-f66764b52ece",
   "metadata": {
    "microsoft": {
     "language": "python",
     "language_group": "synapse_pyspark"
    },
    "nteract": {
     "transient": {
      "deleting": false
     }
    }
   },
   "source": [
    "#### 2) Extract sentiments around product features through Fabric's built-in Azure OpenAI using SynapseML library"
   ]
  },
  {
   "cell_type": "markdown",
   "id": "554a74b8-68cb-465b-9c6e-cc1a84b738a7",
   "metadata": {
    "microsoft": {
     "language": "python",
     "language_group": "synapse_pyspark"
    },
    "nteract": {
     "transient": {
      "deleting": false
     }
    }
   },
   "source": [
    "\n",
    "In this section, we demonstrate how to use the Synapse ML library to call Azure OpenAI at scale. The process involves creating a user-defined function (UDF) to transform user requests into the desired format, defining the schema for the transformed data, and applying the transformation to the DataFrame. This approach ensures scalability and efficient processing of large datasets"
   ]
  },
  {
   "cell_type": "markdown",
   "id": "0d9784f8-d27e-4696-99aa-bd812af5d638",
   "metadata": {
    "microsoft": {
     "language": "python",
     "language_group": "synapse_pyspark"
    },
    "nteract": {
     "transient": {
      "deleting": false
     }
    }
   },
   "source": [
    "NOTE: Before the advent of large language models (LLMs), extracting structured information from chat data was a complex and time-consuming task. It typically involved several steps and required expertise in natural language processing (NLP) techniques such as named entity recognition (NER), sentiment analysis, and feature extraction.\n",
    "\n",
    "1. **Named Entity Recognition (NER)**: Identifying entities like product names, brands, and types required training NER models on annotated datasets. This process involved manually labeling a large amount of data, training the model, and continuously fine-tuning it to improve accuracy.\n",
    "\n",
    "2. **Sentiment Analysis**: Determining the sentiment around each product mentioned in the conversation required separate sentiment analysis models. These models also needed to be trained on labeled data and fine-tuned to handle the nuances of human language.\n",
    "\n",
    "3. **Feature Extraction**: Extracting features that are liked or disliked about each product involved additional NLP techniques. This often required custom rule-based systems or machine learning models to identify and categorize features mentioned in the text.\n",
    "\n",
    "4. **Integration and Transformation**: Combining the outputs of these different models into a structured format like JSON required additional code to integrate the results and transform them into the desired format.\n",
    "\n",
    "With LLMs, the workflow is significantly simplified:\n",
    "\n",
    "- **Unified Model**: LLMs can perform multiple NLP tasks within a single model. This means that the same model can handle NER, sentiment analysis, and feature extraction without the need for separate models for each task.\n",
    "- **Prompt Engineering**: Instead of training and fine-tuning multiple models, you can use prompt engineering to guide the LLM to generate the desired output. This involves crafting a prompt that instructs the model on what information to extract and how to format it.\n",
    "- **Reduced Manual Effort**: LLMs can understand and generate human-like text, reducing the need for extensive manual labeling and fine-tuning. This makes it easier to adapt the model to new tasks and domains.\n",
    "- **Scalability**: LLMs can process large volumes of data quickly and accurately, making it easier to scale the extraction process to handle more conversations and extract more detailed information.\n",
    "\n",
    "In summary, LLMs simplify the workflow by providing a unified model that can handle multiple NLP tasks, reducing the need for manual effort and making it easier to scale the extraction process. This allows you to focus on crafting effective prompts and integrating the model's output into your analysis.\n"
   ]
  },
  {
   "cell_type": "code",
   "execution_count": 4,
   "id": "7922401d-da8e-472e-b40c-724ba88fbb93",
   "metadata": {
    "collapsed": false,
    "jupyter": {
     "outputs_hidden": false,
     "source_hidden": false
    },
    "microsoft": {
     "language": "python",
     "language_group": "synapse_pyspark"
    },
    "nteract": {
     "transient": {
      "deleting": false
     }
    }
   },
   "outputs": [
    {
     "data": {
      "application/vnd.livy.statement-meta+json": {
       "execution_finish_time": "2025-09-25T15:19:13.347749Z",
       "execution_start_time": "2025-09-25T15:19:10.8912552Z",
       "livy_statement_state": "available",
       "normalized_state": "finished",
       "parent_msg_id": "428ca09f-4350-40c8-adad-7a2fc818d3fc",
       "queued_time": "2025-09-25T15:18:07.1658368Z",
       "session_id": "9d21c6f1-e29a-4478-9370-27b520a80d01",
       "session_start_time": null,
       "spark_pool": null,
       "state": "finished",
       "statement_id": 12,
       "statement_ids": [
        12
       ]
      },
      "text/plain": [
       "StatementMeta(, 9d21c6f1-e29a-4478-9370-27b520a80d01, 12, Finished, Available, Finished)"
      ]
     },
     "metadata": {},
     "output_type": "display_data"
    },
    {
     "data": {
      "application/vnd.synapse.widget-view+json": {
       "widget_id": "a604a6e3-3e63-4604-9a27-ba0fdaee19b8",
       "widget_type": "Synapse.DataFrame"
      },
      "text/plain": [
       "SynapseWidget(Synapse.DataFrame, a604a6e3-3e63-4604-9a27-ba0fdaee19b8)"
      ]
     },
     "metadata": {},
     "output_type": "display_data"
    }
   ],
   "source": [
    "# Function to create messages (same as in your example)\n",
    "def make_message(role, content):\n",
    "    return {\"role\": role, \"content\": content, \"name\": role}\n",
    "\n",
    "prompt = \"You are an expert bussiness analyst, give a conversation between client and a chatbot, you identify the list of products discussed, sentiment around each product, features that are liked or disliked and provide results as a json file.\\\n",
    "            when identifying product, separate type, brand, and name \\\n",
    "            choices for sentiment: enthusiastic, neutral, obstructionist \\\n",
    "            choices for product features (like or disliked): design, usability, color, size, price, brand \\\n",
    "            Please return a a list of jsons only. Please use the example below as a template\\\n",
    "            [{\\\"product\\\": {\\\"type\\\": \\\"Climbing\\\", \\\"brand\\\": \\\"Gravitator\\\", \\\"name\\\": \\\"Gravity Beam Climbing Rope\\\"}, \\\"sentiment\\\": \\\"enthusiastic\\\", \\\"features\\\": {\\\"like\\\": [\\\"design\\\", \\\"usability\\\", \\\"color\\\", \\\"size\\\", \\\"price\\\", \\\"brand\\\"], \\\"dislike\\\": []}}, {\\\"product\\\": {\\\"type\\\": \\\"Footwear\\\", \\\"brand\\\": \\\"Raptor Elite\\\", \\\"name\\\": \\\"Trek Xtreme Hiking Shoes\\\"}, \\\"sentiment\\\": \\\"enthusiastic\\\", \\\"features\\\": {\\\"like\\\": [\\\"design\\\", \\\"usability\\\", \\\"color\\\", \\\"size\\\", \\\"price\\\", \\\"brand\\\"], \\\"dislike\\\": []}}, {\\\"product\\\": {\\\"type\\\": \\\"Navigation\\\", \\\"brand\\\": \\\"AirStrider\\\", \\\"name\\\": \\\"VenturePro GPS Watch\\\"}, \\\"sentiment\\\": \\\"enthusiastic\\\", \\\"features\\\": {\\\"like\\\": [\\\"design\\\", \\\"usability\\\", \\\"price\\\", \\\"brand\\\"], \\\"dislike\\\": []}}]\\\n",
    "            \"\n",
    "\n",
    "# UDF to transform user request into the desired list of dictionaries\n",
    "def transform_to_messages(messages):\n",
    "    system_message = make_message(\"system\", prompt)\n",
    "    user_message = make_message(\"user\", messages)\n",
    "    return [system_message, user_message]\n",
    "\n",
    "# Define the schema for the list of dictionaries\n",
    "message_schema = ArrayType(\n",
    "    StructType([\n",
    "        StructField(\"role\", StringType(), True),\n",
    "        StructField(\"content\", StringType(), True),\n",
    "        StructField(\"name\", StringType(), True)\n",
    "    ])\n",
    ")\n",
    "\n",
    "# Register the UDF\n",
    "transform_udf = udf(transform_to_messages, message_schema)\n",
    "\n",
    "# Apply the UDF to the DataFrame\n",
    "df_transformed = df.withColumn(\"messages\", transform_udf(col(\"Messages\")))\n",
    "\n",
    "# Show the transformed DataFrame\n",
    "display(df_transformed.limit(2))"
   ]
  },
  {
   "cell_type": "markdown",
   "id": "0b6af49e-f40c-4a18-af0c-29b142b6febd",
   "metadata": {
    "microsoft": {
     "language": "python",
     "language_group": "synapse_pyspark"
    },
    "nteract": {
     "transient": {
      "deleting": false
     }
    }
   },
   "source": [
    "The following code snippet highlights how to perform chat completion for all the chat conversation!"
   ]
  },
  {
   "cell_type": "code",
   "execution_count": 5,
   "id": "d5ce75e3-a13a-4925-b0dd-009562f9e985",
   "metadata": {
    "collapsed": false,
    "jupyter": {
     "outputs_hidden": false,
     "source_hidden": false
    },
    "microsoft": {
     "language": "python",
     "language_group": "synapse_pyspark"
    },
    "nteract": {
     "transient": {
      "deleting": false
     }
    }
   },
   "outputs": [
    {
     "data": {
      "application/vnd.livy.statement-meta+json": {
       "execution_finish_time": "2025-09-25T15:19:25.2129805Z",
       "execution_start_time": "2025-09-25T15:19:13.3498554Z",
       "livy_statement_state": "available",
       "normalized_state": "finished",
       "parent_msg_id": "e43cd8d3-c2b8-4d1c-9adf-d177ab98c20b",
       "queued_time": "2025-09-25T15:18:07.4059055Z",
       "session_id": "9d21c6f1-e29a-4478-9370-27b520a80d01",
       "session_start_time": null,
       "spark_pool": null,
       "state": "finished",
       "statement_id": 13,
       "statement_ids": [
        13
       ]
      },
      "text/plain": [
       "StatementMeta(, 9d21c6f1-e29a-4478-9370-27b520a80d01, 13, Finished, Available, Finished)"
      ]
     },
     "metadata": {},
     "output_type": "display_data"
    },
    {
     "data": {
      "application/vnd.synapse.widget-view+json": {
       "widget_id": "0a1ff0c9-8019-4a8d-b6c4-facfd2dd7d3e",
       "widget_type": "Synapse.DataFrame"
      },
      "text/plain": [
       "SynapseWidget(Synapse.DataFrame, 0a1ff0c9-8019-4a8d-b6c4-facfd2dd7d3e)"
      ]
     },
     "metadata": {},
     "output_type": "display_data"
    }
   ],
   "source": [
    "chat_completion = (\n",
    "    OpenAIChatCompletion()\n",
    "    .setDeploymentName(\"gpt-4.1\") # deploymentName could be one of {gpt-35-turbo-0125 or gpt-4-32k}\n",
    "    .setMessagesCol(\"messages\")\n",
    "    .setErrorCol(\"error\")\n",
    "    .setOutputCol(\"chat_completions\")\n",
    ")\n",
    "\n",
    "df_analyzed = chat_completion.transform(df_transformed).select(\n",
    "        \"messages\", \"chat_completions.choices.message.content\")\n",
    "\n",
    "display(df_analyzed.limit(2))"
   ]
  },
  {
   "cell_type": "markdown",
   "id": "45ee419d-7a5d-44f2-b4d2-79d791507288",
   "metadata": {
    "microsoft": {
     "language": "python",
     "language_group": "synapse_pyspark"
    },
    "nteract": {
     "transient": {
      "deleting": false
     }
    }
   },
   "source": [
    "### 3) Defining and Applying a Schema for Targeted Sentiment Extraction from LLM Responses"
   ]
  },
  {
   "cell_type": "markdown",
   "id": "96479b57-02d5-4469-a00f-55857ecc7ca3",
   "metadata": {
    "microsoft": {
     "language": "python",
     "language_group": "synapse_pyspark"
    },
    "nteract": {
     "transient": {
      "deleting": false
     }
    }
   },
   "source": [
    "The following line of code adds a new column called \"json_string\" to the df_analyzed DataFrame. This new column contains the concatenated values from the \"content\" column, combined into a single string without any separators. This can be useful for further processing or analysis where a single string representation of the content is needed."
   ]
  },
  {
   "cell_type": "code",
   "execution_count": 6,
   "id": "8e40ed98-ef71-4502-a9b3-48dfc2b72225",
   "metadata": {
    "jupyter": {
     "outputs_hidden": false,
     "source_hidden": false
    },
    "microsoft": {
     "language": "python",
     "language_group": "synapse_pyspark"
    },
    "nteract": {
     "transient": {
      "deleting": false
     }
    }
   },
   "outputs": [
    {
     "data": {
      "application/vnd.livy.statement-meta+json": {
       "execution_finish_time": "2025-09-25T15:19:25.5499308Z",
       "execution_start_time": "2025-09-25T15:19:25.2150441Z",
       "livy_statement_state": "available",
       "normalized_state": "finished",
       "parent_msg_id": "14ff5429-490b-4eaa-8c2a-19c113637fd7",
       "queued_time": "2025-09-25T15:18:07.7011111Z",
       "session_id": "9d21c6f1-e29a-4478-9370-27b520a80d01",
       "session_start_time": null,
       "spark_pool": null,
       "state": "finished",
       "statement_id": 14,
       "statement_ids": [
        14
       ]
      },
      "text/plain": [
       "StatementMeta(, 9d21c6f1-e29a-4478-9370-27b520a80d01, 14, Finished, Available, Finished)"
      ]
     },
     "metadata": {},
     "output_type": "display_data"
    }
   ],
   "source": [
    "df_parsed = df_analyzed.withColumn(\"json_string\", F.concat_ws(\"\", col(\"content\")))"
   ]
  },
  {
   "cell_type": "code",
   "execution_count": 7,
   "id": "7bf93fbd-4d03-49d1-8800-989eaec3c862",
   "metadata": {
    "collapsed": false,
    "jupyter": {
     "outputs_hidden": false,
     "source_hidden": false
    },
    "microsoft": {
     "language": "python",
     "language_group": "synapse_pyspark"
    },
    "nteract": {
     "transient": {
      "deleting": false
     }
    }
   },
   "outputs": [
    {
     "data": {
      "application/vnd.livy.statement-meta+json": {
       "execution_finish_time": "2025-09-25T15:19:30.2424106Z",
       "execution_start_time": "2025-09-25T15:19:25.5519679Z",
       "livy_statement_state": "available",
       "normalized_state": "finished",
       "parent_msg_id": "8539b22f-0c75-44b3-9dc3-e0677b9b3cd7",
       "queued_time": "2025-09-25T15:18:07.8279887Z",
       "session_id": "9d21c6f1-e29a-4478-9370-27b520a80d01",
       "session_start_time": null,
       "spark_pool": null,
       "state": "finished",
       "statement_id": 15,
       "statement_ids": [
        15
       ]
      },
      "text/plain": [
       "StatementMeta(, 9d21c6f1-e29a-4478-9370-27b520a80d01, 15, Finished, Available, Finished)"
      ]
     },
     "metadata": {},
     "output_type": "display_data"
    },
    {
     "data": {
      "application/vnd.synapse.widget-view+json": {
       "widget_id": "a2f1a6ad-b856-4de8-8315-8130d8e906f7",
       "widget_type": "Synapse.DataFrame"
      },
      "text/plain": [
       "SynapseWidget(Synapse.DataFrame, a2f1a6ad-b856-4de8-8315-8130d8e906f7)"
      ]
     },
     "metadata": {},
     "output_type": "display_data"
    }
   ],
   "source": [
    "display(df_parsed.limit(2))"
   ]
  },
  {
   "cell_type": "markdown",
   "id": "4034daf9-911d-4c5d-9128-8da705a39827",
   "metadata": {
    "microsoft": {
     "language": "python",
     "language_group": "synapse_pyspark"
    },
    "nteract": {
     "transient": {
      "deleting": false
     }
    }
   },
   "source": [
    "In the following section, we define the schema for parsing JSON data and apply it to the DataFrame. This schema outlines the structure of the JSON data, including product details, sentiment, and features. By using this schema, we can transform the JSON strings into structured data, making it easier to analyze and process.\n",
    "\n"
   ]
  },
  {
   "cell_type": "code",
   "execution_count": 8,
   "id": "cf373c88-700b-4fcf-9e24-000c290b63d6",
   "metadata": {
    "jupyter": {
     "outputs_hidden": false,
     "source_hidden": false
    },
    "microsoft": {
     "language": "python",
     "language_group": "synapse_pyspark"
    },
    "nteract": {
     "transient": {
      "deleting": false
     }
    }
   },
   "outputs": [
    {
     "data": {
      "application/vnd.livy.statement-meta+json": {
       "execution_finish_time": "2025-09-25T15:19:30.5521239Z",
       "execution_start_time": "2025-09-25T15:19:30.2445444Z",
       "livy_statement_state": "available",
       "normalized_state": "finished",
       "parent_msg_id": "e1983e8a-5d4e-41b0-86d5-2885539d5ffe",
       "queued_time": "2025-09-25T15:18:08.1069761Z",
       "session_id": "9d21c6f1-e29a-4478-9370-27b520a80d01",
       "session_start_time": null,
       "spark_pool": null,
       "state": "finished",
       "statement_id": 16,
       "statement_ids": [
        16
       ]
      },
      "text/plain": [
       "StatementMeta(, 9d21c6f1-e29a-4478-9370-27b520a80d01, 16, Finished, Available, Finished)"
      ]
     },
     "metadata": {},
     "output_type": "display_data"
    }
   ],
   "source": [
    "# Define schema for JSON parsing\n",
    "schema = ArrayType(\n",
    "    StructType([\n",
    "        StructField(\"product\", StructType([\n",
    "            StructField(\"type\", StringType(), True),\n",
    "            StructField(\"brand\", StringType(), True),\n",
    "            StructField(\"name\", StringType(), True)\n",
    "        ]), True),\n",
    "        StructField(\"sentiment\", StringType(), True),\n",
    "        StructField(\"features\", StructType([\n",
    "            StructField(\"like\", ArrayType(StringType()), True),\n",
    "            StructField(\"dislike\", ArrayType(StringType()), True)\n",
    "        ]), True)\n",
    "    ])\n",
    ")"
   ]
  },
  {
   "cell_type": "code",
   "execution_count": 9,
   "id": "3388fedd-b1c5-42d8-bb53-fab070cc5fd2",
   "metadata": {
    "jupyter": {
     "outputs_hidden": false,
     "source_hidden": false
    },
    "microsoft": {
     "language": "python",
     "language_group": "synapse_pyspark"
    },
    "nteract": {
     "transient": {
      "deleting": false
     }
    }
   },
   "outputs": [
    {
     "data": {
      "application/vnd.livy.statement-meta+json": {
       "execution_finish_time": "2025-09-25T15:19:30.8891415Z",
       "execution_start_time": "2025-09-25T15:19:30.5541651Z",
       "livy_statement_state": "available",
       "normalized_state": "finished",
       "parent_msg_id": "5f194f8d-5ee6-4741-8ea1-2a3a946dbd96",
       "queued_time": "2025-09-25T15:18:08.2257851Z",
       "session_id": "9d21c6f1-e29a-4478-9370-27b520a80d01",
       "session_start_time": null,
       "spark_pool": null,
       "state": "finished",
       "statement_id": 17,
       "statement_ids": [
        17
       ]
      },
      "text/plain": [
       "StatementMeta(, 9d21c6f1-e29a-4478-9370-27b520a80d01, 17, Finished, Available, Finished)"
      ]
     },
     "metadata": {},
     "output_type": "display_data"
    }
   ],
   "source": [
    "# Parse JSON string into array of structs\n",
    "df_parsed_schema = df_parsed.withColumn(\"parsed_json\", from_json(col(\"json_string\"), schema))"
   ]
  },
  {
   "cell_type": "markdown",
   "id": "a4f50721-97a1-4623-a749-174f0644f2f1",
   "metadata": {
    "microsoft": {
     "language": "python",
     "language_group": "synapse_pyspark"
    },
    "nteract": {
     "transient": {
      "deleting": false
     }
    }
   },
   "source": [
    "Next, we explode the parsed JSON column to create a new row for each element in the array, allowing for more granular analysis of the data."
   ]
  },
  {
   "cell_type": "code",
   "execution_count": 10,
   "id": "d58fb00c-db0c-4965-b225-ce28d00df74e",
   "metadata": {
    "jupyter": {
     "outputs_hidden": false,
     "source_hidden": false
    },
    "microsoft": {
     "language": "python",
     "language_group": "synapse_pyspark"
    },
    "nteract": {
     "transient": {
      "deleting": false
     }
    }
   },
   "outputs": [
    {
     "data": {
      "application/vnd.livy.statement-meta+json": {
       "execution_finish_time": "2025-09-25T15:19:31.2164086Z",
       "execution_start_time": "2025-09-25T15:19:30.8910631Z",
       "livy_statement_state": "available",
       "normalized_state": "finished",
       "parent_msg_id": "65b051bd-37b2-4a73-b4fb-c6748bbeb7a2",
       "queued_time": "2025-09-25T15:18:08.422201Z",
       "session_id": "9d21c6f1-e29a-4478-9370-27b520a80d01",
       "session_start_time": null,
       "spark_pool": null,
       "state": "finished",
       "statement_id": 18,
       "statement_ids": [
        18
       ]
      },
      "text/plain": [
       "StatementMeta(, 9d21c6f1-e29a-4478-9370-27b520a80d01, 18, Finished, Available, Finished)"
      ]
     },
     "metadata": {},
     "output_type": "display_data"
    }
   ],
   "source": [
    "# Explode the parsed JSON column\n",
    "df_exploded = df_parsed_schema.withColumn(\"exploded\", explode(col(\"parsed_json\")))"
   ]
  },
  {
   "cell_type": "code",
   "execution_count": 11,
   "id": "3d6ed3c3-2ec5-4eab-8967-13fc9e890fec",
   "metadata": {
    "collapsed": false,
    "jupyter": {
     "outputs_hidden": false,
     "source_hidden": false
    },
    "microsoft": {
     "language": "python",
     "language_group": "synapse_pyspark"
    },
    "nteract": {
     "transient": {
      "deleting": false
     }
    }
   },
   "outputs": [
    {
     "data": {
      "application/vnd.livy.statement-meta+json": {
       "execution_finish_time": "2025-09-25T15:19:36.0673985Z",
       "execution_start_time": "2025-09-25T15:19:31.2186806Z",
       "livy_statement_state": "available",
       "normalized_state": "finished",
       "parent_msg_id": "f4fe1f20-8ddf-4029-ae18-542b2b1ab24c",
       "queued_time": "2025-09-25T15:18:08.6048997Z",
       "session_id": "9d21c6f1-e29a-4478-9370-27b520a80d01",
       "session_start_time": null,
       "spark_pool": null,
       "state": "finished",
       "statement_id": 19,
       "statement_ids": [
        19
       ]
      },
      "text/plain": [
       "StatementMeta(, 9d21c6f1-e29a-4478-9370-27b520a80d01, 19, Finished, Available, Finished)"
      ]
     },
     "metadata": {},
     "output_type": "display_data"
    },
    {
     "data": {
      "application/vnd.synapse.widget-view+json": {
       "widget_id": "6c4d47c6-f89f-4c12-834d-fea6a9a1ebbb",
       "widget_type": "Synapse.DataFrame"
      },
      "text/plain": [
       "SynapseWidget(Synapse.DataFrame, 6c4d47c6-f89f-4c12-834d-fea6a9a1ebbb)"
      ]
     },
     "metadata": {},
     "output_type": "display_data"
    }
   ],
   "source": [
    "display(df_exploded.limit(2))"
   ]
  },
  {
   "cell_type": "markdown",
   "id": "d431324d-d50b-4679-9ffe-bca4961f4a4e",
   "metadata": {
    "microsoft": {
     "language": "python",
     "language_group": "synapse_pyspark"
    },
    "nteract": {
     "transient": {
      "deleting": false
     }
    }
   },
   "source": [
    "Since we have the structured data, we continue to flatten the nested information. By exploding nested information, we bring desired information onto the same row as a new column. This process ensures that each product, along with its associated sentiment and features, is represented in a single, flat row, facilitating more efficient analysis and processing.\n",
    "\n",
    "Hence, we continue to extract the like and dislike features from the exploded JSON column."
   ]
  },
  {
   "cell_type": "code",
   "execution_count": 12,
   "id": "7621b813-6821-4ba6-bbbf-a90f02e6d238",
   "metadata": {
    "jupyter": {
     "outputs_hidden": false,
     "source_hidden": false
    },
    "microsoft": {
     "language": "python",
     "language_group": "synapse_pyspark"
    },
    "nteract": {
     "transient": {
      "deleting": false
     }
    }
   },
   "outputs": [
    {
     "data": {
      "application/vnd.livy.statement-meta+json": {
       "execution_finish_time": "2025-09-25T15:19:36.3976949Z",
       "execution_start_time": "2025-09-25T15:19:36.0694405Z",
       "livy_statement_state": "available",
       "normalized_state": "finished",
       "parent_msg_id": "6347eeec-fdc1-463e-8450-ee845d17b136",
       "queued_time": "2025-09-25T15:18:08.8145535Z",
       "session_id": "9d21c6f1-e29a-4478-9370-27b520a80d01",
       "session_start_time": null,
       "spark_pool": null,
       "state": "finished",
       "statement_id": 20,
       "statement_ids": [
        20
       ]
      },
      "text/plain": [
       "StatementMeta(, 9d21c6f1-e29a-4478-9370-27b520a80d01, 20, Finished, Available, Finished)"
      ]
     },
     "metadata": {},
     "output_type": "display_data"
    }
   ],
   "source": [
    "# Extract `like` and `dislike` features\n",
    "df_exploded = df_exploded.withColumn(\"features\", col(\"exploded.features\"))"
   ]
  },
  {
   "cell_type": "code",
   "execution_count": 13,
   "id": "bcede894-1569-4622-b2aa-29b07563d416",
   "metadata": {
    "jupyter": {
     "outputs_hidden": false,
     "source_hidden": false
    },
    "microsoft": {
     "language": "python",
     "language_group": "synapse_pyspark"
    },
    "nteract": {
     "transient": {
      "deleting": false
     }
    }
   },
   "outputs": [
    {
     "data": {
      "application/vnd.livy.statement-meta+json": {
       "execution_finish_time": "2025-09-25T15:19:36.7251233Z",
       "execution_start_time": "2025-09-25T15:19:36.3997988Z",
       "livy_statement_state": "available",
       "normalized_state": "finished",
       "parent_msg_id": "91e65c6a-f558-4bdf-8c1f-dbb85d2b4f0c",
       "queued_time": "2025-09-25T15:18:09.0023352Z",
       "session_id": "9d21c6f1-e29a-4478-9370-27b520a80d01",
       "session_start_time": null,
       "spark_pool": null,
       "state": "finished",
       "statement_id": 21,
       "statement_ids": [
        21
       ]
      },
      "text/plain": [
       "StatementMeta(, 9d21c6f1-e29a-4478-9370-27b520a80d01, 21, Finished, Available, Finished)"
      ]
     },
     "metadata": {},
     "output_type": "display_data"
    }
   ],
   "source": [
    "# Extract `like` and `dislike` features\n",
    "df_exploded = df_exploded.withColumn(\"like_features\", col(\"features.like\"))\n",
    "df_exploded = df_exploded.withColumn(\"dislike_features\", col(\"features.dislike\"))\n"
   ]
  },
  {
   "cell_type": "markdown",
   "id": "5a456b99-691f-44ec-ade8-1d886e001ae7",
   "metadata": {
    "microsoft": {
     "language": "python",
     "language_group": "synapse_pyspark"
    },
    "nteract": {
     "transient": {
      "deleting": false
     }
    }
   },
   "source": [
    "We iterate through a list of features and create new columns for each feature, indicating whether it is liked or disliked. Each new column contains binary values: 1 if the feature is liked or disliked, and 0 otherwise. This step further refines our dataset, making it easier to analyze specific aspects of product features"
   ]
  },
  {
   "cell_type": "code",
   "execution_count": 14,
   "id": "b7388493-5335-4b5a-93e8-b233372a3e6a",
   "metadata": {
    "jupyter": {
     "outputs_hidden": false,
     "source_hidden": false
    },
    "microsoft": {
     "language": "python",
     "language_group": "synapse_pyspark"
    },
    "nteract": {
     "transient": {
      "deleting": false
     }
    }
   },
   "outputs": [
    {
     "data": {
      "application/vnd.livy.statement-meta+json": {
       "execution_finish_time": "2025-09-25T15:19:37.6141683Z",
       "execution_start_time": "2025-09-25T15:19:36.7271322Z",
       "livy_statement_state": "available",
       "normalized_state": "finished",
       "parent_msg_id": "ba56ef14-f65f-4ecf-a63a-1f36673bd845",
       "queued_time": "2025-09-25T15:18:09.1796735Z",
       "session_id": "9d21c6f1-e29a-4478-9370-27b520a80d01",
       "session_start_time": null,
       "spark_pool": null,
       "state": "finished",
       "statement_id": 22,
       "statement_ids": [
        22
       ]
      },
      "text/plain": [
       "StatementMeta(, 9d21c6f1-e29a-4478-9370-27b520a80d01, 22, Finished, Available, Finished)"
      ]
     },
     "metadata": {},
     "output_type": "display_data"
    }
   ],
   "source": [
    "features_list = [\"price\", \"size\", \"usability\", \"color\", \"brand\", \"design\"]\n",
    "\n",
    "for feature in features_list:\n",
    "    df_exploded = df_exploded.withColumn(\n",
    "        f\"liked_{feature}\",\n",
    "        when(array_contains(col(\"like_features\"), lit(feature)), 1).otherwise(0)\n",
    "    ).withColumn(\n",
    "        f\"disliked_{feature}\",\n",
    "        when(array_contains(col(\"dislike_features\"), lit(feature)), 1).otherwise(0)\n",
    "    )\n"
   ]
  },
  {
   "cell_type": "markdown",
   "id": "5fd1b03a-fe21-4914-855f-fbc18c156b0e",
   "metadata": {
    "microsoft": {
     "language": "python",
     "language_group": "synapse_pyspark"
    },
    "nteract": {
     "transient": {
      "deleting": false
     }
    }
   },
   "source": [
    "Continue flattening the nested information .."
   ]
  },
  {
   "cell_type": "code",
   "execution_count": 15,
   "id": "bff20d64-3b32-46e7-aa39-1a8ae711b3cb",
   "metadata": {
    "jupyter": {
     "outputs_hidden": false,
     "source_hidden": false
    },
    "microsoft": {
     "language": "python",
     "language_group": "synapse_pyspark"
    },
    "nteract": {
     "transient": {
      "deleting": false
     }
    }
   },
   "outputs": [
    {
     "data": {
      "application/vnd.livy.statement-meta+json": {
       "execution_finish_time": "2025-09-25T15:19:37.9664758Z",
       "execution_start_time": "2025-09-25T15:19:37.6162202Z",
       "livy_statement_state": "available",
       "normalized_state": "finished",
       "parent_msg_id": "d9de6738-7a5f-47da-b903-02f75572808e",
       "queued_time": "2025-09-25T15:18:09.3755055Z",
       "session_id": "9d21c6f1-e29a-4478-9370-27b520a80d01",
       "session_start_time": null,
       "spark_pool": null,
       "state": "finished",
       "statement_id": 23,
       "statement_ids": [
        23
       ]
      },
      "text/plain": [
       "StatementMeta(, 9d21c6f1-e29a-4478-9370-27b520a80d01, 23, Finished, Available, Finished)"
      ]
     },
     "metadata": {},
     "output_type": "display_data"
    }
   ],
   "source": [
    "df_exploded = df_exploded.withColumn(\"sentiment\", col(\"exploded.sentiment\"))"
   ]
  },
  {
   "cell_type": "code",
   "execution_count": 16,
   "id": "756f9f92-f8cf-45a2-9e59-fa7c7744dc46",
   "metadata": {
    "jupyter": {
     "outputs_hidden": false,
     "source_hidden": false
    },
    "microsoft": {
     "language": "python",
     "language_group": "synapse_pyspark"
    },
    "nteract": {
     "transient": {
      "deleting": false
     }
    }
   },
   "outputs": [
    {
     "data": {
      "application/vnd.livy.statement-meta+json": {
       "execution_finish_time": "2025-09-25T15:19:38.2891893Z",
       "execution_start_time": "2025-09-25T15:19:37.9685933Z",
       "livy_statement_state": "available",
       "normalized_state": "finished",
       "parent_msg_id": "ad263df7-df2a-4804-a8c8-893e5b9786f9",
       "queued_time": "2025-09-25T15:18:09.5788085Z",
       "session_id": "9d21c6f1-e29a-4478-9370-27b520a80d01",
       "session_start_time": null,
       "spark_pool": null,
       "state": "finished",
       "statement_id": 24,
       "statement_ids": [
        24
       ]
      },
      "text/plain": [
       "StatementMeta(, 9d21c6f1-e29a-4478-9370-27b520a80d01, 24, Finished, Available, Finished)"
      ]
     },
     "metadata": {},
     "output_type": "display_data"
    }
   ],
   "source": [
    "sentiment_list = [\"enthusiastic\", \"neutral\", \"obstructionist\"]\n",
    "\n",
    "for sent in sentiment_list:\n",
    "    df_exploded = df_exploded.withColumn(\n",
    "        sent,\n",
    "        F.when(F.col(\"sentiment\") == sent, 1).otherwise(0)\n",
    "    )"
   ]
  },
  {
   "cell_type": "code",
   "execution_count": 17,
   "id": "3f43e0dd-0a7e-45a1-a15d-095877ffbd1f",
   "metadata": {
    "collapsed": false,
    "jupyter": {
     "outputs_hidden": false,
     "source_hidden": false
    },
    "microsoft": {
     "language": "python",
     "language_group": "synapse_pyspark"
    },
    "nteract": {
     "transient": {
      "deleting": false
     }
    }
   },
   "outputs": [
    {
     "data": {
      "application/vnd.livy.statement-meta+json": {
       "execution_finish_time": "2025-09-25T15:19:41.8112863Z",
       "execution_start_time": "2025-09-25T15:19:38.2911832Z",
       "livy_statement_state": "available",
       "normalized_state": "finished",
       "parent_msg_id": "2eb73128-fa6f-4bc6-a0e4-5a08501c8131",
       "queued_time": "2025-09-25T15:18:09.7785077Z",
       "session_id": "9d21c6f1-e29a-4478-9370-27b520a80d01",
       "session_start_time": null,
       "spark_pool": null,
       "state": "finished",
       "statement_id": 25,
       "statement_ids": [
        25
       ]
      },
      "text/plain": [
       "StatementMeta(, 9d21c6f1-e29a-4478-9370-27b520a80d01, 25, Finished, Available, Finished)"
      ]
     },
     "metadata": {},
     "output_type": "display_data"
    },
    {
     "data": {
      "application/vnd.synapse.widget-view+json": {
       "widget_id": "1ab7e7e2-e11d-4000-a71d-9b77c4f7d484",
       "widget_type": "Synapse.DataFrame"
      },
      "text/plain": [
       "SynapseWidget(Synapse.DataFrame, 1ab7e7e2-e11d-4000-a71d-9b77c4f7d484)"
      ]
     },
     "metadata": {},
     "output_type": "display_data"
    }
   ],
   "source": [
    "display(df_exploded.limit(1))"
   ]
  },
  {
   "cell_type": "code",
   "execution_count": 18,
   "id": "ee68aa14-3d39-472d-b2ba-44284cbc22a5",
   "metadata": {
    "jupyter": {
     "outputs_hidden": false,
     "source_hidden": false
    },
    "microsoft": {
     "language": "python",
     "language_group": "synapse_pyspark"
    },
    "nteract": {
     "transient": {
      "deleting": false
     }
    }
   },
   "outputs": [
    {
     "data": {
      "application/vnd.livy.statement-meta+json": {
       "execution_finish_time": "2025-09-25T15:19:42.3107596Z",
       "execution_start_time": "2025-09-25T15:19:41.813536Z",
       "livy_statement_state": "available",
       "normalized_state": "finished",
       "parent_msg_id": "86d1e57f-962b-42bd-b3b3-22695296690a",
       "queued_time": "2025-09-25T15:18:09.9838213Z",
       "session_id": "9d21c6f1-e29a-4478-9370-27b520a80d01",
       "session_start_time": null,
       "spark_pool": null,
       "state": "finished",
       "statement_id": 26,
       "statement_ids": [
        26
       ]
      },
      "text/plain": [
       "StatementMeta(, 9d21c6f1-e29a-4478-9370-27b520a80d01, 26, Finished, Available, Finished)"
      ]
     },
     "metadata": {},
     "output_type": "display_data"
    }
   ],
   "source": [
    "# Extract fields from product\n",
    "df_exploded = df_exploded \\\n",
    "    .withColumn(\"product_type\", col(\"exploded.product.type\")) \\\n",
    "    .withColumn(\"product_brand\", col(\"exploded.product.brand\")) \\\n",
    "    .withColumn(\"product_name\", col(\"exploded.product.name\"))"
   ]
  },
  {
   "cell_type": "markdown",
   "id": "c3a5b0d0-3ad9-4921-8c4f-cf76137c0ff8",
   "metadata": {
    "microsoft": {
     "language": "python",
     "language_group": "synapse_pyspark"
    },
    "nteract": {
     "transient": {
      "deleting": false
     }
    }
   },
   "source": [
    "#### 4) Integrating Product Catalog to Retrieve Product IDs\""
   ]
  },
  {
   "cell_type": "markdown",
   "id": "9a16fc4d-5b07-4f9a-b2b8-2bdae38ab43b",
   "metadata": {
    "microsoft": {
     "language": "python",
     "language_group": "synapse_pyspark"
    },
    "nteract": {
     "transient": {
      "deleting": false
     }
    }
   },
   "source": [
    "In the next section, we join the data from the product catalog. In real-world applications, we may not always have access to the product IDs being used. Therefore, we retrieve the product catalog data to enrich our dataset with additional product information."
   ]
  },
  {
   "cell_type": "code",
   "execution_count": 19,
   "id": "ca9637f8-25f8-4ffd-b419-5b1acdc0ec40",
   "metadata": {
    "collapsed": false,
    "jupyter": {
     "outputs_hidden": false,
     "source_hidden": false
    },
    "microsoft": {
     "language": "python",
     "language_group": "synapse_pyspark"
    },
    "nteract": {
     "transient": {
      "deleting": false
     }
    }
   },
   "outputs": [
    {
     "data": {
      "application/vnd.livy.statement-meta+json": {
       "execution_finish_time": "2025-09-25T15:19:47.7206554Z",
       "execution_start_time": "2025-09-25T15:19:42.3129263Z",
       "livy_statement_state": "available",
       "normalized_state": "finished",
       "parent_msg_id": "c651fd3f-5ff0-4862-979b-d0464a26c496",
       "queued_time": "2025-09-25T15:18:10.1591697Z",
       "session_id": "9d21c6f1-e29a-4478-9370-27b520a80d01",
       "session_start_time": null,
       "spark_pool": null,
       "state": "finished",
       "statement_id": 27,
       "statement_ids": [
        27
       ]
      },
      "text/plain": [
       "StatementMeta(, 9d21c6f1-e29a-4478-9370-27b520a80d01, 27, Finished, Available, Finished)"
      ]
     },
     "metadata": {},
     "output_type": "display_data"
    },
    {
     "data": {
      "application/vnd.synapse.widget-view+json": {
       "widget_id": "654a7201-4e0a-44e2-a13e-9c6e08b443ae",
       "widget_type": "Synapse.DataFrame"
      },
      "text/plain": [
       "SynapseWidget(Synapse.DataFrame, 654a7201-4e0a-44e2-a13e-9c6e08b443ae)"
      ]
     },
     "metadata": {},
     "output_type": "display_data"
    }
   ],
   "source": [
    "df_product_catalog = spark.sql(\"SELECT * FROM cdb_demo_lh.product_catalog\")\n",
    "display(df_product_catalog.limit(1))"
   ]
  },
  {
   "cell_type": "markdown",
   "id": "d5040c2e-32cc-468d-b663-fb71cddc5468",
   "metadata": {
    "microsoft": {
     "language": "python",
     "language_group": "synapse_pyspark"
    },
    "nteract": {
     "transient": {
      "deleting": false
     }
    }
   },
   "source": [
    "Now let's join with product catalog to identify the product ids associated with each product"
   ]
  },
  {
   "cell_type": "code",
   "execution_count": 20,
   "id": "832c85b1-e63b-49aa-aa49-941f8bcfea9a",
   "metadata": {
    "jupyter": {
     "outputs_hidden": false,
     "source_hidden": false
    },
    "microsoft": {
     "language": "python",
     "language_group": "synapse_pyspark"
    },
    "nteract": {
     "transient": {
      "deleting": false
     }
    }
   },
   "outputs": [
    {
     "data": {
      "application/vnd.livy.statement-meta+json": {
       "execution_finish_time": "2025-09-25T15:19:48.0743048Z",
       "execution_start_time": "2025-09-25T15:19:47.7228722Z",
       "livy_statement_state": "available",
       "normalized_state": "finished",
       "parent_msg_id": "95249f48-d6ba-407f-850e-a3b474395ade",
       "queued_time": "2025-09-25T15:18:10.3660196Z",
       "session_id": "9d21c6f1-e29a-4478-9370-27b520a80d01",
       "session_start_time": null,
       "spark_pool": null,
       "state": "finished",
       "statement_id": 28,
       "statement_ids": [
        28
       ]
      },
      "text/plain": [
       "StatementMeta(, 9d21c6f1-e29a-4478-9370-27b520a80d01, 28, Finished, Available, Finished)"
      ]
     },
     "metadata": {},
     "output_type": "display_data"
    }
   ],
   "source": [
    "# Example of pattern matching using SQL expressions\n",
    "df_joined = df_exploded.join(\n",
    "    df_product_catalog,\n",
    "    (expr(\"lower(trim(product_name)) = lower(trim(name))\")),\n",
    "    \"left\"\n",
    ")\n"
   ]
  },
  {
   "cell_type": "code",
   "execution_count": 21,
   "id": "3cf92b36-f9d5-43b5-8371-0b7ae264f1d5",
   "metadata": {
    "jupyter": {
     "outputs_hidden": false,
     "source_hidden": false
    },
    "microsoft": {
     "language": "python",
     "language_group": "synapse_pyspark"
    },
    "nteract": {
     "transient": {
      "deleting": false
     }
    }
   },
   "outputs": [
    {
     "data": {
      "application/vnd.livy.statement-meta+json": {
       "execution_finish_time": "2025-09-25T15:19:48.3817362Z",
       "execution_start_time": "2025-09-25T15:19:48.0761078Z",
       "livy_statement_state": "available",
       "normalized_state": "finished",
       "parent_msg_id": "633ef4cc-d1d5-4bb2-8116-1a930b9a9b8d",
       "queued_time": "2025-09-25T15:18:10.5562076Z",
       "session_id": "9d21c6f1-e29a-4478-9370-27b520a80d01",
       "session_start_time": null,
       "spark_pool": null,
       "state": "finished",
       "statement_id": 29,
       "statement_ids": [
        29
       ]
      },
      "text/plain": [
       "StatementMeta(, 9d21c6f1-e29a-4478-9370-27b520a80d01, 29, Finished, Available, Finished)"
      ]
     },
     "metadata": {},
     "output_type": "display_data"
    }
   ],
   "source": [
    "# Drop unwanted columns (e.g., _ts) from the product catalog DataFrame\n",
    "df_joined = df_joined.drop(df_product_catalog[\"_ts\"])"
   ]
  },
  {
   "cell_type": "code",
   "execution_count": 22,
   "id": "f1d22d1d-463b-4d33-b4e7-c14b31976186",
   "metadata": {
    "collapsed": false,
    "jupyter": {
     "outputs_hidden": false,
     "source_hidden": false
    },
    "microsoft": {
     "language": "python",
     "language_group": "synapse_pyspark"
    },
    "nteract": {
     "transient": {
      "deleting": false
     }
    }
   },
   "outputs": [
    {
     "data": {
      "application/vnd.livy.statement-meta+json": {
       "execution_finish_time": "2025-09-25T15:19:53.2469591Z",
       "execution_start_time": "2025-09-25T15:19:48.3836929Z",
       "livy_statement_state": "available",
       "normalized_state": "finished",
       "parent_msg_id": "234b023b-d8ef-469b-8900-78e5bc1adb66",
       "queued_time": "2025-09-25T15:18:10.7877352Z",
       "session_id": "9d21c6f1-e29a-4478-9370-27b520a80d01",
       "session_start_time": null,
       "spark_pool": null,
       "state": "finished",
       "statement_id": 30,
       "statement_ids": [
        30
       ]
      },
      "text/plain": [
       "StatementMeta(, 9d21c6f1-e29a-4478-9370-27b520a80d01, 30, Finished, Available, Finished)"
      ]
     },
     "metadata": {},
     "output_type": "display_data"
    },
    {
     "data": {
      "application/vnd.synapse.widget-view+json": {
       "widget_id": "8b92cc8c-a07c-4f13-9b8c-3f1a39f27f62",
       "widget_type": "Synapse.DataFrame"
      },
      "text/plain": [
       "SynapseWidget(Synapse.DataFrame, 8b92cc8c-a07c-4f13-9b8c-3f1a39f27f62)"
      ]
     },
     "metadata": {},
     "output_type": "display_data"
    }
   ],
   "source": [
    "display(df_joined.limit(2))"
   ]
  },
  {
   "cell_type": "markdown",
   "id": "5f8b4e6b-4d2f-4191-9738-12641094ff66",
   "metadata": {
    "microsoft": {
     "language": "python",
     "language_group": "synapse_pyspark"
    },
    "nteract": {
     "transient": {
      "deleting": false
     }
    }
   },
   "source": [
    "#### 5) Aggregating and Summarizing Product Feature Sentiments: Calculating Counts and Sums by Product ID"
   ]
  },
  {
   "cell_type": "markdown",
   "id": "9efad7ec-eac6-4177-86df-6fd32079d637",
   "metadata": {
    "microsoft": {
     "language": "python",
     "language_group": "synapse_pyspark"
    },
    "nteract": {
     "transient": {
      "deleting": false
     }
    }
   },
   "source": [
    "Next, we add aggregation expressions for each sentiment and the count of rows for each product ID. By aggregating the counts for each feature and sentiment, we can quantify the number of mentions, likes, and dislikes for each product feature, as well as the overall sentiment distribution. This aggregation provides a comprehensive overview of the data"
   ]
  },
  {
   "cell_type": "code",
   "execution_count": 23,
   "id": "c1e7f8e1-ae9c-40d1-8c95-03600a3b2302",
   "metadata": {
    "collapsed": false,
    "jupyter": {
     "outputs_hidden": false,
     "source_hidden": false
    },
    "microsoft": {
     "language": "python",
     "language_group": "synapse_pyspark"
    },
    "nteract": {
     "transient": {
      "deleting": false
     }
    }
   },
   "outputs": [
    {
     "data": {
      "application/vnd.livy.statement-meta+json": {
       "execution_finish_time": "2025-09-25T15:22:39.3758533Z",
       "execution_start_time": "2025-09-25T15:19:53.2491365Z",
       "livy_statement_state": "available",
       "normalized_state": "finished",
       "parent_msg_id": "a6cbbaf4-fa62-4ba3-8518-f6afb43cf5aa",
       "queued_time": "2025-09-25T15:18:11.0108695Z",
       "session_id": "9d21c6f1-e29a-4478-9370-27b520a80d01",
       "session_start_time": null,
       "spark_pool": null,
       "state": "finished",
       "statement_id": 31,
       "statement_ids": [
        31
       ]
      },
      "text/plain": [
       "StatementMeta(, 9d21c6f1-e29a-4478-9370-27b520a80d01, 31, Finished, Available, Finished)"
      ]
     },
     "metadata": {},
     "output_type": "display_data"
    },
    {
     "data": {
      "application/vnd.synapse.widget-view+json": {
       "widget_id": "f94c077d-7b51-4da9-942b-361f90d36284",
       "widget_type": "Synapse.DataFrame"
      },
      "text/plain": [
       "SynapseWidget(Synapse.DataFrame, f94c077d-7b51-4da9-942b-361f90d36284)"
      ]
     },
     "metadata": {},
     "output_type": "display_data"
    }
   ],
   "source": [
    "from pyspark.sql.functions import expr, count, sum as spark_sum\n",
    "\n",
    "# Define the features and their column names\n",
    "features = {\n",
    "    \"price\": [\"liked_price\", \"disliked_price\"],\n",
    "    \"size\": [\"liked_size\", \"disliked_size\"],\n",
    "    \"usability\": [\"liked_usability\", \"disliked_usability\"],\n",
    "    \"color\": [\"liked_color\", \"disliked_color\"],\n",
    "    \"brand\": [\"liked_brand\", \"disliked_brand\"],\n",
    "    \"design\": [\"liked_design\", \"disliked_design\"]\n",
    "}\n",
    "\n",
    "# Initialize an empty list to collect DataFrames\n",
    "aggregate_exprs = []\n",
    "\n",
    "for feature, cols in features.items():\n",
    "    liked_col, disliked_col = cols\n",
    "    aggregate_exprs.append(\n",
    "        spark_sum(when(col(liked_col) == 1, 1).otherwise(0)).alias(f\"sum_liked_{feature}\")\n",
    "    )\n",
    "    aggregate_exprs.append(\n",
    "        spark_sum(when(col(disliked_col) == 1, 1).otherwise(0)).alias(f\"sum_disliked_{feature}\")\n",
    "    )\n",
    "\n",
    "# Add aggregation expressions for each sentiment\n",
    "for sentiment in sentiment_list:\n",
    "    aggregate_exprs.append(\n",
    "        spark_sum(when(col(sentiment) == 1, 1).otherwise(0)).alias(f\"sum_{sentiment}\")\n",
    "    )\n",
    "    \n",
    "# Add the count of rows for each product_id\n",
    "aggregate_exprs.append(\n",
    "    count(\"*\").alias(\"sum_mentions\")\n",
    ")\n",
    "\n",
    "# Aggregate counts for each feature\n",
    "aggregated_counts = df_joined.groupBy(\"id\").agg(*aggregate_exprs)\n",
    "\n",
    "# Show the new DataFrame\n",
    "display(aggregated_counts.limit(2))\n"
   ]
  },
  {
   "cell_type": "code",
   "execution_count": 24,
   "id": "8348e2e8-a587-4def-b6fd-67f0ffa2274f",
   "metadata": {
    "collapsed": false,
    "jupyter": {
     "outputs_hidden": false,
     "source_hidden": false
    },
    "microsoft": {
     "language": "python",
     "language_group": "synapse_pyspark"
    },
    "nteract": {
     "transient": {
      "deleting": false
     }
    }
   },
   "outputs": [
    {
     "data": {
      "application/vnd.livy.statement-meta+json": {
       "execution_finish_time": "2025-09-25T15:25:20.3619176Z",
       "execution_start_time": "2025-09-25T15:22:39.3779436Z",
       "livy_statement_state": "available",
       "normalized_state": "finished",
       "parent_msg_id": "c5fb7498-d67c-4cee-849e-625ca8788c21",
       "queued_time": "2025-09-25T15:18:11.2243471Z",
       "session_id": "9d21c6f1-e29a-4478-9370-27b520a80d01",
       "session_start_time": null,
       "spark_pool": null,
       "state": "finished",
       "statement_id": 32,
       "statement_ids": [
        32
       ]
      },
      "text/plain": [
       "StatementMeta(, 9d21c6f1-e29a-4478-9370-27b520a80d01, 32, Finished, Available, Finished)"
      ]
     },
     "metadata": {},
     "output_type": "display_data"
    },
    {
     "data": {
      "application/vnd.synapse.widget-view+json": {
       "widget_id": "49404924-4af1-4fb5-a5ab-5f8ed3a0e81e",
       "widget_type": "Synapse.DataFrame"
      },
      "text/plain": [
       "SynapseWidget(Synapse.DataFrame, 49404924-4af1-4fb5-a5ab-5f8ed3a0e81e)"
      ]
     },
     "metadata": {},
     "output_type": "display_data"
    }
   ],
   "source": [
    "# Rename the column 'id' to 'product_id'\n",
    "aggregated_counts = aggregated_counts.withColumnRenamed(\"id\", \"product_id\")\n",
    "display(aggregated_counts.limit(2))\n"
   ]
  },
  {
   "cell_type": "markdown",
   "id": "d56b1fd1-5a2b-4e95-80ff-b556c661e013",
   "metadata": {
    "microsoft": {
     "language": "python",
     "language_group": "synapse_pyspark"
    },
    "nteract": {
     "transient": {
      "deleting": false
     }
    }
   },
   "source": [
    "For optional writing back our analysis to cosmosdb, we define a UUID. This involves creating a user-defined function (UDF) to generate unique identifiers (UUIDs). "
   ]
  },
  {
   "cell_type": "code",
   "execution_count": 25,
   "id": "5ea6cfce-75e3-4168-b748-91de0c2584b8",
   "metadata": {
    "jupyter": {
     "outputs_hidden": false,
     "source_hidden": false
    },
    "microsoft": {
     "language": "python",
     "language_group": "synapse_pyspark"
    },
    "nteract": {
     "transient": {
      "deleting": false
     }
    }
   },
   "outputs": [
    {
     "data": {
      "application/vnd.livy.statement-meta+json": {
       "execution_finish_time": "2025-09-25T15:25:20.6994763Z",
       "execution_start_time": "2025-09-25T15:25:20.3639579Z",
       "livy_statement_state": "available",
       "normalized_state": "finished",
       "parent_msg_id": "093d7aa6-ddcf-4003-957e-a199fffa2f0c",
       "queued_time": "2025-09-25T15:18:11.4449351Z",
       "session_id": "9d21c6f1-e29a-4478-9370-27b520a80d01",
       "session_start_time": null,
       "spark_pool": null,
       "state": "finished",
       "statement_id": 33,
       "statement_ids": [
        33
       ]
      },
      "text/plain": [
       "StatementMeta(, 9d21c6f1-e29a-4478-9370-27b520a80d01, 33, Finished, Available, Finished)"
      ]
     },
     "metadata": {},
     "output_type": "display_data"
    }
   ],
   "source": [
    "from pyspark.sql.functions import udf\n",
    "from pyspark.sql.types import StringType\n",
    "import uuid\n",
    "\n",
    "# Define a UDF to generate UUIDs\n",
    "def generate_uuid():\n",
    "    return str(uuid.uuid4())\n",
    "\n",
    "uuid_udf = udf(generate_uuid, StringType())"
   ]
  },
  {
   "cell_type": "markdown",
   "id": "f84ff08a-1ee2-4c1a-a0fc-ce31cede7e94",
   "metadata": {
    "microsoft": {
     "language": "python",
     "language_group": "synapse_pyspark"
    },
    "nteract": {
     "transient": {
      "deleting": false
     }
    }
   },
   "source": [
    "By initializing all product counts with zero, we ensure that even products not mentioned in recent conversations are included in the dataset. This step allows us to later combine these initialized counts with the actual mentions from the chat data, ensuring a comprehensive analysis.\n",
    "\n",
    "Additionally, we add a UUID column to uniquely identify each record."
   ]
  },
  {
   "cell_type": "code",
   "execution_count": 26,
   "id": "0b091600-4ce4-41c3-8fb7-376c953ed4a4",
   "metadata": {
    "collapsed": false,
    "jupyter": {
     "outputs_hidden": false,
     "source_hidden": false
    },
    "microsoft": {
     "language": "python",
     "language_group": "synapse_pyspark"
    },
    "nteract": {
     "transient": {
      "deleting": false
     }
    }
   },
   "outputs": [
    {
     "data": {
      "application/vnd.livy.statement-meta+json": {
       "execution_finish_time": "2025-09-25T15:25:25.5432898Z",
       "execution_start_time": "2025-09-25T15:25:20.7016136Z",
       "livy_statement_state": "available",
       "normalized_state": "finished",
       "parent_msg_id": "cac4765a-b7eb-4dd6-9f4c-0eed380f6047",
       "queued_time": "2025-09-25T15:18:11.6672292Z",
       "session_id": "9d21c6f1-e29a-4478-9370-27b520a80d01",
       "session_start_time": null,
       "spark_pool": null,
       "state": "finished",
       "statement_id": 34,
       "statement_ids": [
        34
       ]
      },
      "text/plain": [
       "StatementMeta(, 9d21c6f1-e29a-4478-9370-27b520a80d01, 34, Finished, Available, Finished)"
      ]
     },
     "metadata": {},
     "output_type": "display_data"
    },
    {
     "data": {
      "application/vnd.synapse.widget-view+json": {
       "widget_id": "9d8d41b5-5304-4076-9ba9-d0db5d3f4ef3",
       "widget_type": "Synapse.DataFrame"
      },
      "text/plain": [
       "SynapseWidget(Synapse.DataFrame, 9d8d41b5-5304-4076-9ba9-d0db5d3f4ef3)"
      ]
     },
     "metadata": {},
     "output_type": "display_data"
    }
   ],
   "source": [
    "selected_columns = df_product_catalog.select(\"Id\", \"Type\", \"Brand\", \"Name\").withColumnRenamed(\"Id\", \"product_id\")\n",
    "# # Convert the id column to string\n",
    "# selected_columns = selected_columns.withColumn(\"id\", col(\"id\").cast(\"string\"))\n",
    "# Add new columns with default values\n",
    "df_analytics_counts = selected_columns.withColumn(\"sum_liked_price\", lit(0)) \\\n",
    "    .withColumn(\"sum_disliked_price\", lit(0)) \\\n",
    "    .withColumn(\"sum_liked_size\", lit(0)) \\\n",
    "    .withColumn(\"sum_disliked_size\", lit(0)) \\\n",
    "    .withColumn(\"sum_liked_usability\", lit(0)) \\\n",
    "    .withColumn(\"sum_disliked_usability\", lit(0)) \\\n",
    "    .withColumn(\"sum_liked_color\", lit(0)) \\\n",
    "    .withColumn(\"sum_disliked_color\", lit(0)) \\\n",
    "    .withColumn(\"sum_liked_brand\", lit(0)) \\\n",
    "    .withColumn(\"sum_disliked_brand\", lit(0)) \\\n",
    "    .withColumn(\"sum_liked_design\", lit(0)) \\\n",
    "    .withColumn(\"sum_disliked_design\", lit(0))\\\n",
    "    .withColumn(\"sum_enthusiastic\", lit(0))\\\n",
    "    .withColumn(\"sum_neutral\", lit(0))\\\n",
    "    .withColumn(\"sum_obstructionist\", lit(0))\\\n",
    "    .withColumn(\"sum_mentions\", lit(0))\\\n",
    "\n",
    "\n",
    "\n",
    "# Add a UUID column to your DataFrame\n",
    "df_analytics_counts = df_analytics_counts.withColumn(\"id\", uuid_udf())\n",
    "# Show the resulting DataFrame\n",
    "display(df_analytics_counts.limit(2))"
   ]
  },
  {
   "cell_type": "markdown",
   "id": "96dc066b-16b5-48e9-bced-ab37cb439a14",
   "metadata": {
    "microsoft": {
     "language": "python",
     "language_group": "synapse_pyspark"
    },
    "nteract": {
     "transient": {
      "deleting": false
     }
    }
   },
   "source": [
    "Next, we perform an outer join between the product catalog initialization data and the aggregated counts. This ensures that even products not mentioned in recent conversations are included in the analysis results. We update the columns with the aggregated counts, combining the initialized counts with the actual mentions from the chat data. This step provides a comprehensive overview of the data, facilitating a complete view of the product sentiments."
   ]
  },
  {
   "cell_type": "code",
   "execution_count": 27,
   "id": "f65f72a1-b9bb-42fd-94bd-18144fae536d",
   "metadata": {
    "collapsed": false,
    "jupyter": {
     "outputs_hidden": false,
     "source_hidden": false
    },
    "microsoft": {
     "language": "python",
     "language_group": "synapse_pyspark"
    },
    "nteract": {
     "transient": {
      "deleting": false
     }
    }
   },
   "outputs": [
    {
     "data": {
      "application/vnd.livy.statement-meta+json": {
       "execution_finish_time": "2025-09-25T15:27:40.8734316Z",
       "execution_start_time": "2025-09-25T15:25:25.5456061Z",
       "livy_statement_state": "available",
       "normalized_state": "finished",
       "parent_msg_id": "94ac47c0-1520-4856-9f8c-fed5cabf1f7f",
       "queued_time": "2025-09-25T15:18:11.8962688Z",
       "session_id": "9d21c6f1-e29a-4478-9370-27b520a80d01",
       "session_start_time": null,
       "spark_pool": null,
       "state": "finished",
       "statement_id": 35,
       "statement_ids": [
        35
       ]
      },
      "text/plain": [
       "StatementMeta(, 9d21c6f1-e29a-4478-9370-27b520a80d01, 35, Finished, Available, Finished)"
      ]
     },
     "metadata": {},
     "output_type": "display_data"
    },
    {
     "data": {
      "application/vnd.synapse.widget-view+json": {
       "widget_id": "4645ec4a-49bb-4be3-b2b4-8bb63100a915",
       "widget_type": "Synapse.DataFrame"
      },
      "text/plain": [
       "SynapseWidget(Synapse.DataFrame, 4645ec4a-49bb-4be3-b2b4-8bb63100a915)"
      ]
     },
     "metadata": {},
     "output_type": "display_data"
    }
   ],
   "source": [
    "from pyspark.sql.functions import col, coalesce, lit\n",
    "\n",
    "# Define the features and their column names (same as before)\n",
    "features = {\n",
    "    \"price\": [\"liked_price\", \"disliked_price\"],\n",
    "    \"size\": [\"liked_size\", \"disliked_size\"],\n",
    "    \"usability\": [\"liked_usability\", \"disliked_usability\"],\n",
    "    \"color\": [\"liked_color\", \"disliked_color\"],\n",
    "    \"brand\": [\"liked_brand\", \"disliked_brand\"],\n",
    "    \"design\": [\"liked_design\", \"disliked_design\"]\n",
    "}\n",
    "\n",
    "# Define sentiment columns and their aggregations\n",
    "sentiment_list = [\"enthusiastic\", \"neutral\", \"obstructionist\"]\n",
    "\n",
    "# Define the columns to update\n",
    "update_columns = {\n",
    "    **{f\"sum_liked_{feature}\": f\"sum_liked_{feature}\" for feature in features.keys()},\n",
    "    **{f\"sum_disliked_{feature}\": f\"sum_disliked_{feature}\" for feature in features.keys()},\n",
    "    **{f\"sum_{sentiment}\": f\"sum_{sentiment}\" for sentiment in sentiment_list}\n",
    "}\n",
    "\n",
    "# Perform the outer join\n",
    "combined_df = df_analytics_counts.alias(\"analytics\") \\\n",
    "    .join(aggregated_counts.alias(\"agg\"), \"product_id\", \"outer\") \\\n",
    "    .select(\n",
    "        col(\"analytics.id\"),\n",
    "        col(\"analytics.Type\"),\n",
    "        col(\"analytics.Brand\"),\n",
    "        col(\"analytics.Name\"),\n",
    "        *[\n",
    "            (coalesce(col(f\"analytics.{col_name}\"), lit(0)) + coalesce(col(f\"agg.{col_name}\"), lit(0))).alias(col_name)\n",
    "            for col_name in update_columns.keys()\n",
    "        ]\n",
    "    )\n",
    "\n",
    "# Show the resulting DataFrame\n",
    "display(combined_df.limit(2))\n"
   ]
  },
  {
   "cell_type": "markdown",
   "id": "035252a4-ef9e-4f3b-bac4-ba0190fe6226",
   "metadata": {
    "microsoft": {
     "language": "python",
     "language_group": "synapse_pyspark"
    },
    "nteract": {
     "transient": {
      "deleting": false
     }
    }
   },
   "source": [
    "#### 6) Storing Aggregated Analysis Results in a Lakehouse Table"
   ]
  },
  {
   "cell_type": "markdown",
   "id": "63383b3e-109f-4adb-a2be-88f4503ad790",
   "metadata": {
    "microsoft": {
     "language": "python",
     "language_group": "synapse_pyspark"
    },
    "nteract": {
     "transient": {
      "deleting": false
     }
    }
   },
   "source": [
    "In this final step, we save the combined DataFrame to a specified path. We use the Delta format to ensure efficient storage and querying. By appending the data to the existing table, we maintain a comprehensive record of the analysis results. Storing this data in a lakehouse allows us to easily access and call upon it for future reporting purposes."
   ]
  },
  {
   "cell_type": "code",
   "execution_count": 28,
   "id": "572a186e-1ee3-42d2-94bd-be5c37317fc9",
   "metadata": {
    "jupyter": {
     "outputs_hidden": false,
     "source_hidden": false
    },
    "microsoft": {
     "language": "python",
     "language_group": "synapse_pyspark"
    },
    "nteract": {
     "transient": {
      "deleting": false
     }
    }
   },
   "outputs": [
    {
     "data": {
      "application/vnd.livy.statement-meta+json": {
       "execution_finish_time": "2025-09-25T15:30:11.8563124Z",
       "execution_start_time": "2025-09-25T15:27:40.8755555Z",
       "livy_statement_state": "available",
       "normalized_state": "finished",
       "parent_msg_id": "837b7791-b158-4e72-bd6c-0978fba69d82",
       "queued_time": "2025-09-25T15:18:12.1373476Z",
       "session_id": "9d21c6f1-e29a-4478-9370-27b520a80d01",
       "session_start_time": null,
       "spark_pool": null,
       "state": "finished",
       "statement_id": 36,
       "statement_ids": [
        36
       ]
      },
      "text/plain": [
       "StatementMeta(, 9d21c6f1-e29a-4478-9370-27b520a80d01, 36, Finished, Available, Finished)"
      ]
     },
     "metadata": {},
     "output_type": "display_data"
    }
   ],
   "source": [
    "path = 'chat_analysis_results'\n",
    "#combined_df.write.format(\"parquet\").mode(\"overwrite\").save(path)\n",
    "combined_df.write.mode(\"append\").format(\"delta\").saveAsTable(path)"
   ]
  },
  {
   "cell_type": "markdown",
   "id": "0e48a6df-d043-44cd-a262-aace8dbc66cf",
   "metadata": {
    "microsoft": {
     "language": "python",
     "language_group": "synapse_pyspark"
    },
    "nteract": {
     "transient": {
      "deleting": false
     }
    }
   },
   "source": [
    "#### 7) Optional: Write back chat_analytics results to a new container in the database "
   ]
  },
  {
   "cell_type": "markdown",
   "id": "cdc3ca82-9a67-49eb-8b91-e6d8c77b9f03",
   "metadata": {
    "microsoft": {
     "language": "python",
     "language_group": "synapse_pyspark"
    },
    "nteract": {
     "transient": {
      "deleting": false
     }
    }
   },
   "source": [
    "In addition to storing the data in a lakehouse for future reporting purposes, we also can optionally use a callback to store the data in the original CosmosDB in Fabric database. By maintaining a copy of the data in CosmosDB, we can leverage its capabilities for fast and scalable data access, while also benefiting from the analytical capabilities of the lakehouse."
   ]
  },
  {
   "cell_type": "code",
   "execution_count": 29,
   "id": "34fd508b-6b43-416d-a5bc-2c49a4720023",
   "metadata": {
    "collapsed": false,
    "jupyter": {
     "outputs_hidden": false,
     "source_hidden": false
    },
    "microsoft": {
     "language": "python",
     "language_group": "synapse_pyspark"
    },
    "nteract": {
     "transient": {
      "deleting": false
     }
    }
   },
   "outputs": [
    {
     "data": {
      "application/vnd.livy.statement-meta+json": {
       "execution_finish_time": "2025-09-25T15:32:32.9810537Z",
       "execution_start_time": "2025-09-25T15:30:11.8583851Z",
       "livy_statement_state": "available",
       "normalized_state": "finished",
       "parent_msg_id": "63254b6f-62b7-4fc2-bfec-26c72a834ef1",
       "queued_time": "2025-09-25T15:18:12.392841Z",
       "session_id": "9d21c6f1-e29a-4478-9370-27b520a80d01",
       "session_start_time": null,
       "spark_pool": null,
       "state": "finished",
       "statement_id": 37,
       "statement_ids": [
        37
       ]
      },
      "text/plain": [
       "StatementMeta(, 9d21c6f1-e29a-4478-9370-27b520a80d01, 37, Finished, Available, Finished)"
      ]
     },
     "metadata": {},
     "output_type": "display_data"
    },
    {
     "data": {
      "application/vnd.synapse.widget-view+json": {
       "widget_id": "221f1d3c-38db-43c3-95d4-e23014365907",
       "widget_type": "Synapse.DataFrame"
      },
      "text/plain": [
       "SynapseWidget(Synapse.DataFrame, 221f1d3c-38db-43c3-95d4-e23014365907)"
      ]
     },
     "metadata": {},
     "output_type": "display_data"
    }
   ],
   "source": [
    "display(combined_df.limit(2))"
   ]
  },
  {
   "cell_type": "code",
   "execution_count": 30,
   "id": "31565727-decf-427d-b06f-fb548fd9bc71",
   "metadata": {
    "collapsed": false,
    "jupyter": {
     "outputs_hidden": true,
     "source_hidden": false
    },
    "microsoft": {
     "language": "python",
     "language_group": "synapse_pyspark"
    },
    "nteract": {
     "transient": {
      "deleting": false
     }
    }
   },
   "outputs": [
    {
     "data": {
      "application/vnd.livy.statement-meta+json": {
       "execution_finish_time": "2025-09-25T15:35:04.1512398Z",
       "execution_start_time": "2025-09-25T15:32:32.9832173Z",
       "livy_statement_state": "available",
       "normalized_state": "finished",
       "parent_msg_id": "da82ea88-e6f4-489a-9ce5-87b7bc7b21c6",
       "queued_time": "2025-09-25T15:18:12.7138549Z",
       "session_id": "9d21c6f1-e29a-4478-9370-27b520a80d01",
       "session_start_time": null,
       "spark_pool": null,
       "state": "finished",
       "statement_id": 38,
       "statement_ids": [
        38
       ]
      },
      "text/plain": [
       "StatementMeta(, 9d21c6f1-e29a-4478-9370-27b520a80d01, 38, Finished, Available, Finished)"
      ]
     },
     "metadata": {},
     "output_type": "display_data"
    },
    {
     "data": {
      "application/vnd.synapse.widget-view+json": {
       "widget_id": "3b581622-78d8-48c5-9a72-5dd99ecccef3",
       "widget_type": "Synapse.DataFrame"
      },
      "text/plain": [
       "SynapseWidget(Synapse.DataFrame, 3b581622-78d8-48c5-9a72-5dd99ecccef3)"
      ]
     },
     "metadata": {},
     "output_type": "display_data"
    }
   ],
   "source": [
    "# Ensure we only write rows with non-null id\n",
    "combined_df_filtered = combined_df.filter(col('id').isNotNull())\n",
    "display(combined_df_filtered.limit(5))"
   ]
  },
  {
   "cell_type": "markdown",
   "id": "a14c483d-351f-45cb-b7d7-d889ff511840",
   "metadata": {
    "microsoft": {
     "language": "python",
     "language_group": "synapse_pyspark"
    },
    "nteract": {
     "transient": {
      "deleting": false
     }
    }
   },
   "source": [
    "We will use the CosmosClient class to interact with CosmosDB. To do this, we need to specify the  endpoint string in hidden cell below:\n"
   ]
  },
  {
   "cell_type": "code",
   "execution_count": 33,
   "id": "047f3604-938e-49ad-b27f-d576ba5fdfda",
   "metadata": {
    "jupyter": {
     "outputs_hidden": false,
     "source_hidden": false
    },
    "microsoft": {
     "language": "python",
     "language_group": "synapse_pyspark"
    },
    "nteract": {
     "transient": {
      "deleting": false
     }
    }
   },
   "outputs": [
    {
     "data": {
      "application/vnd.livy.statement-meta+json": {
       "execution_finish_time": "2025-09-25T15:53:03.5369328Z",
       "execution_start_time": "2025-09-25T15:53:02.6704846Z",
       "livy_statement_state": "available",
       "normalized_state": "finished",
       "parent_msg_id": "e3be8d8a-eed6-4143-b3b8-3465ed0e93bf",
       "queued_time": "2025-09-25T15:53:02.669308Z",
       "session_id": "9d21c6f1-e29a-4478-9370-27b520a80d01",
       "session_start_time": null,
       "spark_pool": null,
       "state": "finished",
       "statement_id": 41,
       "statement_ids": [
        41
       ]
      },
      "text/plain": [
       "StatementMeta(, 9d21c6f1-e29a-4478-9370-27b520a80d01, 41, Finished, Available, Finished)"
      ]
     },
     "metadata": {},
     "output_type": "display_data"
    },
    {
     "name": "stdout",
     "output_type": "stream",
     "text": [
      "Container maybe exists: (Conflict) Message: {\"Errors\":[\"Resource with specified id, name, or unique index already exists.\"]}\r\n",
      "ActivityId: 457ae88c-55b0-41bb-bb0c-871842383479, Request URI: /apps/a620de26-8c06-41bb-a0d6-8f63dd8f7a6f/services/f37e5ca0-01e8-4ac2-b095-35ca963c1545/partitions/ef6d7cfd-d69e-4691-a8d8-34cfc2bf75b0/replicas/134007103963643449p, RequestStats: , SDK: Microsoft.Azure.Documents.Common/2.14.0\n",
      "Code: Conflict\n",
      "Message: Message: {\"Errors\":[\"Resource with specified id, name, or unique index already exists.\"]}\r\n",
      "ActivityId: 457ae88c-55b0-41bb-bb0c-871842383479, Request URI: /apps/a620de26-8c06-41bb-a0d6-8f63dd8f7a6f/services/f37e5ca0-01e8-4ac2-b095-35ca963c1545/partitions/ef6d7cfd-d69e-4691-a8d8-34cfc2bf75b0/replicas/134007103963643449p, RequestStats: , SDK: Microsoft.Azure.Documents.Common/2.14.0\n"
     ]
    }
   ],
   "source": [
    "from azure.cosmos import CosmosClient, PartitionKey\n",
    "from azure.core.credentials import AccessToken\n",
    "import base64, json, time\n",
    "\n",
    "CosmosDBFabricEndpoint = \"https://d3322083-a846-483d-ac60-8091a02bf768.zd3.msit-sql.cosmos.fabric.microsoft.com:443/\" \n",
    "\n",
    "def _decode_jwt_payload(jwt: str) -> dict:\n",
    "    parts = jwt.split(\".\")\n",
    "    if len(parts) < 2:\n",
    "        raise ValueError(\"Not a valid JWT\")\n",
    "    pad = \"=\" * (-len(parts[1]) % 4)\n",
    "    return json.loads(base64.urlsafe_b64decode(parts[1] + pad).decode(\"utf-8\"))\n",
    "\n",
    "class TokenCredential:\n",
    "    def __init__(self, access_token: str, expires_on: int | None = None):\n",
    "        self._token = access_token\n",
    "        if expires_on is None:\n",
    "            payload = _decode_jwt_payload(access_token)\n",
    "            expires_on = int(payload[\"exp\"])\n",
    "        self._expires_on = int(expires_on)\n",
    "\n",
    "    def get_token(self, *scopes, **kwargs) -> AccessToken:\n",
    "        now = int(time.time())\n",
    "        if now >= self._expires_on - 60:\n",
    "            raise RuntimeError(\"The provided access token is expired or about to expire.\")\n",
    "        return AccessToken(self._token, self._expires_on)\n",
    "\n",
    "# Get Cosmos DB token and create Cosmos Client\n",
    "audience = \"https://cosmos.azure.com/\" \n",
    "token = notebookutils.credentials.getToken(audience)\n",
    "cred = TokenCredential(token)\n",
    "cosmosClient = CosmosClient(\n",
    "    url=CosmosDBFabricEndpoint,\n",
    "    credential=cred,\n",
    "    consistency_level=\"Session\"\n",
    ")\n",
    "\n",
    "# Get database\n",
    "database_list = list(cosmosClient.list_databases())\n",
    "DATABASE_NAME = database_list[0]['id']\n",
    "databaseClient = cosmosClient.get_database_client(DATABASE_NAME)\n",
    "\n",
    "\n",
    "# Create new container of aggregated view\n",
    "CONTAINER_NAME = \"chat_analytics\"\n",
    "try:\n",
    "    databaseClient.create_container(\n",
    "        id=CONTAINER_NAME, \n",
    "        partition_key=PartitionKey(path=\"/id\")\n",
    "        # offer_throughput=400  # Optional: set throughput\n",
    "        )\n",
    "except Exception as e:\n",
    "    print(f\"Container maybe exists: {e}\")\n",
    "\n",
    "containerClientChatAnalytics = databaseClient.get_container_client(CONTAINER_NAME)"
   ]
  },
  {
   "cell_type": "code",
   "execution_count": 34,
   "id": "4f446e4e-30fc-4d7b-9402-1e0ad1703268",
   "metadata": {
    "microsoft": {
     "language": "python",
     "language_group": "synapse_pyspark"
    }
   },
   "outputs": [
    {
     "data": {
      "application/vnd.livy.statement-meta+json": {
       "execution_finish_time": null,
       "execution_start_time": "2025-09-25T15:53:30.3780829Z",
       "livy_statement_state": "running",
       "normalized_state": "running",
       "parent_msg_id": "bc5af02e-01a6-4366-824b-0f2bb6628411",
       "queued_time": "2025-09-25T15:53:30.3770666Z",
       "session_id": "9d21c6f1-e29a-4478-9370-27b520a80d01",
       "session_start_time": null,
       "spark_pool": null,
       "state": "submitted",
       "statement_id": 42,
       "statement_ids": [
        42
       ]
      },
      "text/plain": [
       "StatementMeta(, 9d21c6f1-e29a-4478-9370-27b520a80d01, 42, Submitted, Running, Running)"
      ]
     },
     "metadata": {},
     "output_type": "display_data"
    }
   ],
   "source": [
    "# Loop create_item/upsert_item\n",
    "for row in combined_df_filtered.toLocalIterator():\n",
    "    doc = row.asDict(recursive=True)\n",
    "    doc[\"id\"] = str(doc[\"id\"])\n",
    "    try:\n",
    "        containerClientChatAnalytics.upsert_item(doc)\n",
    "    except exceptions.CosmosHttpResponseError as e:\n",
    "        print(\"Failed:\", doc[\"id\"], e.status_code, e.message)"
   ]
  },
  {
   "cell_type": "code",
   "execution_count": 35,
   "id": "7d05adec-18d7-4fc4-9790-08d6e5cb21d9",
   "metadata": {
    "jupyter": {
     "outputs_hidden": false
    },
    "microsoft": {
     "language": "python",
     "language_group": "synapse_pyspark"
    }
   },
   "outputs": [
    {
     "data": {
      "application/vnd.livy.statement-meta+json": {
       "execution_finish_time": "2025-09-25T16:03:18.6271637Z",
       "execution_start_time": "2025-09-25T16:03:17.5490875Z",
       "livy_statement_state": "available",
       "normalized_state": "finished",
       "parent_msg_id": "ecfc68fa-ec81-4b49-b3c1-a0378330d761",
       "queued_time": "2025-09-25T16:03:17.5479493Z",
       "session_id": "9d21c6f1-e29a-4478-9370-27b520a80d01",
       "session_start_time": null,
       "spark_pool": null,
       "state": "finished",
       "statement_id": 43,
       "statement_ids": [
        43
       ]
      },
      "text/plain": [
       "StatementMeta(, 9d21c6f1-e29a-4478-9370-27b520a80d01, 43, Finished, Available, Finished)"
      ]
     },
     "metadata": {},
     "output_type": "display_data"
    },
    {
     "name": "stdout",
     "output_type": "stream",
     "text": [
      "Items in container 'chat_analytics':\n",
      "{'id': 'b3fed853-d797-45be-ba21-4a4a0c67ac8b', 'Type': 'Climbing', 'Brand': 'Gravitator', 'Name': 'Gravity Beam Climbing Rope', 'sum_liked_price': 2, 'sum_liked_size': 1, 'sum_liked_usability': 2, 'sum_liked_color': 2, 'sum_liked_brand': 2, 'sum_liked_design': 2, 'sum_disliked_price': 0, 'sum_disliked_size': 0, 'sum_disliked_usability': 0, 'sum_disliked_color': 0, 'sum_disliked_brand': 0, 'sum_disliked_design': 0, 'sum_enthusiastic': 2, 'sum_neutral': 0, 'sum_obstructionist': 0, '_rid': 'dD5RAKSio7IBAAAAAAAAAA==', '_self': 'dbs/dD5RAA==/colls/dD5RAKSio7I=/docs/dD5RAKSio7IBAAAAAAAAAA==/', '_etag': '\"00000502-0000-0600-0000-68d566060000\"', '_attachments': 'attachments/', '_ts': 1758815750}\n",
      "{'id': '4ce766f3-e246-481a-947e-2f312aacc976', 'Type': 'Navigation', 'Brand': 'B&R', 'Name': 'Pulse Recon Tactical GPS Watch', 'sum_liked_price': 2, 'sum_liked_size': 0, 'sum_liked_usability': 2, 'sum_liked_color': 2, 'sum_liked_brand': 2, 'sum_liked_design': 2, 'sum_disliked_price': 0, 'sum_disliked_size': 0, 'sum_disliked_usability': 0, 'sum_disliked_color': 0, 'sum_disliked_brand': 0, 'sum_disliked_design': 0, 'sum_enthusiastic': 2, 'sum_neutral': 0, 'sum_obstructionist': 0, '_rid': 'dD5RAKSio7ICAAAAAAAAAA==', '_self': 'dbs/dD5RAA==/colls/dD5RAKSio7I=/docs/dD5RAKSio7ICAAAAAAAAAA==/', '_etag': '\"00000602-0000-0600-0000-68d566060000\"', '_attachments': 'attachments/', '_ts': 1758815750}\n",
      "{'id': '2244a08d-2a4d-4232-8c4a-bd0c46e95787', 'Type': 'Cycling', 'Brand': 'Solstix', 'Name': 'Sprint PRO Carbon Cycling Helmet', 'sum_liked_price': 2, 'sum_liked_size': 2, 'sum_liked_usability': 3, 'sum_liked_color': 3, 'sum_liked_brand': 3, 'sum_liked_design': 3, 'sum_disliked_price': 1, 'sum_disliked_size': 0, 'sum_disliked_usability': 0, 'sum_disliked_color': 0, 'sum_disliked_brand': 0, 'sum_disliked_design': 0, 'sum_enthusiastic': 2, 'sum_neutral': 0, 'sum_obstructionist': 1, '_rid': 'dD5RAKSio7IDAAAAAAAAAA==', '_self': 'dbs/dD5RAA==/colls/dD5RAKSio7I=/docs/dD5RAKSio7IDAAAAAAAAAA==/', '_etag': '\"00000702-0000-0600-0000-68d566060000\"', '_attachments': 'attachments/', '_ts': 1758815750}\n",
      "{'id': '216f45ff-c8a1-4b19-b5a8-7064a0712d95', 'Type': 'Footwear', 'Brand': 'Green Equipment', 'Name': 'EcoTrail Running Shoes', 'sum_liked_price': 3, 'sum_liked_size': 4, 'sum_liked_usability': 4, 'sum_liked_color': 4, 'sum_liked_brand': 4, 'sum_liked_design': 4, 'sum_disliked_price': 1, 'sum_disliked_size': 0, 'sum_disliked_usability': 0, 'sum_disliked_color': 0, 'sum_disliked_brand': 0, 'sum_disliked_design': 0, 'sum_enthusiastic': 4, 'sum_neutral': 0, 'sum_obstructionist': 0, '_rid': 'dD5RAKSio7IEAAAAAAAAAA==', '_self': 'dbs/dD5RAA==/colls/dD5RAKSio7I=/docs/dD5RAKSio7IEAAAAAAAAAA==/', '_etag': '\"00000802-0000-0600-0000-68d566060000\"', '_attachments': 'attachments/', '_ts': 1758815750}\n",
      "{'id': '8d51b4de-4f3c-4d36-8b83-7f723e554e59', 'Type': 'Trekking', 'Brand': 'Gravitator', 'Name': 'Nebula Pro Headlamp', 'sum_liked_price': 0, 'sum_liked_size': 1, 'sum_liked_usability': 1, 'sum_liked_color': 1, 'sum_liked_brand': 1, 'sum_liked_design': 1, 'sum_disliked_price': 1, 'sum_disliked_size': 0, 'sum_disliked_usability': 0, 'sum_disliked_color': 0, 'sum_disliked_brand': 0, 'sum_disliked_design': 0, 'sum_enthusiastic': 0, 'sum_neutral': 0, 'sum_obstructionist': 1, '_rid': 'dD5RAKSio7IFAAAAAAAAAA==', '_self': 'dbs/dD5RAA==/colls/dD5RAKSio7I=/docs/dD5RAKSio7IFAAAAAAAAAA==/', '_etag': '\"00000902-0000-0600-0000-68d566060000\"', '_attachments': 'attachments/', '_ts': 1758815750}\n",
      "{'id': 'f5f66df0-1a54-46f3-8799-bee043b3db58', 'Type': 'Ski/boarding', 'Brand': 'Raptor Elite', 'Name': 'Venture 2022 Snowboard', 'sum_liked_price': 2, 'sum_liked_size': 2, 'sum_liked_usability': 2, 'sum_liked_color': 3, 'sum_liked_brand': 2, 'sum_liked_design': 3, 'sum_disliked_price': 1, 'sum_disliked_size': 0, 'sum_disliked_usability': 0, 'sum_disliked_color': 0, 'sum_disliked_brand': 0, 'sum_disliked_design': 0, 'sum_enthusiastic': 2, 'sum_neutral': 0, 'sum_obstructionist': 1, '_rid': 'dD5RAKSio7IGAAAAAAAAAA==', '_self': 'dbs/dD5RAA==/colls/dD5RAKSio7I=/docs/dD5RAKSio7IGAAAAAAAAAA==/', '_etag': '\"00000a02-0000-0600-0000-68d566060000\"', '_attachments': 'attachments/', '_ts': 1758815750}\n",
      "{'id': 'f2064c1a-c4a5-4f46-a347-dff275f2426d', 'Type': 'Bags', 'Brand': 'Solstix', 'Name': 'Explorer 45L Backpack', 'sum_liked_price': 0, 'sum_liked_size': 1, 'sum_liked_usability': 1, 'sum_liked_color': 1, 'sum_liked_brand': 1, 'sum_liked_design': 1, 'sum_disliked_price': 1, 'sum_disliked_size': 0, 'sum_disliked_usability': 0, 'sum_disliked_color': 0, 'sum_disliked_brand': 0, 'sum_disliked_design': 0, 'sum_enthusiastic': 1, 'sum_neutral': 0, 'sum_obstructionist': 0, '_rid': 'dD5RAKSio7IHAAAAAAAAAA==', '_self': 'dbs/dD5RAA==/colls/dD5RAKSio7I=/docs/dD5RAKSio7IHAAAAAAAAAA==/', '_etag': '\"00000b02-0000-0600-0000-68d566060000\"', '_attachments': 'attachments/', '_ts': 1758815750}\n",
      "{'id': '378fa9a1-5dee-4190-a93a-9c3024e48d88', 'Type': 'Trekking', 'Brand': 'XE', 'Name': 'Survivor 2-Person Tent', 'sum_liked_price': 2, 'sum_liked_size': 5, 'sum_liked_usability': 5, 'sum_liked_color': 5, 'sum_liked_brand': 5, 'sum_liked_design': 5, 'sum_disliked_price': 1, 'sum_disliked_size': 0, 'sum_disliked_usability': 0, 'sum_disliked_color': 0, 'sum_disliked_brand': 0, 'sum_disliked_design': 0, 'sum_enthusiastic': 5, 'sum_neutral': 0, 'sum_obstructionist': 0, '_rid': 'dD5RAKSio7IIAAAAAAAAAA==', '_self': 'dbs/dD5RAA==/colls/dD5RAKSio7I=/docs/dD5RAKSio7IIAAAAAAAAAA==/', '_etag': '\"00000c02-0000-0600-0000-68d566060000\"', '_attachments': 'attachments/', '_ts': 1758815750}\n",
      "{'id': '8b7c8179-e790-4113-afce-4143ea5a7dab', 'Type': 'Cycling', 'Brand': 'AirStrider', 'Name': 'Velocity Red Bike Helmet', 'sum_liked_price': 3, 'sum_liked_size': 3, 'sum_liked_usability': 3, 'sum_liked_color': 2, 'sum_liked_brand': 3, 'sum_liked_design': 3, 'sum_disliked_price': 0, 'sum_disliked_size': 0, 'sum_disliked_usability': 0, 'sum_disliked_color': 0, 'sum_disliked_brand': 0, 'sum_disliked_design': 0, 'sum_enthusiastic': 2, 'sum_neutral': 1, 'sum_obstructionist': 0, '_rid': 'dD5RAKSio7IJAAAAAAAAAA==', '_self': 'dbs/dD5RAA==/colls/dD5RAKSio7I=/docs/dD5RAKSio7IJAAAAAAAAAA==/', '_etag': '\"00000d02-0000-0600-0000-68d566060000\"', '_attachments': 'attachments/', '_ts': 1758815750}\n",
      "{'id': 'b18dec12-9ead-40b9-b5ef-ba9122e4e4f4', 'Type': 'Navigation', 'Brand': 'AirStrider', 'Name': 'Astro GPS Navigator', 'sum_liked_price': 2, 'sum_liked_size': 1, 'sum_liked_usability': 2, 'sum_liked_color': 2, 'sum_liked_brand': 2, 'sum_liked_design': 2, 'sum_disliked_price': 0, 'sum_disliked_size': 0, 'sum_disliked_usability': 0, 'sum_disliked_color': 0, 'sum_disliked_brand': 0, 'sum_disliked_design': 0, 'sum_enthusiastic': 2, 'sum_neutral': 0, 'sum_obstructionist': 0, '_rid': 'dD5RAKSio7IKAAAAAAAAAA==', '_self': 'dbs/dD5RAA==/colls/dD5RAKSio7I=/docs/dD5RAKSio7IKAAAAAAAAAA==/', '_etag': '\"00000e02-0000-0600-0000-68d566060000\"', '_attachments': 'attachments/', '_ts': 1758815750}\n"
     ]
    }
   ],
   "source": [
    "# Verify data has landed back into Cosmos DB in Fabric database\n",
    "# Query top 5 items in the container\n",
    "query = \"SELECT TOP 5 * from c\"\n",
    "itemsChatAnalytics = containerClientChatAnalytics.query_items(query=query, enable_cross_partition_query=True)\n",
    "\n",
    "# Print each item\n",
    "print(f\"Items in container '{CONTAINER_NAME}':\")\n",
    "for item in itemsChatAnalytics:\n",
    "    print(item)"
   ]
  }
 ],
 "metadata": {
  "a365ComputeOptions": null,
  "dependencies": {
   "lakehouse": {
    "default_lakehouse": "75f4d257-44a5-48a1-88ca-b6037aa9a69d",
    "default_lakehouse_name": "cdb_demo_lh",
    "default_lakehouse_workspace_id": "47bf5758-7623-4153-8d16-52f17f5ed985",
    "known_lakehouses": [
     {
      "id": "75f4d257-44a5-48a1-88ca-b6037aa9a69d"
     }
    ]
   }
  },
  "kernel_info": {
   "name": "synapse_pyspark"
  },
  "kernelspec": {
   "display_name": "Synapse PySpark",
   "language": "Python",
   "name": "synapse_pyspark"
  },
  "language_info": {
   "name": "python"
  },
  "microsoft": {
   "language": "python",
   "language_group": "synapse_pyspark",
   "ms_spell_check": {
    "ms_spell_check_language": "en"
   }
  },
  "nteract": {
   "version": "nteract-front-end@1.0.0"
  },
  "sessionKeepAliveTimeout": 0,
  "spark_compute": {
   "compute_id": "/trident/default",
   "session_options": {
    "conf": {
     "spark.synapse.nbs.session.timeout": "1200000"
    }
   }
  },
  "synapse_widget": {
   "state": {
    "0a1ff0c9-8019-4a8d-b6c4-facfd2dd7d3e": {
     "persist_state": {
      "view": {
       "chartOptions": {
        "aggregationType": "sum",
        "binsNumber": 10,
        "categoryFieldKeys": [],
        "chartType": "bar",
        "isStacked": false,
        "seriesFieldKeys": [],
        "wordFrequency": "-1"
       },
       "tableOptions": {},
       "type": "details",
       "viewOptionsGroup": [
        {
         "tabItems": [
          {
           "key": "0",
           "name": "Table",
           "options": {},
           "type": "table"
          }
         ]
        }
       ]
      }
     },
     "sync_state": {
      "isSummary": false,
      "language": "scala",
      "table": {
       "rows": [
        {
         "0": [
          {
           "content": "You are an expert bussiness analyst, give a conversation between client and a chatbot, you identify the list of products discussed, sentiment around each product, features that are liked or disliked and provide results as a json file.            when identifying product, separate type, brand, and name             choices for sentiment: enthusiastic, neutral, obstructionist             choices for product features (like or disliked): design, usability, color, size, price, brand             Please return a a list of jsons only. Please use the example below as a template            [{\"product\": {\"type\": \"Climbing\", \"brand\": \"Gravitator\", \"name\": \"Gravity Beam Climbing Rope\"}, \"sentiment\": \"enthusiastic\", \"features\": {\"like\": [\"design\", \"usability\", \"color\", \"size\", \"price\", \"brand\"], \"dislike\": []}}, {\"product\": {\"type\": \"Footwear\", \"brand\": \"Raptor Elite\", \"name\": \"Trek Xtreme Hiking Shoes\"}, \"sentiment\": \"enthusiastic\", \"features\": {\"like\": [\"design\", \"usability\", \"color\", \"size\", \"price\", \"brand\"], \"dislike\": []}}, {\"product\": {\"type\": \"Navigation\", \"brand\": \"AirStrider\", \"name\": \"VenturePro GPS Watch\"}, \"sentiment\": \"enthusiastic\", \"features\": {\"like\": [\"design\", \"usability\", \"price\", \"brand\"], \"dislike\": []}}]            ",
           "name": "system",
           "role": "system"
          },
          {
           "content": "[{\"Question\":\"What kind of products are you selling?\",\"Answer\":\"We offer a variety of outdoor and adventure gear, including jackets, ski/boarding equipment, and climbing gear.\"},{\"Question\":\"Can you tell me more about the jackets you have?\",\"Answer\":\"Certainly! We have the Grolltex Mens Horizon 80s Softshell Jacket. It's water-resistant, breathable, and designed in a retro 1980s style. It also features a detachable hood, adjustable cuffs, and multiple pockets. It's priced at $169.99.\"},{\"Question\":\"I'm looking for something to use while skiing. Do you have any recommendations?\",\"Answer\":\"Yes, the Solstix Expedition 2022 Goggles are perfect for skiing. They come with an anti-fog lens, UV protection, and a comfortable foam lining. They also have a sleek matte black frame. These goggles are priced at $89.00.\"},{\"Question\":\"How about climbing gear? What do you have available?\",\"Answer\":\"For climbing, we have the Raptor Elite Razor Climbing Harness. It's lightweight, breathable, and designed for maximum comfort and performance. It features adjustable waist and leg loops for a secure fit and is priced at $94.99.\"},{\"Question\":\"I'm on a budget. Which of these products is the most affordable?\",\"Answer\":\"The most affordable product we have is the Solstix Expedition 2022 Goggles, priced at $89.00.\"},{\"Question\":\"What makes the Grolltex Mens Horizon 80s Softshell Jacket worth its price?\",\"Answer\":\"The Grolltex Mens Horizon 80s Softshell Jacket is worth its price due to its water-resistant and breathable fabric, retro 1980s style, detachable hood, adjustable cuffs, and multiple pockets. It's designed to keep you dry and comfortable in any weather, making it a versatile and stylish choice for various activities.\"},{\"Question\":\"Are the Solstix Expedition 2022 Goggles good for all weather conditions?\",\"Answer\":\"Yes, the Solstix Expedition 2022 Goggles are designed to provide clear vision and optimal protection in various weather conditions. The anti-fog lens and UV protection ensure you have an unrestricted view even in challenging conditions.\"},{\"Question\":\"What features does the Raptor Elite Razor Climbing Harness offer for its price?\",\"Answer\":\"The Raptor Elite Razor Climbing Harness offers several features for its price, including lightweight and breathable construction, adjustable waist and leg loops for a secure fit, and reinforced tie-in points for durability. The razor-shaped webbing adds a stylish touch to the blue color of the harness.\"},{\"Question\":\"Can the Grolltex Mens Horizon 80s Softshell Jacket be used for activities other than hiking and skiing?\",\"Answer\":\"Absolutely! The Grolltex Mens Horizon 80s Softshell Jacket is versatile enough for various activities, including exploring the city. Its stylish design and functional features make it suitable for different environments.\"},{\"Question\":\"Is the Raptor Elite Razor Climbing Harness suitable for beginners?\",\"Answer\":\"Yes, the Raptor Elite Razor Climbing Harness is suitable for climbers of all levels, including beginners. Its adjustable waist and leg loops provide a secure and customized fit, ensuring comfort and safety during climbs.\"}]",
           "name": "user",
           "role": "user"
          }
         ],
         "1": [
          "[\n  {\n    \"product\": {\n      \"type\": \"Jacket\",\n      \"brand\": \"Grolltex\",\n      \"name\": \"Mens Horizon 80s Softshell Jacket\"\n    },\n    \"sentiment\": \"enthusiastic\",\n    \"features\": {\n      \"like\": [\"design\", \"usability\", \"color\", \"size\", \"brand\"],\n      \"dislike\": [\"price\"]\n    }\n  },\n  {\n    \"product\": {\n      \"type\": \"Goggles\",\n      \"brand\": \"Solstix\",\n      \"name\": \"Expedition 2022 Goggles\"\n    },\n    \"sentiment\": \"enthusiastic\",\n    \"features\": {\n      \"like\": [\"design\", \"usability\", \"color\", \"price\", \"brand\"],\n      \"dislike\": []\n    }\n  },\n  {\n    \"product\": {\n      \"type\": \"Climbing Harness\",\n      \"brand\": \"Raptor Elite\",\n      \"name\": \"Razor Climbing Harness\"\n    },\n    \"sentiment\": \"enthusiastic\",\n    \"features\": {\n      \"like\": [\"design\", \"usability\", \"color\", \"price\", \"brand\"],\n      \"dislike\": []\n    }\n  }\n]"
         ]
        },
        {
         "0": [
          {
           "content": "You are an expert bussiness analyst, give a conversation between client and a chatbot, you identify the list of products discussed, sentiment around each product, features that are liked or disliked and provide results as a json file.            when identifying product, separate type, brand, and name             choices for sentiment: enthusiastic, neutral, obstructionist             choices for product features (like or disliked): design, usability, color, size, price, brand             Please return a a list of jsons only. Please use the example below as a template            [{\"product\": {\"type\": \"Climbing\", \"brand\": \"Gravitator\", \"name\": \"Gravity Beam Climbing Rope\"}, \"sentiment\": \"enthusiastic\", \"features\": {\"like\": [\"design\", \"usability\", \"color\", \"size\", \"price\", \"brand\"], \"dislike\": []}}, {\"product\": {\"type\": \"Footwear\", \"brand\": \"Raptor Elite\", \"name\": \"Trek Xtreme Hiking Shoes\"}, \"sentiment\": \"enthusiastic\", \"features\": {\"like\": [\"design\", \"usability\", \"color\", \"size\", \"price\", \"brand\"], \"dislike\": []}}, {\"product\": {\"type\": \"Navigation\", \"brand\": \"AirStrider\", \"name\": \"VenturePro GPS Watch\"}, \"sentiment\": \"enthusiastic\", \"features\": {\"like\": [\"design\", \"usability\", \"price\", \"brand\"], \"dislike\": []}}]            ",
           "name": "system",
           "role": "system"
          },
          {
           "content": "[{\"Question\":\"I'm planning a hiking trip and need a reliable backpack. What options do you have?\",\"Answer\":\"For your hiking trip, I recommend the WildRunner Ridgevent Stealth Hiking Backpack. It's designed specifically for outdoor adventures, featuring a durable nylon construction and multiple compartments for ample storage. Plus, its stealthy red color adds a touch of style to your gear. It’s priced at $69.99.\"},{\"Question\":\"That sounds great! What other types of products do you offer?\",\"Answer\":\"We offer a variety of products including Bags, Jackets, and more. Each category is designed to meet the needs of outdoor enthusiasts and adventurers.\"},{\"Question\":\"I'm also looking for a jacket that can handle cold weather. What do you have in that category?\",\"Answer\":\"We have two excellent options for cold weather jackets. The first is the Frostbite Insulated Jacket by Grolltex, which features a water-resistant outer shell and lightweight insulation. The second is the Legend Element Outdoor Jacket, which offers waterproof and windproof protection with breathable fabric. Both are priced at $179.99.\"},{\"Question\":\"Can you tell me more about the Frostbite Insulated Jacket? I'm interested in its features.\",\"Answer\":\"Certainly! The Frostbite Insulated Jacket by Grolltex is designed to keep you warm and stylish. It has a water-resistant outer shell and lightweight insulation, making it perfect for cold weather adventures. The black and gray color combination, along with the Grolltex logo, adds a touch of sophistication. It also features an adjustable hood and multiple pockets for added functionality.\"},{\"Question\":\"What about the Legend Element Outdoor Jacket? How does it compare?\",\"Answer\":\"The Legend Element Outdoor Jacket is another excellent choice. It offers ultimate protection with its waterproof and windproof shell, making it ideal for any weather condition. The breathable fabric and adjustable cuffs ensure comfort during your adventures. It comes in a stylish charcoal gray color and is also priced at $179.99.\"},{\"Question\":\"I'm curious about the materials used in these jackets. Can you provide more details?\",\"Answer\":\"Of course! The Frostbite Insulated Jacket by Grolltex features a water-resistant outer shell made from high-quality synthetic materials and lightweight insulation to keep you warm. The Legend Element Outdoor Jacket, on the other hand, has a waterproof and windproof shell made from durable, breathable fabric, ensuring both protection and comfort.\"},{\"Question\":\"I see. How do the prices of these jackets compare to the Ridgevent Stealth Hiking Backpack?\",\"Answer\":\"The Ridgevent Stealth Hiking Backpack is priced at $69.99, which is quite affordable for a high-quality hiking backpack. In comparison, both the Frostbite Insulated Jacket and the Legend Element Outdoor Jacket are priced at $179.99 each, reflecting their advanced features and materials designed for cold weather protection.\"},{\"Question\":\"I'm trying to decide between the two jackets. Which one would you recommend for versatility?\",\"Answer\":\"For versatility, I would recommend the Legend Element Outdoor Jacket. Its waterproof and windproof shell, combined with breathable fabric and adjustable cuffs, makes it suitable for a wide range of weather conditions. It’s designed to keep you comfortable and protected whether you're facing rain, wind, or cold temperatures.\"},{\"Question\":\"That sounds like a good choice. Do you have any other products that might be useful for my hiking trip?\",\"Answer\":\"In addition to the Ridgevent Stealth Hiking Backpack and the jackets, we also offer other outdoor gear and accessories. However, based on your current needs, the backpack and one of the jackets would be the most essential items for your hiking trip.\"}]",
           "name": "user",
           "role": "user"
          }
         ],
         "1": [
          "[{\"product\": {\"type\": \"Backpack\", \"brand\": \"WildRunner\", \"name\": \"Ridgevent Stealth Hiking Backpack\"}, \"sentiment\": \"enthusiastic\", \"features\": {\"like\": [\"design\", \"usability\", \"color\", \"price\"], \"dislike\": []}}, {\"product\": {\"type\": \"Jacket\", \"brand\": \"Grolltex\", \"name\": \"Frostbite Insulated Jacket\"}, \"sentiment\": \"enthusiastic\", \"features\": {\"like\": [\"design\", \"usability\", \"color\", \"brand\"], \"dislike\": [\"price\"]}}, {\"product\": {\"type\": \"Jacket\", \"brand\": \"Legend\", \"name\": \"Element Outdoor Jacket\"}, \"sentiment\": \"enthusiastic\", \"features\": {\"like\": [\"design\", \"usability\", \"color\", \"price\"], \"dislike\": []}}]"
         ]
        }
       ],
       "schema": [
        {
         "key": "0",
         "name": "messages",
         "type": "ArrayType(StructType(StructField(role,StringType,true),StructField(content,StringType,true),StructField(name,StringType,true)),true)"
        },
        {
         "key": "1",
         "name": "content",
         "type": "ArrayType(StringType,true)"
        }
       ],
       "truncated": false
      },
      "wranglerEntryContext": {
       "dataframeType": "pyspark"
      }
     },
     "type": "Synapse.DataFrame"
    },
    "1ab7e7e2-e11d-4000-a71d-9b77c4f7d484": {
     "persist_state": {
      "view": {
       "chartOptions": {
        "aggregationType": "sum",
        "binsNumber": 10,
        "categoryFieldKeys": [],
        "chartType": "bar",
        "isStacked": false,
        "seriesFieldKeys": [],
        "wordFrequency": "-1"
       },
       "tableOptions": {},
       "type": "details",
       "viewOptionsGroup": [
        {
         "tabItems": [
          {
           "key": "0",
           "name": "Table",
           "options": {},
           "type": "table"
          }
         ]
        }
       ]
      }
     },
     "sync_state": {
      "isSummary": false,
      "language": "scala",
      "table": {
       "rows": [
        {
         "0": [
          {
           "content": "You are an expert bussiness analyst, give a conversation between client and a chatbot, you identify the list of products discussed, sentiment around each product, features that are liked or disliked and provide results as a json file.            when identifying product, separate type, brand, and name             choices for sentiment: enthusiastic, neutral, obstructionist             choices for product features (like or disliked): design, usability, color, size, price, brand             Please return a a list of jsons only. Please use the example below as a template            [{\"product\": {\"type\": \"Climbing\", \"brand\": \"Gravitator\", \"name\": \"Gravity Beam Climbing Rope\"}, \"sentiment\": \"enthusiastic\", \"features\": {\"like\": [\"design\", \"usability\", \"color\", \"size\", \"price\", \"brand\"], \"dislike\": []}}, {\"product\": {\"type\": \"Footwear\", \"brand\": \"Raptor Elite\", \"name\": \"Trek Xtreme Hiking Shoes\"}, \"sentiment\": \"enthusiastic\", \"features\": {\"like\": [\"design\", \"usability\", \"color\", \"size\", \"price\", \"brand\"], \"dislike\": []}}, {\"product\": {\"type\": \"Navigation\", \"brand\": \"AirStrider\", \"name\": \"VenturePro GPS Watch\"}, \"sentiment\": \"enthusiastic\", \"features\": {\"like\": [\"design\", \"usability\", \"price\", \"brand\"], \"dislike\": []}}]            ",
           "name": "system",
           "role": "system"
          },
          {
           "content": "[{\"Question\":\"What kind of products are you selling?\",\"Answer\":\"We offer a variety of outdoor and adventure gear, including jackets, ski/boarding equipment, and climbing gear.\"},{\"Question\":\"Can you tell me more about the jackets you have?\",\"Answer\":\"Certainly! We have the Grolltex Mens Horizon 80s Softshell Jacket. It's water-resistant, breathable, and designed in a retro 1980s style. It also features a detachable hood, adjustable cuffs, and multiple pockets. It's priced at $169.99.\"},{\"Question\":\"I'm looking for something to use while skiing. Do you have any recommendations?\",\"Answer\":\"Yes, the Solstix Expedition 2022 Goggles are perfect for skiing. They come with an anti-fog lens, UV protection, and a comfortable foam lining. They also have a sleek matte black frame. These goggles are priced at $89.00.\"},{\"Question\":\"How about climbing gear? What do you have available?\",\"Answer\":\"For climbing, we have the Raptor Elite Razor Climbing Harness. It's lightweight, breathable, and designed for maximum comfort and performance. It features adjustable waist and leg loops for a secure fit and is priced at $94.99.\"},{\"Question\":\"I'm on a budget. Which of these products is the most affordable?\",\"Answer\":\"The most affordable product we have is the Solstix Expedition 2022 Goggles, priced at $89.00.\"},{\"Question\":\"What makes the Grolltex Mens Horizon 80s Softshell Jacket worth its price?\",\"Answer\":\"The Grolltex Mens Horizon 80s Softshell Jacket is worth its price due to its water-resistant and breathable fabric, retro 1980s style, detachable hood, adjustable cuffs, and multiple pockets. It's designed to keep you dry and comfortable in any weather, making it a versatile and stylish choice for various activities.\"},{\"Question\":\"Are the Solstix Expedition 2022 Goggles good for all weather conditions?\",\"Answer\":\"Yes, the Solstix Expedition 2022 Goggles are designed to provide clear vision and optimal protection in various weather conditions. The anti-fog lens and UV protection ensure you have an unrestricted view even in challenging conditions.\"},{\"Question\":\"What features does the Raptor Elite Razor Climbing Harness offer for its price?\",\"Answer\":\"The Raptor Elite Razor Climbing Harness offers several features for its price, including lightweight and breathable construction, adjustable waist and leg loops for a secure fit, and reinforced tie-in points for durability. The razor-shaped webbing adds a stylish touch to the blue color of the harness.\"},{\"Question\":\"Can the Grolltex Mens Horizon 80s Softshell Jacket be used for activities other than hiking and skiing?\",\"Answer\":\"Absolutely! The Grolltex Mens Horizon 80s Softshell Jacket is versatile enough for various activities, including exploring the city. Its stylish design and functional features make it suitable for different environments.\"},{\"Question\":\"Is the Raptor Elite Razor Climbing Harness suitable for beginners?\",\"Answer\":\"Yes, the Raptor Elite Razor Climbing Harness is suitable for climbers of all levels, including beginners. Its adjustable waist and leg loops provide a secure and customized fit, ensuring comfort and safety during climbs.\"}]",
           "name": "user",
           "role": "user"
          }
         ],
         "1": [
          "[{\"product\": {\"type\": \"Jacket\", \"brand\": \"Grolltex\", \"name\": \"Mens Horizon 80s Softshell Jacket\"}, \"sentiment\": \"enthusiastic\", \"features\": {\"like\": [\"design\", \"usability\", \"size\", \"brand\"], \"dislike\": [\"price\"]}}, {\"product\": {\"type\": \"Goggles\", \"brand\": \"Solstix\", \"name\": \"Expedition 2022 Goggles\"}, \"sentiment\": \"enthusiastic\", \"features\": {\"like\": [\"design\", \"usability\", \"color\", \"price\", \"brand\"], \"dislike\": []}}, {\"product\": {\"type\": \"Climbing Harness\", \"brand\": \"Raptor Elite\", \"name\": \"Razor Climbing Harness\"}, \"sentiment\": \"enthusiastic\", \"features\": {\"like\": [\"design\", \"usability\", \"color\", \"size\", \"price\", \"brand\"], \"dislike\": []}}]"
         ],
         "2": "[{\"product\": {\"type\": \"Jacket\", \"brand\": \"Grolltex\", \"name\": \"Mens Horizon 80s Softshell Jacket\"}, \"sentiment\": \"enthusiastic\", \"features\": {\"like\": [\"design\", \"usability\", \"size\", \"brand\"], \"dislike\": [\"price\"]}}, {\"product\": {\"type\": \"Goggles\", \"brand\": \"Solstix\", \"name\": \"Expedition 2022 Goggles\"}, \"sentiment\": \"enthusiastic\", \"features\": {\"like\": [\"design\", \"usability\", \"color\", \"price\", \"brand\"], \"dislike\": []}}, {\"product\": {\"type\": \"Climbing Harness\", \"brand\": \"Raptor Elite\", \"name\": \"Razor Climbing Harness\"}, \"sentiment\": \"enthusiastic\", \"features\": {\"like\": [\"design\", \"usability\", \"color\", \"size\", \"price\", \"brand\"], \"dislike\": []}}]",
         "3": [
          {
           "features": {
            "dislike": [
             "price"
            ],
            "like": [
             "design",
             "usability",
             "size",
             "brand"
            ]
           },
           "product": {
            "brand": "Grolltex",
            "name": "Mens Horizon 80s Softshell Jacket",
            "type": "Jacket"
           },
           "sentiment": "enthusiastic"
          },
          {
           "features": {
            "dislike": [],
            "like": [
             "design",
             "usability",
             "color",
             "price",
             "brand"
            ]
           },
           "product": {
            "brand": "Solstix",
            "name": "Expedition 2022 Goggles",
            "type": "Goggles"
           },
           "sentiment": "enthusiastic"
          },
          {
           "features": {
            "dislike": [],
            "like": [
             "design",
             "usability",
             "color",
             "size",
             "price",
             "brand"
            ]
           },
           "product": {
            "brand": "Raptor Elite",
            "name": "Razor Climbing Harness",
            "type": "Climbing Harness"
           },
           "sentiment": "enthusiastic"
          }
         ],
         "4": {
          "features": {
           "dislike": [
            "price"
           ],
           "like": [
            "design",
            "usability",
            "size",
            "brand"
           ]
          },
          "product": {
           "brand": "Grolltex",
           "name": "Mens Horizon 80s Softshell Jacket",
           "type": "Jacket"
          },
          "sentiment": "enthusiastic"
         },
         "5": {
          "dislike": [
           "price"
          ],
          "like": [
           "design",
           "usability",
           "size",
           "brand"
          ]
         },
         "6": [
          "design",
          "usability",
          "size",
          "brand"
         ],
         "7": [
          "price"
         ],
         "8": "0",
         "9": "1",
         "10": "1",
         "11": "0",
         "12": "1",
         "13": "0",
         "14": "0",
         "15": "0",
         "16": "1",
         "17": "0",
         "18": "1",
         "19": "0",
         "20": "enthusiastic",
         "21": "1",
         "22": "0",
         "23": "0",
         "index": 0,
         "key": 0
        }
       ],
       "schema": [
        {
         "key": "0",
         "name": "messages",
         "type": "ArrayType(StructType(StructField(role,StringType,true),StructField(content,StringType,true),StructField(name,StringType,true)),true)"
        },
        {
         "key": "1",
         "name": "content",
         "type": "ArrayType(StringType,true)"
        },
        {
         "key": "2",
         "name": "json_string",
         "type": "string"
        },
        {
         "key": "3",
         "name": "parsed_json",
         "type": "ArrayType(StructType(StructField(product,StructType(StructField(type,StringType,true),StructField(brand,StringType,true),StructField(name,StringType,true)),true),StructField(sentiment,StringType,true),StructField(features,StructType(StructField(like,ArrayType(StringType,true),true),StructField(dislike,ArrayType(StringType,true),true)),true)),true)"
        },
        {
         "key": "4",
         "name": "exploded",
         "type": "StructType(StructField(product,StructType(StructField(type,StringType,true),StructField(brand,StringType,true),StructField(name,StringType,true)),true),StructField(sentiment,StringType,true),StructField(features,StructType(StructField(like,ArrayType(StringType,true),true),StructField(dislike,ArrayType(StringType,true),true)),true))"
        },
        {
         "key": "5",
         "name": "features",
         "type": "StructType(StructField(like,ArrayType(StringType,true),true),StructField(dislike,ArrayType(StringType,true),true))"
        },
        {
         "key": "6",
         "name": "like_features",
         "type": "ArrayType(StringType,true)"
        },
        {
         "key": "7",
         "name": "dislike_features",
         "type": "ArrayType(StringType,true)"
        },
        {
         "key": "8",
         "name": "liked_price",
         "type": "int"
        },
        {
         "key": "9",
         "name": "disliked_price",
         "type": "int"
        },
        {
         "key": "10",
         "name": "liked_size",
         "type": "int"
        },
        {
         "key": "11",
         "name": "disliked_size",
         "type": "int"
        },
        {
         "key": "12",
         "name": "liked_usability",
         "type": "int"
        },
        {
         "key": "13",
         "name": "disliked_usability",
         "type": "int"
        },
        {
         "key": "14",
         "name": "liked_color",
         "type": "int"
        },
        {
         "key": "15",
         "name": "disliked_color",
         "type": "int"
        },
        {
         "key": "16",
         "name": "liked_brand",
         "type": "int"
        },
        {
         "key": "17",
         "name": "disliked_brand",
         "type": "int"
        },
        {
         "key": "18",
         "name": "liked_design",
         "type": "int"
        },
        {
         "key": "19",
         "name": "disliked_design",
         "type": "int"
        },
        {
         "key": "20",
         "name": "sentiment",
         "type": "string"
        },
        {
         "key": "21",
         "name": "enthusiastic",
         "type": "int"
        },
        {
         "key": "22",
         "name": "neutral",
         "type": "int"
        },
        {
         "key": "23",
         "name": "obstructionist",
         "type": "int"
        }
       ],
       "truncated": false
      },
      "wranglerEntryContext": {
       "dataframeType": "pyspark"
      }
     },
     "type": "Synapse.DataFrame"
    },
    "1acaff00-872e-4d4a-83a0-c041727d619e": {
     "persist_state": {
      "view": {
       "chartOptions": {
        "aggregationType": "sum",
        "binsNumber": 10,
        "categoryFieldKeys": [],
        "chartType": "bar",
        "isStacked": false,
        "seriesFieldKeys": [],
        "wordFrequency": "-1"
       },
       "tableOptions": {},
       "type": "details",
       "viewOptionsGroup": [
        {
         "tabItems": [
          {
           "key": "0",
           "name": "Table",
           "options": {},
           "type": "table"
          }
         ]
        }
       ]
      }
     },
     "sync_state": {
      "isSummary": false,
      "language": "scala",
      "table": {
       "rows": [
        {
         "0": "dD5RAOZaj8MBAAAAAAAAAA==",
         "1": "1",
         "2": "concise",
         "3": "price",
         "4": "[{\"Id\":68,\"Type\":\"Jackets\",\"Brand\":\"Grolltex\",\"Name\":\"Mens Horizon 80s Softshell Jacket\",\"Description\":\"Stay protected from the elements in the Grolltex Mens Horizon 80s Softshell Jacket. Made from a water-resistant and breathable fabric in retro 1980s style, this jacket keeps you dry and comfortable in any weather. It features multiple colors, a detachable hood, adjustable cuffs, and multiple pockets for storing your essentials. Whether you're hiking, skiing, or exploring the city, this jacket combines style and functionality.\",\"Price\":169.99},{\"Id\":16,\"Type\":\"Ski/boarding\",\"Brand\":\"Solstix\",\"Name\":\"Expedition 2022 Goggles\",\"Description\":\"Solstix Expedition 2022 Goggles provide clear vision and optimal protection on the slopes. With an anti-fog lens, UV protection, and a comfortable foam lining, these goggles ensure a great fit and unrestricted vision even in challenging conditions. The matte black frame gives them a sleek and modern look.\",\"Price\":89},{\"Id\":63,\"Type\":\"Climbing\",\"Brand\":\"Raptor Elite\",\"Name\":\"Razor Climbing Harness\",\"Description\":\"Reach new heights with the Raptor Elite Razor Climbing Harness. This lightweight and breathable harness is designed for maximum comfort and performance. With its adjustable waist and leg loops, it offers a secure and customized fit. The razor-shaped webbing adds a stylish touch to the blue color of the harness. Featuring durable construction and reinforced tie-in points, this harness is a must-have for climbers of all levels.\",\"Price\":94.99}]",
         "5": "[{\"Question\":\"What kind of products are you selling?\",\"Answer\":\"We offer a variety of outdoor and adventure gear, including jackets, ski/boarding equipment, and climbing gear.\"},{\"Question\":\"Can you tell me more about the jackets you have?\",\"Answer\":\"Certainly! We have the Grolltex Mens Horizon 80s Softshell Jacket. It's water-resistant, breathable, and designed in a retro 1980s style. It also features a detachable hood, adjustable cuffs, and multiple pockets. It's priced at $169.99.\"},{\"Question\":\"I'm looking for something to use while skiing. Do you have any recommendations?\",\"Answer\":\"Yes, the Solstix Expedition 2022 Goggles are perfect for skiing. They come with an anti-fog lens, UV protection, and a comfortable foam lining. They also have a sleek matte black frame. These goggles are priced at $89.00.\"},{\"Question\":\"How about climbing gear? What do you have available?\",\"Answer\":\"For climbing, we have the Raptor Elite Razor Climbing Harness. It's lightweight, breathable, and designed for maximum comfort and performance. It features adjustable waist and leg loops for a secure fit and is priced at $94.99.\"},{\"Question\":\"I'm on a budget. Which of these products is the most affordable?\",\"Answer\":\"The most affordable product we have is the Solstix Expedition 2022 Goggles, priced at $89.00.\"},{\"Question\":\"What makes the Grolltex Mens Horizon 80s Softshell Jacket worth its price?\",\"Answer\":\"The Grolltex Mens Horizon 80s Softshell Jacket is worth its price due to its water-resistant and breathable fabric, retro 1980s style, detachable hood, adjustable cuffs, and multiple pockets. It's designed to keep you dry and comfortable in any weather, making it a versatile and stylish choice for various activities.\"},{\"Question\":\"Are the Solstix Expedition 2022 Goggles good for all weather conditions?\",\"Answer\":\"Yes, the Solstix Expedition 2022 Goggles are designed to provide clear vision and optimal protection in various weather conditions. The anti-fog lens and UV protection ensure you have an unrestricted view even in challenging conditions.\"},{\"Question\":\"What features does the Raptor Elite Razor Climbing Harness offer for its price?\",\"Answer\":\"The Raptor Elite Razor Climbing Harness offers several features for its price, including lightweight and breathable construction, adjustable waist and leg loops for a secure fit, and reinforced tie-in points for durability. The razor-shaped webbing adds a stylish touch to the blue color of the harness.\"},{\"Question\":\"Can the Grolltex Mens Horizon 80s Softshell Jacket be used for activities other than hiking and skiing?\",\"Answer\":\"Absolutely! The Grolltex Mens Horizon 80s Softshell Jacket is versatile enough for various activities, including exploring the city. Its stylish design and functional features make it suitable for different environments.\"},{\"Question\":\"Is the Raptor Elite Razor Climbing Harness suitable for beginners?\",\"Answer\":\"Yes, the Raptor Elite Razor Climbing Harness is suitable for climbers of all levels, including beginners. Its adjustable waist and leg loops provide a secure and customized fit, ensuring comfort and safety during climbs.\"}]",
         "6": "70.5335812",
         "7": "02746683-891f-4985-a96c-f2c14b0a0fe8",
         "8": "1758755603",
         "index": 0,
         "key": 0
        },
        {
         "0": "dD5RAOZaj8MCAAAAAAAAAA==",
         "1": "2",
         "2": "verbose",
         "3": "type",
         "4": "[{\"Id\":24,\"Type\":\"Bags\",\"Brand\":\"WildRunner\",\"Name\":\"Ridgevent Stealth Hiking Backpack\",\"Description\":\"The WildRunner Ridgevent Stealth Hiking Backpack is the ultimate companion for your outdoor adventures. With its stealthy red color, this backpack combines style with functionality. Made from durable nylon and featuring multiple compartments, this backpack offers ample storage space for all your essentials. Whether you're venturing into the mountains or exploring hidden trails, the Ridgevent Stealth Hiking Backpack has got you covered.\",\"Price\":69.99},{\"Id\":8,\"Type\":\"Jackets\",\"Brand\":\"Grolltex\",\"Name\":\"Frostbite Insulated Jacket\",\"Description\":\"Stay warm and stylish with the Frostbite Insulated Jacket by Grolltex. Featuring a water-resistant outer shell and lightweight insulation, this jacket is perfect for cold weather adventures. The black and gray color combination and Grolltex logo add a touch of sophistication. With its adjustable hood and multiple pockets, this jacket offers both style and functionality.\",\"Price\":179.99},{\"Id\":98,\"Type\":\"Jackets\",\"Brand\":\"Legend\",\"Name\":\"Element Outdoor Jacket\",\"Description\":\"Gear up for any adventure with the Legend Element Outdoor Jacket. Available in charcoal gray, this jacket offers ultimate protection with its waterproof and windproof shell. The breathable fabric and adjustable cuffs ensure comfort, allowing you to explore in any weather condition.\",\"Price\":179.99}]",
         "5": "[{\"Question\":\"I'm planning a hiking trip and need a reliable backpack. What options do you have?\",\"Answer\":\"For your hiking trip, I recommend the WildRunner Ridgevent Stealth Hiking Backpack. It's designed specifically for outdoor adventures, featuring a durable nylon construction and multiple compartments for ample storage. Plus, its stealthy red color adds a touch of style to your gear. It’s priced at $69.99.\"},{\"Question\":\"That sounds great! What other types of products do you offer?\",\"Answer\":\"We offer a variety of products including Bags, Jackets, and more. Each category is designed to meet the needs of outdoor enthusiasts and adventurers.\"},{\"Question\":\"I'm also looking for a jacket that can handle cold weather. What do you have in that category?\",\"Answer\":\"We have two excellent options for cold weather jackets. The first is the Frostbite Insulated Jacket by Grolltex, which features a water-resistant outer shell and lightweight insulation. The second is the Legend Element Outdoor Jacket, which offers waterproof and windproof protection with breathable fabric. Both are priced at $179.99.\"},{\"Question\":\"Can you tell me more about the Frostbite Insulated Jacket? I'm interested in its features.\",\"Answer\":\"Certainly! The Frostbite Insulated Jacket by Grolltex is designed to keep you warm and stylish. It has a water-resistant outer shell and lightweight insulation, making it perfect for cold weather adventures. The black and gray color combination, along with the Grolltex logo, adds a touch of sophistication. It also features an adjustable hood and multiple pockets for added functionality.\"},{\"Question\":\"What about the Legend Element Outdoor Jacket? How does it compare?\",\"Answer\":\"The Legend Element Outdoor Jacket is another excellent choice. It offers ultimate protection with its waterproof and windproof shell, making it ideal for any weather condition. The breathable fabric and adjustable cuffs ensure comfort during your adventures. It comes in a stylish charcoal gray color and is also priced at $179.99.\"},{\"Question\":\"I'm curious about the materials used in these jackets. Can you provide more details?\",\"Answer\":\"Of course! The Frostbite Insulated Jacket by Grolltex features a water-resistant outer shell made from high-quality synthetic materials and lightweight insulation to keep you warm. The Legend Element Outdoor Jacket, on the other hand, has a waterproof and windproof shell made from durable, breathable fabric, ensuring both protection and comfort.\"},{\"Question\":\"I see. How do the prices of these jackets compare to the Ridgevent Stealth Hiking Backpack?\",\"Answer\":\"The Ridgevent Stealth Hiking Backpack is priced at $69.99, which is quite affordable for a high-quality hiking backpack. In comparison, both the Frostbite Insulated Jacket and the Legend Element Outdoor Jacket are priced at $179.99 each, reflecting their advanced features and materials designed for cold weather protection.\"},{\"Question\":\"I'm trying to decide between the two jackets. Which one would you recommend for versatility?\",\"Answer\":\"For versatility, I would recommend the Legend Element Outdoor Jacket. Its waterproof and windproof shell, combined with breathable fabric and adjustable cuffs, makes it suitable for a wide range of weather conditions. It’s designed to keep you comfortable and protected whether you're facing rain, wind, or cold temperatures.\"},{\"Question\":\"That sounds like a good choice. Do you have any other products that might be useful for my hiking trip?\",\"Answer\":\"In addition to the Ridgevent Stealth Hiking Backpack and the jackets, we also offer other outdoor gear and accessories. However, based on your current needs, the backpack and one of the jackets would be the most essential items for your hiking trip.\"}]",
         "6": "71.6984616",
         "7": "23f59e1a-e867-42da-87d9-6ddb678dcc0c",
         "8": "1758755603",
         "index": 1,
         "key": 1
        }
       ],
       "schema": [
        {
         "key": "0",
         "name": "_rid",
         "type": "string"
        },
        {
         "key": "1",
         "name": "Id",
         "type": "bigint"
        },
        {
         "key": "2",
         "name": "Tone",
         "type": "string"
        },
        {
         "key": "3",
         "name": "ProductCharacteristic",
         "type": "string"
        },
        {
         "key": "4",
         "name": "TargetProducts",
         "type": "string"
        },
        {
         "key": "5",
         "name": "Messages",
         "type": "string"
        },
        {
         "key": "6",
         "name": "TimeToGenerate",
         "type": "double"
        },
        {
         "key": "7",
         "name": "id_1",
         "type": "string"
        },
        {
         "key": "8",
         "name": "_ts",
         "type": "bigint"
        },
        {
         "key": "9",
         "name": "_change_type",
         "type": "string"
        }
       ],
       "truncated": false
      },
      "wranglerEntryContext": {
       "dataframeType": "pyspark"
      }
     },
     "type": "Synapse.DataFrame"
    },
    "221f1d3c-38db-43c3-95d4-e23014365907": {
     "persist_state": {
      "view": {
       "chartOptions": {
        "aggregationType": "sum",
        "binsNumber": 10,
        "categoryFieldKeys": [],
        "chartType": "bar",
        "isStacked": false,
        "seriesFieldKeys": [],
        "wordFrequency": "-1"
       },
       "tableOptions": {},
       "type": "details",
       "viewOptionsGroup": [
        {
         "tabItems": [
          {
           "key": "0",
           "name": "Table",
           "options": {},
           "type": "table"
          }
         ]
        }
       ]
      }
     },
     "sync_state": {
      "isSummary": false,
      "language": "scala",
      "table": {
       "rows": [
        {
         "4": "1",
         "5": "1",
         "6": "1",
         "7": "0",
         "8": "1",
         "9": "1",
         "10": "0",
         "11": "0",
         "12": "0",
         "13": "0",
         "14": "0",
         "15": "0",
         "16": "1",
         "17": "0",
         "18": "0",
         "index": 0,
         "key": 0
        },
        {
         "0": "746ba34b-463a-4ea6-89f6-4ef3ec036933",
         "1": "Footwear",
         "2": "Daybird",
         "3": "Wanderer Black Hiking Boots",
         "4": "2",
         "5": "0",
         "6": "3",
         "7": "2",
         "8": "2",
         "9": "3",
         "10": "1",
         "11": "0",
         "12": "0",
         "13": "0",
         "14": "0",
         "15": "0",
         "16": "2",
         "17": "0",
         "18": "1",
         "index": 1,
         "key": 1
        }
       ],
       "schema": [
        {
         "key": "0",
         "name": "id",
         "type": "string"
        },
        {
         "key": "1",
         "name": "Type",
         "type": "string"
        },
        {
         "key": "2",
         "name": "Brand",
         "type": "string"
        },
        {
         "key": "3",
         "name": "Name",
         "type": "string"
        },
        {
         "key": "4",
         "name": "sum_liked_price",
         "type": "bigint"
        },
        {
         "key": "5",
         "name": "sum_liked_size",
         "type": "bigint"
        },
        {
         "key": "6",
         "name": "sum_liked_usability",
         "type": "bigint"
        },
        {
         "key": "7",
         "name": "sum_liked_color",
         "type": "bigint"
        },
        {
         "key": "8",
         "name": "sum_liked_brand",
         "type": "bigint"
        },
        {
         "key": "9",
         "name": "sum_liked_design",
         "type": "bigint"
        },
        {
         "key": "10",
         "name": "sum_disliked_price",
         "type": "bigint"
        },
        {
         "key": "11",
         "name": "sum_disliked_size",
         "type": "bigint"
        },
        {
         "key": "12",
         "name": "sum_disliked_usability",
         "type": "bigint"
        },
        {
         "key": "13",
         "name": "sum_disliked_color",
         "type": "bigint"
        },
        {
         "key": "14",
         "name": "sum_disliked_brand",
         "type": "bigint"
        },
        {
         "key": "15",
         "name": "sum_disliked_design",
         "type": "bigint"
        },
        {
         "key": "16",
         "name": "sum_enthusiastic",
         "type": "bigint"
        },
        {
         "key": "17",
         "name": "sum_neutral",
         "type": "bigint"
        },
        {
         "key": "18",
         "name": "sum_obstructionist",
         "type": "bigint"
        }
       ],
       "truncated": false
      },
      "wranglerEntryContext": {
       "dataframeType": "pyspark"
      }
     },
     "type": "Synapse.DataFrame"
    },
    "3b581622-78d8-48c5-9a72-5dd99ecccef3": {
     "persist_state": {
      "view": {
       "chartOptions": {
        "aggregationType": "sum",
        "binsNumber": 10,
        "categoryFieldKeys": [],
        "chartType": "bar",
        "isStacked": false,
        "seriesFieldKeys": [],
        "wordFrequency": "-1"
       },
       "tableOptions": {},
       "type": "details",
       "viewOptionsGroup": [
        {
         "tabItems": [
          {
           "key": "0",
           "name": "Table",
           "options": {},
           "type": "table"
          }
         ]
        }
       ]
      }
     },
     "sync_state": {
      "isSummary": false,
      "language": "scala",
      "table": {
       "rows": [
        {
         "0": "f7cb3f45-85ad-4c4f-a58c-a986c161b11a",
         "1": "Ski/boarding",
         "2": "B&R",
         "3": "Blizzard Rider Snowboard",
         "4": "4",
         "5": "3",
         "6": "4",
         "7": "4",
         "8": "4",
         "9": "4",
         "10": "0",
         "11": "0",
         "12": "0",
         "13": "0",
         "14": "0",
         "15": "0",
         "16": "4",
         "17": "0",
         "18": "0"
        },
        {
         "0": "72e21bec-d728-4c3b-a4a2-e11238bbd9dc",
         "1": "Footwear",
         "2": "Daybird",
         "3": "Wanderer Black Hiking Boots",
         "4": "2",
         "5": "3",
         "6": "3",
         "7": "3",
         "8": "3",
         "9": "3",
         "10": "1",
         "11": "0",
         "12": "0",
         "13": "0",
         "14": "0",
         "15": "0",
         "16": "2",
         "17": "0",
         "18": "1"
        },
        {
         "0": "f78a0841-93c4-45fb-94e0-ced18d06fb28",
         "1": "Ski/boarding",
         "2": "WildRunner",
         "3": "Alpine Fusion Goggles",
         "4": "5",
         "5": "2",
         "6": "5",
         "7": "5",
         "8": "5",
         "9": "5",
         "10": "0",
         "11": "0",
         "12": "0",
         "13": "0",
         "14": "0",
         "15": "0",
         "16": "5",
         "17": "0",
         "18": "0"
        },
        {
         "0": "5fd7afe5-d1e5-442f-a842-9eade46d70e4",
         "1": "Climbing",
         "2": "Gravitator",
         "3": "Summit Pro Harness",
         "4": "1",
         "5": "1",
         "6": "3",
         "7": "2",
         "8": "3",
         "9": "3",
         "10": "2",
         "11": "0",
         "12": "0",
         "13": "0",
         "14": "0",
         "15": "0",
         "16": "2",
         "17": "0",
         "18": "1"
        },
        {
         "0": "3ce70467-ac7f-436f-8bff-8cda98a99342",
         "1": "Bags",
         "2": "Quester",
         "3": "Expedition Backpack",
         "4": "2",
         "5": "3",
         "6": "4",
         "7": "4",
         "8": "4",
         "9": "4",
         "10": "2",
         "11": "0",
         "12": "0",
         "13": "0",
         "14": "0",
         "15": "0",
         "16": "3",
         "17": "1",
         "18": "0"
        }
       ],
       "schema": [
        {
         "key": "0",
         "name": "id",
         "type": "string"
        },
        {
         "key": "1",
         "name": "Type",
         "type": "string"
        },
        {
         "key": "2",
         "name": "Brand",
         "type": "string"
        },
        {
         "key": "3",
         "name": "Name",
         "type": "string"
        },
        {
         "key": "4",
         "name": "sum_liked_price",
         "type": "bigint"
        },
        {
         "key": "5",
         "name": "sum_liked_size",
         "type": "bigint"
        },
        {
         "key": "6",
         "name": "sum_liked_usability",
         "type": "bigint"
        },
        {
         "key": "7",
         "name": "sum_liked_color",
         "type": "bigint"
        },
        {
         "key": "8",
         "name": "sum_liked_brand",
         "type": "bigint"
        },
        {
         "key": "9",
         "name": "sum_liked_design",
         "type": "bigint"
        },
        {
         "key": "10",
         "name": "sum_disliked_price",
         "type": "bigint"
        },
        {
         "key": "11",
         "name": "sum_disliked_size",
         "type": "bigint"
        },
        {
         "key": "12",
         "name": "sum_disliked_usability",
         "type": "bigint"
        },
        {
         "key": "13",
         "name": "sum_disliked_color",
         "type": "bigint"
        },
        {
         "key": "14",
         "name": "sum_disliked_brand",
         "type": "bigint"
        },
        {
         "key": "15",
         "name": "sum_disliked_design",
         "type": "bigint"
        },
        {
         "key": "16",
         "name": "sum_enthusiastic",
         "type": "bigint"
        },
        {
         "key": "17",
         "name": "sum_neutral",
         "type": "bigint"
        },
        {
         "key": "18",
         "name": "sum_obstructionist",
         "type": "bigint"
        }
       ],
       "truncated": false
      },
      "wranglerEntryContext": {
       "dataframeType": "pyspark"
      }
     },
     "type": "Synapse.DataFrame"
    },
    "4645ec4a-49bb-4be3-b2b4-8bb63100a915": {
     "persist_state": {
      "view": {
       "chartOptions": {
        "aggregationType": "sum",
        "binsNumber": 10,
        "categoryFieldKeys": [],
        "chartType": "bar",
        "isStacked": false,
        "seriesFieldKeys": [],
        "wordFrequency": "-1"
       },
       "tableOptions": {},
       "type": "details",
       "viewOptionsGroup": [
        {
         "tabItems": [
          {
           "key": "0",
           "name": "Table",
           "options": {},
           "type": "table"
          }
         ]
        }
       ]
      }
     },
     "sync_state": {
      "isSummary": false,
      "language": "scala",
      "table": {
       "rows": [
        {
         "4": "2",
         "5": "3",
         "6": "3",
         "7": "2",
         "8": "2",
         "9": "3",
         "10": "0",
         "11": "0",
         "12": "0",
         "13": "0",
         "14": "0",
         "15": "0",
         "16": "3",
         "17": "0",
         "18": "0",
         "index": 0,
         "key": 0
        },
        {
         "0": "9c08b050-b11c-4ce3-9c1b-c86cfc82a574",
         "1": "Footwear",
         "2": "Daybird",
         "3": "Wanderer Black Hiking Boots",
         "4": "2",
         "5": "1",
         "6": "3",
         "7": "2",
         "8": "2",
         "9": "2",
         "10": "1",
         "11": "0",
         "12": "0",
         "13": "0",
         "14": "0",
         "15": "0",
         "16": "2",
         "17": "0",
         "18": "1",
         "index": 1,
         "key": 1
        }
       ],
       "schema": [
        {
         "key": "0",
         "name": "id",
         "type": "string"
        },
        {
         "key": "1",
         "name": "Type",
         "type": "string"
        },
        {
         "key": "2",
         "name": "Brand",
         "type": "string"
        },
        {
         "key": "3",
         "name": "Name",
         "type": "string"
        },
        {
         "key": "4",
         "name": "sum_liked_price",
         "type": "bigint"
        },
        {
         "key": "5",
         "name": "sum_liked_size",
         "type": "bigint"
        },
        {
         "key": "6",
         "name": "sum_liked_usability",
         "type": "bigint"
        },
        {
         "key": "7",
         "name": "sum_liked_color",
         "type": "bigint"
        },
        {
         "key": "8",
         "name": "sum_liked_brand",
         "type": "bigint"
        },
        {
         "key": "9",
         "name": "sum_liked_design",
         "type": "bigint"
        },
        {
         "key": "10",
         "name": "sum_disliked_price",
         "type": "bigint"
        },
        {
         "key": "11",
         "name": "sum_disliked_size",
         "type": "bigint"
        },
        {
         "key": "12",
         "name": "sum_disliked_usability",
         "type": "bigint"
        },
        {
         "key": "13",
         "name": "sum_disliked_color",
         "type": "bigint"
        },
        {
         "key": "14",
         "name": "sum_disliked_brand",
         "type": "bigint"
        },
        {
         "key": "15",
         "name": "sum_disliked_design",
         "type": "bigint"
        },
        {
         "key": "16",
         "name": "sum_enthusiastic",
         "type": "bigint"
        },
        {
         "key": "17",
         "name": "sum_neutral",
         "type": "bigint"
        },
        {
         "key": "18",
         "name": "sum_obstructionist",
         "type": "bigint"
        }
       ],
       "truncated": false
      },
      "wranglerEntryContext": {
       "dataframeType": "pyspark"
      }
     },
     "type": "Synapse.DataFrame"
    },
    "49404924-4af1-4fb5-a5ab-5f8ed3a0e81e": {
     "persist_state": {
      "view": {
       "chartOptions": {
        "aggregationType": "sum",
        "binsNumber": 10,
        "categoryFieldKeys": [],
        "chartType": "bar",
        "isStacked": false,
        "seriesFieldKeys": [],
        "wordFrequency": "-1"
       },
       "tableOptions": {},
       "type": "details",
       "viewOptionsGroup": [
        {
         "tabItems": [
          {
           "key": "0",
           "name": "Table",
           "options": {},
           "type": "table"
          }
         ]
        }
       ]
      }
     },
     "sync_state": {
      "isSummary": false,
      "language": "scala",
      "table": {
       "rows": [
        {
         "0": "29",
         "1": "2",
         "2": "0",
         "3": "1",
         "4": "0",
         "5": "2",
         "6": "0",
         "7": "2",
         "8": "0",
         "9": "2",
         "10": "0",
         "11": "2",
         "12": "0",
         "13": "2",
         "14": "0",
         "15": "0",
         "16": "2",
         "index": 0,
         "key": 0
        },
        {
         "0": "26",
         "1": "1",
         "2": "0",
         "3": "2",
         "4": "0",
         "5": "2",
         "6": "0",
         "7": "2",
         "8": "0",
         "9": "2",
         "10": "0",
         "11": "2",
         "12": "0",
         "13": "2",
         "14": "0",
         "15": "0",
         "16": "2",
         "index": 1,
         "key": 1
        }
       ],
       "schema": [
        {
         "key": "0",
         "name": "product_id",
         "type": "bigint"
        },
        {
         "key": "1",
         "name": "sum_liked_price",
         "type": "bigint"
        },
        {
         "key": "2",
         "name": "sum_disliked_price",
         "type": "bigint"
        },
        {
         "key": "3",
         "name": "sum_liked_size",
         "type": "bigint"
        },
        {
         "key": "4",
         "name": "sum_disliked_size",
         "type": "bigint"
        },
        {
         "key": "5",
         "name": "sum_liked_usability",
         "type": "bigint"
        },
        {
         "key": "6",
         "name": "sum_disliked_usability",
         "type": "bigint"
        },
        {
         "key": "7",
         "name": "sum_liked_color",
         "type": "bigint"
        },
        {
         "key": "8",
         "name": "sum_disliked_color",
         "type": "bigint"
        },
        {
         "key": "9",
         "name": "sum_liked_brand",
         "type": "bigint"
        },
        {
         "key": "10",
         "name": "sum_disliked_brand",
         "type": "bigint"
        },
        {
         "key": "11",
         "name": "sum_liked_design",
         "type": "bigint"
        },
        {
         "key": "12",
         "name": "sum_disliked_design",
         "type": "bigint"
        },
        {
         "key": "13",
         "name": "sum_enthusiastic",
         "type": "bigint"
        },
        {
         "key": "14",
         "name": "sum_neutral",
         "type": "bigint"
        },
        {
         "key": "15",
         "name": "sum_obstructionist",
         "type": "bigint"
        },
        {
         "key": "16",
         "name": "sum_mentions",
         "type": "bigint"
        }
       ],
       "truncated": false
      },
      "wranglerEntryContext": {
       "dataframeType": "pyspark"
      }
     },
     "type": "Synapse.DataFrame"
    },
    "654a7201-4e0a-44e2-a13e-9c6e08b443ae": {
     "persist_state": {
      "view": {
       "chartOptions": {
        "aggregationType": "sum",
        "binsNumber": 10,
        "categoryFieldKeys": [],
        "chartType": "bar",
        "isStacked": false,
        "seriesFieldKeys": [],
        "wordFrequency": "-1"
       },
       "tableOptions": {},
       "type": "details",
       "viewOptionsGroup": [
        {
         "tabItems": [
          {
           "key": "0",
           "name": "Table",
           "options": {},
           "type": "table"
          }
         ]
        }
       ]
      }
     },
     "sync_state": {
      "isSummary": false,
      "language": "scala",
      "table": {
       "rows": [
        {
         "0": "dD5RAM6lPrIBAAAAAAAAAA==",
         "1": "1",
         "2": "Footwear",
         "3": "Daybird",
         "4": "Wanderer Black Hiking Boots",
         "5": "Daybird's Wanderer Hiking Boots in sleek black are perfect for all your outdoor adventures. These boots are made with a waterproof leather upper and a durable rubber sole for superior traction. With their cushioned insole and padded collar, these boots will keep you comfortable all day long.",
         "6": "109.99",
         "7": "851301fe-3c28-4b35-b40c-5dc3b23ae73f",
         "8": "1758755619"
        }
       ],
       "schema": [
        {
         "key": "0",
         "name": "_rid",
         "type": "string"
        },
        {
         "key": "1",
         "name": "Id",
         "type": "bigint"
        },
        {
         "key": "2",
         "name": "Type",
         "type": "string"
        },
        {
         "key": "3",
         "name": "Brand",
         "type": "string"
        },
        {
         "key": "4",
         "name": "Name",
         "type": "string"
        },
        {
         "key": "5",
         "name": "Description",
         "type": "string"
        },
        {
         "key": "6",
         "name": "Price",
         "type": "double"
        },
        {
         "key": "7",
         "name": "id_1",
         "type": "string"
        },
        {
         "key": "8",
         "name": "_ts",
         "type": "bigint"
        },
        {
         "key": "9",
         "name": "_change_type",
         "type": "string"
        }
       ],
       "truncated": false
      },
      "wranglerEntryContext": {
       "dataframeType": "pyspark"
      }
     },
     "type": "Synapse.DataFrame"
    },
    "6c4d47c6-f89f-4c12-834d-fea6a9a1ebbb": {
     "persist_state": {
      "view": {
       "chartOptions": {
        "aggregationType": "sum",
        "binsNumber": 10,
        "categoryFieldKeys": [],
        "chartType": "bar",
        "isStacked": false,
        "seriesFieldKeys": [],
        "wordFrequency": "-1"
       },
       "tableOptions": {},
       "type": "details",
       "viewOptionsGroup": [
        {
         "tabItems": [
          {
           "key": "0",
           "name": "Table",
           "options": {},
           "type": "table"
          }
         ]
        }
       ]
      }
     },
     "sync_state": {
      "isSummary": false,
      "language": "scala",
      "table": {
       "rows": [
        {
         "0": [
          {
           "content": "You are an expert bussiness analyst, give a conversation between client and a chatbot, you identify the list of products discussed, sentiment around each product, features that are liked or disliked and provide results as a json file.            when identifying product, separate type, brand, and name             choices for sentiment: enthusiastic, neutral, obstructionist             choices for product features (like or disliked): design, usability, color, size, price, brand             Please return a a list of jsons only. Please use the example below as a template            [{\"product\": {\"type\": \"Climbing\", \"brand\": \"Gravitator\", \"name\": \"Gravity Beam Climbing Rope\"}, \"sentiment\": \"enthusiastic\", \"features\": {\"like\": [\"design\", \"usability\", \"color\", \"size\", \"price\", \"brand\"], \"dislike\": []}}, {\"product\": {\"type\": \"Footwear\", \"brand\": \"Raptor Elite\", \"name\": \"Trek Xtreme Hiking Shoes\"}, \"sentiment\": \"enthusiastic\", \"features\": {\"like\": [\"design\", \"usability\", \"color\", \"size\", \"price\", \"brand\"], \"dislike\": []}}, {\"product\": {\"type\": \"Navigation\", \"brand\": \"AirStrider\", \"name\": \"VenturePro GPS Watch\"}, \"sentiment\": \"enthusiastic\", \"features\": {\"like\": [\"design\", \"usability\", \"price\", \"brand\"], \"dislike\": []}}]            ",
           "name": "system",
           "role": "system"
          },
          {
           "content": "[{\"Question\":\"What kind of products are you selling?\",\"Answer\":\"We offer a variety of outdoor and adventure gear, including jackets, ski/boarding equipment, and climbing gear.\"},{\"Question\":\"Can you tell me more about the jackets you have?\",\"Answer\":\"Certainly! We have the Grolltex Mens Horizon 80s Softshell Jacket. It's water-resistant, breathable, and designed in a retro 1980s style. It also features a detachable hood, adjustable cuffs, and multiple pockets. It's priced at $169.99.\"},{\"Question\":\"I'm looking for something to use while skiing. Do you have any recommendations?\",\"Answer\":\"Yes, the Solstix Expedition 2022 Goggles are perfect for skiing. They come with an anti-fog lens, UV protection, and a comfortable foam lining. They also have a sleek matte black frame. These goggles are priced at $89.00.\"},{\"Question\":\"How about climbing gear? What do you have available?\",\"Answer\":\"For climbing, we have the Raptor Elite Razor Climbing Harness. It's lightweight, breathable, and designed for maximum comfort and performance. It features adjustable waist and leg loops for a secure fit and is priced at $94.99.\"},{\"Question\":\"I'm on a budget. Which of these products is the most affordable?\",\"Answer\":\"The most affordable product we have is the Solstix Expedition 2022 Goggles, priced at $89.00.\"},{\"Question\":\"What makes the Grolltex Mens Horizon 80s Softshell Jacket worth its price?\",\"Answer\":\"The Grolltex Mens Horizon 80s Softshell Jacket is worth its price due to its water-resistant and breathable fabric, retro 1980s style, detachable hood, adjustable cuffs, and multiple pockets. It's designed to keep you dry and comfortable in any weather, making it a versatile and stylish choice for various activities.\"},{\"Question\":\"Are the Solstix Expedition 2022 Goggles good for all weather conditions?\",\"Answer\":\"Yes, the Solstix Expedition 2022 Goggles are designed to provide clear vision and optimal protection in various weather conditions. The anti-fog lens and UV protection ensure you have an unrestricted view even in challenging conditions.\"},{\"Question\":\"What features does the Raptor Elite Razor Climbing Harness offer for its price?\",\"Answer\":\"The Raptor Elite Razor Climbing Harness offers several features for its price, including lightweight and breathable construction, adjustable waist and leg loops for a secure fit, and reinforced tie-in points for durability. The razor-shaped webbing adds a stylish touch to the blue color of the harness.\"},{\"Question\":\"Can the Grolltex Mens Horizon 80s Softshell Jacket be used for activities other than hiking and skiing?\",\"Answer\":\"Absolutely! The Grolltex Mens Horizon 80s Softshell Jacket is versatile enough for various activities, including exploring the city. Its stylish design and functional features make it suitable for different environments.\"},{\"Question\":\"Is the Raptor Elite Razor Climbing Harness suitable for beginners?\",\"Answer\":\"Yes, the Raptor Elite Razor Climbing Harness is suitable for climbers of all levels, including beginners. Its adjustable waist and leg loops provide a secure and customized fit, ensuring comfort and safety during climbs.\"}]",
           "name": "user",
           "role": "user"
          }
         ],
         "1": [
          "[\n  {\n    \"product\": {\n      \"type\": \"Jacket\",\n      \"brand\": \"Grolltex\",\n      \"name\": \"Mens Horizon 80s Softshell Jacket\"\n    },\n    \"sentiment\": \"enthusiastic\",\n    \"features\": {\n      \"like\": [\"design\", \"usability\", \"color\", \"size\", \"brand\"],\n      \"dislike\": [\"price\"]\n    }\n  },\n  {\n    \"product\": {\n      \"type\": \"Goggles\",\n      \"brand\": \"Solstix\",\n      \"name\": \"Expedition 2022 Goggles\"\n    },\n    \"sentiment\": \"enthusiastic\",\n    \"features\": {\n      \"like\": [\"design\", \"usability\", \"color\", \"price\", \"brand\"],\n      \"dislike\": []\n    }\n  },\n  {\n    \"product\": {\n      \"type\": \"Climbing Harness\",\n      \"brand\": \"Raptor Elite\",\n      \"name\": \"Razor Climbing Harness\"\n    },\n    \"sentiment\": \"enthusiastic\",\n    \"features\": {\n      \"like\": [\"design\", \"usability\", \"color\", \"price\", \"brand\"],\n      \"dislike\": []\n    }\n  }\n]"
         ],
         "2": "[\n  {\n    \"product\": {\n      \"type\": \"Jacket\",\n      \"brand\": \"Grolltex\",\n      \"name\": \"Mens Horizon 80s Softshell Jacket\"\n    },\n    \"sentiment\": \"enthusiastic\",\n    \"features\": {\n      \"like\": [\"design\", \"usability\", \"color\", \"size\", \"brand\"],\n      \"dislike\": [\"price\"]\n    }\n  },\n  {\n    \"product\": {\n      \"type\": \"Goggles\",\n      \"brand\": \"Solstix\",\n      \"name\": \"Expedition 2022 Goggles\"\n    },\n    \"sentiment\": \"enthusiastic\",\n    \"features\": {\n      \"like\": [\"design\", \"usability\", \"color\", \"price\", \"brand\"],\n      \"dislike\": []\n    }\n  },\n  {\n    \"product\": {\n      \"type\": \"Climbing Harness\",\n      \"brand\": \"Raptor Elite\",\n      \"name\": \"Razor Climbing Harness\"\n    },\n    \"sentiment\": \"enthusiastic\",\n    \"features\": {\n      \"like\": [\"design\", \"usability\", \"color\", \"price\", \"brand\"],\n      \"dislike\": []\n    }\n  }\n]",
         "3": [
          {
           "features": {
            "dislike": [
             "price"
            ],
            "like": [
             "design",
             "usability",
             "color",
             "size",
             "brand"
            ]
           },
           "product": {
            "brand": "Grolltex",
            "name": "Mens Horizon 80s Softshell Jacket",
            "type": "Jacket"
           },
           "sentiment": "enthusiastic"
          },
          {
           "features": {
            "dislike": [],
            "like": [
             "design",
             "usability",
             "color",
             "price",
             "brand"
            ]
           },
           "product": {
            "brand": "Solstix",
            "name": "Expedition 2022 Goggles",
            "type": "Goggles"
           },
           "sentiment": "enthusiastic"
          },
          {
           "features": {
            "dislike": [],
            "like": [
             "design",
             "usability",
             "color",
             "price",
             "brand"
            ]
           },
           "product": {
            "brand": "Raptor Elite",
            "name": "Razor Climbing Harness",
            "type": "Climbing Harness"
           },
           "sentiment": "enthusiastic"
          }
         ],
         "4": {
          "features": {
           "dislike": [
            "price"
           ],
           "like": [
            "design",
            "usability",
            "color",
            "size",
            "brand"
           ]
          },
          "product": {
           "brand": "Grolltex",
           "name": "Mens Horizon 80s Softshell Jacket",
           "type": "Jacket"
          },
          "sentiment": "enthusiastic"
         },
         "index": 0,
         "key": 0
        },
        {
         "0": [
          {
           "content": "You are an expert bussiness analyst, give a conversation between client and a chatbot, you identify the list of products discussed, sentiment around each product, features that are liked or disliked and provide results as a json file.            when identifying product, separate type, brand, and name             choices for sentiment: enthusiastic, neutral, obstructionist             choices for product features (like or disliked): design, usability, color, size, price, brand             Please return a a list of jsons only. Please use the example below as a template            [{\"product\": {\"type\": \"Climbing\", \"brand\": \"Gravitator\", \"name\": \"Gravity Beam Climbing Rope\"}, \"sentiment\": \"enthusiastic\", \"features\": {\"like\": [\"design\", \"usability\", \"color\", \"size\", \"price\", \"brand\"], \"dislike\": []}}, {\"product\": {\"type\": \"Footwear\", \"brand\": \"Raptor Elite\", \"name\": \"Trek Xtreme Hiking Shoes\"}, \"sentiment\": \"enthusiastic\", \"features\": {\"like\": [\"design\", \"usability\", \"color\", \"size\", \"price\", \"brand\"], \"dislike\": []}}, {\"product\": {\"type\": \"Navigation\", \"brand\": \"AirStrider\", \"name\": \"VenturePro GPS Watch\"}, \"sentiment\": \"enthusiastic\", \"features\": {\"like\": [\"design\", \"usability\", \"price\", \"brand\"], \"dislike\": []}}]            ",
           "name": "system",
           "role": "system"
          },
          {
           "content": "[{\"Question\":\"What kind of products are you selling?\",\"Answer\":\"We offer a variety of outdoor and adventure gear, including jackets, ski/boarding equipment, and climbing gear.\"},{\"Question\":\"Can you tell me more about the jackets you have?\",\"Answer\":\"Certainly! We have the Grolltex Mens Horizon 80s Softshell Jacket. It's water-resistant, breathable, and designed in a retro 1980s style. It also features a detachable hood, adjustable cuffs, and multiple pockets. It's priced at $169.99.\"},{\"Question\":\"I'm looking for something to use while skiing. Do you have any recommendations?\",\"Answer\":\"Yes, the Solstix Expedition 2022 Goggles are perfect for skiing. They come with an anti-fog lens, UV protection, and a comfortable foam lining. They also have a sleek matte black frame. These goggles are priced at $89.00.\"},{\"Question\":\"How about climbing gear? What do you have available?\",\"Answer\":\"For climbing, we have the Raptor Elite Razor Climbing Harness. It's lightweight, breathable, and designed for maximum comfort and performance. It features adjustable waist and leg loops for a secure fit and is priced at $94.99.\"},{\"Question\":\"I'm on a budget. Which of these products is the most affordable?\",\"Answer\":\"The most affordable product we have is the Solstix Expedition 2022 Goggles, priced at $89.00.\"},{\"Question\":\"What makes the Grolltex Mens Horizon 80s Softshell Jacket worth its price?\",\"Answer\":\"The Grolltex Mens Horizon 80s Softshell Jacket is worth its price due to its water-resistant and breathable fabric, retro 1980s style, detachable hood, adjustable cuffs, and multiple pockets. It's designed to keep you dry and comfortable in any weather, making it a versatile and stylish choice for various activities.\"},{\"Question\":\"Are the Solstix Expedition 2022 Goggles good for all weather conditions?\",\"Answer\":\"Yes, the Solstix Expedition 2022 Goggles are designed to provide clear vision and optimal protection in various weather conditions. The anti-fog lens and UV protection ensure you have an unrestricted view even in challenging conditions.\"},{\"Question\":\"What features does the Raptor Elite Razor Climbing Harness offer for its price?\",\"Answer\":\"The Raptor Elite Razor Climbing Harness offers several features for its price, including lightweight and breathable construction, adjustable waist and leg loops for a secure fit, and reinforced tie-in points for durability. The razor-shaped webbing adds a stylish touch to the blue color of the harness.\"},{\"Question\":\"Can the Grolltex Mens Horizon 80s Softshell Jacket be used for activities other than hiking and skiing?\",\"Answer\":\"Absolutely! The Grolltex Mens Horizon 80s Softshell Jacket is versatile enough for various activities, including exploring the city. Its stylish design and functional features make it suitable for different environments.\"},{\"Question\":\"Is the Raptor Elite Razor Climbing Harness suitable for beginners?\",\"Answer\":\"Yes, the Raptor Elite Razor Climbing Harness is suitable for climbers of all levels, including beginners. Its adjustable waist and leg loops provide a secure and customized fit, ensuring comfort and safety during climbs.\"}]",
           "name": "user",
           "role": "user"
          }
         ],
         "1": [
          "[\n  {\n    \"product\": {\n      \"type\": \"Jacket\",\n      \"brand\": \"Grolltex\",\n      \"name\": \"Mens Horizon 80s Softshell Jacket\"\n    },\n    \"sentiment\": \"enthusiastic\",\n    \"features\": {\n      \"like\": [\"design\", \"usability\", \"color\", \"size\", \"brand\"],\n      \"dislike\": [\"price\"]\n    }\n  },\n  {\n    \"product\": {\n      \"type\": \"Goggles\",\n      \"brand\": \"Solstix\",\n      \"name\": \"Expedition 2022 Goggles\"\n    },\n    \"sentiment\": \"enthusiastic\",\n    \"features\": {\n      \"like\": [\"design\", \"usability\", \"color\", \"price\", \"brand\"],\n      \"dislike\": []\n    }\n  },\n  {\n    \"product\": {\n      \"type\": \"Climbing Harness\",\n      \"brand\": \"Raptor Elite\",\n      \"name\": \"Razor Climbing Harness\"\n    },\n    \"sentiment\": \"enthusiastic\",\n    \"features\": {\n      \"like\": [\"design\", \"usability\", \"color\", \"price\", \"brand\"],\n      \"dislike\": []\n    }\n  }\n]"
         ],
         "2": "[\n  {\n    \"product\": {\n      \"type\": \"Jacket\",\n      \"brand\": \"Grolltex\",\n      \"name\": \"Mens Horizon 80s Softshell Jacket\"\n    },\n    \"sentiment\": \"enthusiastic\",\n    \"features\": {\n      \"like\": [\"design\", \"usability\", \"color\", \"size\", \"brand\"],\n      \"dislike\": [\"price\"]\n    }\n  },\n  {\n    \"product\": {\n      \"type\": \"Goggles\",\n      \"brand\": \"Solstix\",\n      \"name\": \"Expedition 2022 Goggles\"\n    },\n    \"sentiment\": \"enthusiastic\",\n    \"features\": {\n      \"like\": [\"design\", \"usability\", \"color\", \"price\", \"brand\"],\n      \"dislike\": []\n    }\n  },\n  {\n    \"product\": {\n      \"type\": \"Climbing Harness\",\n      \"brand\": \"Raptor Elite\",\n      \"name\": \"Razor Climbing Harness\"\n    },\n    \"sentiment\": \"enthusiastic\",\n    \"features\": {\n      \"like\": [\"design\", \"usability\", \"color\", \"price\", \"brand\"],\n      \"dislike\": []\n    }\n  }\n]",
         "3": [
          {
           "features": {
            "dislike": [
             "price"
            ],
            "like": [
             "design",
             "usability",
             "color",
             "size",
             "brand"
            ]
           },
           "product": {
            "brand": "Grolltex",
            "name": "Mens Horizon 80s Softshell Jacket",
            "type": "Jacket"
           },
           "sentiment": "enthusiastic"
          },
          {
           "features": {
            "dislike": [],
            "like": [
             "design",
             "usability",
             "color",
             "price",
             "brand"
            ]
           },
           "product": {
            "brand": "Solstix",
            "name": "Expedition 2022 Goggles",
            "type": "Goggles"
           },
           "sentiment": "enthusiastic"
          },
          {
           "features": {
            "dislike": [],
            "like": [
             "design",
             "usability",
             "color",
             "price",
             "brand"
            ]
           },
           "product": {
            "brand": "Raptor Elite",
            "name": "Razor Climbing Harness",
            "type": "Climbing Harness"
           },
           "sentiment": "enthusiastic"
          }
         ],
         "4": {
          "features": {
           "dislike": [],
           "like": [
            "design",
            "usability",
            "color",
            "price",
            "brand"
           ]
          },
          "product": {
           "brand": "Solstix",
           "name": "Expedition 2022 Goggles",
           "type": "Goggles"
          },
          "sentiment": "enthusiastic"
         },
         "index": 1,
         "key": 1
        }
       ],
       "schema": [
        {
         "key": "0",
         "name": "messages",
         "type": "ArrayType(StructType(StructField(role,StringType,true),StructField(content,StringType,true),StructField(name,StringType,true)),true)"
        },
        {
         "key": "1",
         "name": "content",
         "type": "ArrayType(StringType,true)"
        },
        {
         "key": "2",
         "name": "json_string",
         "type": "string"
        },
        {
         "key": "3",
         "name": "parsed_json",
         "type": "ArrayType(StructType(StructField(product,StructType(StructField(type,StringType,true),StructField(brand,StringType,true),StructField(name,StringType,true)),true),StructField(sentiment,StringType,true),StructField(features,StructType(StructField(like,ArrayType(StringType,true),true),StructField(dislike,ArrayType(StringType,true),true)),true)),true)"
        },
        {
         "key": "4",
         "name": "exploded",
         "type": "StructType(StructField(product,StructType(StructField(type,StringType,true),StructField(brand,StringType,true),StructField(name,StringType,true)),true),StructField(sentiment,StringType,true),StructField(features,StructType(StructField(like,ArrayType(StringType,true),true),StructField(dislike,ArrayType(StringType,true),true)),true))"
        }
       ],
       "truncated": false
      },
      "wranglerEntryContext": {
       "dataframeType": "pyspark"
      }
     },
     "type": "Synapse.DataFrame"
    },
    "8b92cc8c-a07c-4f13-9b8c-3f1a39f27f62": {
     "persist_state": {
      "view": {
       "chartOptions": {
        "aggregationType": "sum",
        "binsNumber": 10,
        "categoryFieldKeys": [],
        "chartType": "bar",
        "isStacked": false,
        "seriesFieldKeys": [],
        "wordFrequency": "-1"
       },
       "tableOptions": {},
       "type": "details",
       "viewOptionsGroup": [
        {
         "tabItems": [
          {
           "key": "0",
           "name": "Table",
           "options": {},
           "type": "table"
          }
         ]
        }
       ]
      }
     },
     "sync_state": {
      "isSummary": false,
      "language": "scala",
      "table": {
       "rows": [
        {
         "0": [
          {
           "content": "You are an expert bussiness analyst, give a conversation between client and a chatbot, you identify the list of products discussed, sentiment around each product, features that are liked or disliked and provide results as a json file.            when identifying product, separate type, brand, and name             choices for sentiment: enthusiastic, neutral, obstructionist             choices for product features (like or disliked): design, usability, color, size, price, brand             Please return a a list of jsons only. Please use the example below as a template            [{\"product\": {\"type\": \"Climbing\", \"brand\": \"Gravitator\", \"name\": \"Gravity Beam Climbing Rope\"}, \"sentiment\": \"enthusiastic\", \"features\": {\"like\": [\"design\", \"usability\", \"color\", \"size\", \"price\", \"brand\"], \"dislike\": []}}, {\"product\": {\"type\": \"Footwear\", \"brand\": \"Raptor Elite\", \"name\": \"Trek Xtreme Hiking Shoes\"}, \"sentiment\": \"enthusiastic\", \"features\": {\"like\": [\"design\", \"usability\", \"color\", \"size\", \"price\", \"brand\"], \"dislike\": []}}, {\"product\": {\"type\": \"Navigation\", \"brand\": \"AirStrider\", \"name\": \"VenturePro GPS Watch\"}, \"sentiment\": \"enthusiastic\", \"features\": {\"like\": [\"design\", \"usability\", \"price\", \"brand\"], \"dislike\": []}}]            ",
           "name": "system",
           "role": "system"
          },
          {
           "content": "[{\"Question\":\"What kind of products are you selling?\",\"Answer\":\"We offer a variety of outdoor and adventure gear, including jackets, ski/boarding equipment, and climbing gear.\"},{\"Question\":\"Can you tell me more about the jackets you have?\",\"Answer\":\"Certainly! We have the Grolltex Mens Horizon 80s Softshell Jacket. It's water-resistant, breathable, and designed in a retro 1980s style. It also features a detachable hood, adjustable cuffs, and multiple pockets. It's priced at $169.99.\"},{\"Question\":\"I'm looking for something to use while skiing. Do you have any recommendations?\",\"Answer\":\"Yes, the Solstix Expedition 2022 Goggles are perfect for skiing. They come with an anti-fog lens, UV protection, and a comfortable foam lining. They also have a sleek matte black frame. These goggles are priced at $89.00.\"},{\"Question\":\"How about climbing gear? What do you have available?\",\"Answer\":\"For climbing, we have the Raptor Elite Razor Climbing Harness. It's lightweight, breathable, and designed for maximum comfort and performance. It features adjustable waist and leg loops for a secure fit and is priced at $94.99.\"},{\"Question\":\"I'm on a budget. Which of these products is the most affordable?\",\"Answer\":\"The most affordable product we have is the Solstix Expedition 2022 Goggles, priced at $89.00.\"},{\"Question\":\"What makes the Grolltex Mens Horizon 80s Softshell Jacket worth its price?\",\"Answer\":\"The Grolltex Mens Horizon 80s Softshell Jacket is worth its price due to its water-resistant and breathable fabric, retro 1980s style, detachable hood, adjustable cuffs, and multiple pockets. It's designed to keep you dry and comfortable in any weather, making it a versatile and stylish choice for various activities.\"},{\"Question\":\"Are the Solstix Expedition 2022 Goggles good for all weather conditions?\",\"Answer\":\"Yes, the Solstix Expedition 2022 Goggles are designed to provide clear vision and optimal protection in various weather conditions. The anti-fog lens and UV protection ensure you have an unrestricted view even in challenging conditions.\"},{\"Question\":\"What features does the Raptor Elite Razor Climbing Harness offer for its price?\",\"Answer\":\"The Raptor Elite Razor Climbing Harness offers several features for its price, including lightweight and breathable construction, adjustable waist and leg loops for a secure fit, and reinforced tie-in points for durability. The razor-shaped webbing adds a stylish touch to the blue color of the harness.\"},{\"Question\":\"Can the Grolltex Mens Horizon 80s Softshell Jacket be used for activities other than hiking and skiing?\",\"Answer\":\"Absolutely! The Grolltex Mens Horizon 80s Softshell Jacket is versatile enough for various activities, including exploring the city. Its stylish design and functional features make it suitable for different environments.\"},{\"Question\":\"Is the Raptor Elite Razor Climbing Harness suitable for beginners?\",\"Answer\":\"Yes, the Raptor Elite Razor Climbing Harness is suitable for climbers of all levels, including beginners. Its adjustable waist and leg loops provide a secure and customized fit, ensuring comfort and safety during climbs.\"}]",
           "name": "user",
           "role": "user"
          }
         ],
         "1": [
          "[{\"product\": {\"type\": \"Jacket\", \"brand\": \"Grolltex\", \"name\": \"Mens Horizon 80s Softshell Jacket\"}, \"sentiment\": \"enthusiastic\", \"features\": {\"like\": [\"design\", \"usability\", \"color\", \"size\", \"brand\"], \"dislike\": []}}, {\"product\": {\"type\": \"Goggles\", \"brand\": \"Solstix\", \"name\": \"Expedition 2022 Goggles\"}, \"sentiment\": \"enthusiastic\", \"features\": {\"like\": [\"design\", \"usability\", \"price\", \"brand\"], \"dislike\": []}}, {\"product\": {\"type\": \"Climbing Harness\", \"brand\": \"Raptor Elite\", \"name\": \"Razor Climbing Harness\"}, \"sentiment\": \"enthusiastic\", \"features\": {\"like\": [\"design\", \"usability\", \"color\", \"price\", \"brand\"], \"dislike\": []}}]"
         ],
         "2": "[{\"product\": {\"type\": \"Jacket\", \"brand\": \"Grolltex\", \"name\": \"Mens Horizon 80s Softshell Jacket\"}, \"sentiment\": \"enthusiastic\", \"features\": {\"like\": [\"design\", \"usability\", \"color\", \"size\", \"brand\"], \"dislike\": []}}, {\"product\": {\"type\": \"Goggles\", \"brand\": \"Solstix\", \"name\": \"Expedition 2022 Goggles\"}, \"sentiment\": \"enthusiastic\", \"features\": {\"like\": [\"design\", \"usability\", \"price\", \"brand\"], \"dislike\": []}}, {\"product\": {\"type\": \"Climbing Harness\", \"brand\": \"Raptor Elite\", \"name\": \"Razor Climbing Harness\"}, \"sentiment\": \"enthusiastic\", \"features\": {\"like\": [\"design\", \"usability\", \"color\", \"price\", \"brand\"], \"dislike\": []}}]",
         "3": [
          {
           "features": {
            "dislike": [],
            "like": [
             "design",
             "usability",
             "color",
             "size",
             "brand"
            ]
           },
           "product": {
            "brand": "Grolltex",
            "name": "Mens Horizon 80s Softshell Jacket",
            "type": "Jacket"
           },
           "sentiment": "enthusiastic"
          },
          {
           "features": {
            "dislike": [],
            "like": [
             "design",
             "usability",
             "price",
             "brand"
            ]
           },
           "product": {
            "brand": "Solstix",
            "name": "Expedition 2022 Goggles",
            "type": "Goggles"
           },
           "sentiment": "enthusiastic"
          },
          {
           "features": {
            "dislike": [],
            "like": [
             "design",
             "usability",
             "color",
             "price",
             "brand"
            ]
           },
           "product": {
            "brand": "Raptor Elite",
            "name": "Razor Climbing Harness",
            "type": "Climbing Harness"
           },
           "sentiment": "enthusiastic"
          }
         ],
         "4": {
          "features": {
           "dislike": [],
           "like": [
            "design",
            "usability",
            "color",
            "size",
            "brand"
           ]
          },
          "product": {
           "brand": "Grolltex",
           "name": "Mens Horizon 80s Softshell Jacket",
           "type": "Jacket"
          },
          "sentiment": "enthusiastic"
         },
         "5": {
          "dislike": [],
          "like": [
           "design",
           "usability",
           "color",
           "size",
           "brand"
          ]
         },
         "6": [
          "design",
          "usability",
          "color",
          "size",
          "brand"
         ],
         "7": [],
         "8": "0",
         "9": "0",
         "10": "1",
         "11": "0",
         "12": "1",
         "13": "0",
         "14": "1",
         "15": "0",
         "16": "1",
         "17": "0",
         "18": "1",
         "19": "0",
         "20": "enthusiastic",
         "21": "1",
         "22": "0",
         "23": "0",
         "24": "Jacket",
         "25": "Grolltex",
         "26": "Mens Horizon 80s Softshell Jacket",
         "27": "dD5RAM6lPrJEAAAAAAAAAA==",
         "28": "68",
         "29": "Jackets",
         "30": "Grolltex",
         "31": "Mens Horizon 80s Softshell Jacket",
         "32": "Stay protected from the elements in the Grolltex Mens Horizon 80s Softshell Jacket. Made from a water-resistant and breathable fabric in retro 1980s style, this jacket keeps you dry and comfortable in any weather. It features multiple colors, a detachable hood, adjustable cuffs, and multiple pockets for storing your essentials. Whether you're hiking, skiing, or exploring the city, this jacket combines style and functionality.",
         "33": "169.99",
         "34": "f734562f-700f-44e1-95ee-9c149392ae3d",
         "index": 0,
         "key": 0
        },
        {
         "0": [
          {
           "content": "You are an expert bussiness analyst, give a conversation between client and a chatbot, you identify the list of products discussed, sentiment around each product, features that are liked or disliked and provide results as a json file.            when identifying product, separate type, brand, and name             choices for sentiment: enthusiastic, neutral, obstructionist             choices for product features (like or disliked): design, usability, color, size, price, brand             Please return a a list of jsons only. Please use the example below as a template            [{\"product\": {\"type\": \"Climbing\", \"brand\": \"Gravitator\", \"name\": \"Gravity Beam Climbing Rope\"}, \"sentiment\": \"enthusiastic\", \"features\": {\"like\": [\"design\", \"usability\", \"color\", \"size\", \"price\", \"brand\"], \"dislike\": []}}, {\"product\": {\"type\": \"Footwear\", \"brand\": \"Raptor Elite\", \"name\": \"Trek Xtreme Hiking Shoes\"}, \"sentiment\": \"enthusiastic\", \"features\": {\"like\": [\"design\", \"usability\", \"color\", \"size\", \"price\", \"brand\"], \"dislike\": []}}, {\"product\": {\"type\": \"Navigation\", \"brand\": \"AirStrider\", \"name\": \"VenturePro GPS Watch\"}, \"sentiment\": \"enthusiastic\", \"features\": {\"like\": [\"design\", \"usability\", \"price\", \"brand\"], \"dislike\": []}}]            ",
           "name": "system",
           "role": "system"
          },
          {
           "content": "[{\"Question\":\"What kind of products are you selling?\",\"Answer\":\"We offer a variety of outdoor and adventure gear, including jackets, ski/boarding equipment, and climbing gear.\"},{\"Question\":\"Can you tell me more about the jackets you have?\",\"Answer\":\"Certainly! We have the Grolltex Mens Horizon 80s Softshell Jacket. It's water-resistant, breathable, and designed in a retro 1980s style. It also features a detachable hood, adjustable cuffs, and multiple pockets. It's priced at $169.99.\"},{\"Question\":\"I'm looking for something to use while skiing. Do you have any recommendations?\",\"Answer\":\"Yes, the Solstix Expedition 2022 Goggles are perfect for skiing. They come with an anti-fog lens, UV protection, and a comfortable foam lining. They also have a sleek matte black frame. These goggles are priced at $89.00.\"},{\"Question\":\"How about climbing gear? What do you have available?\",\"Answer\":\"For climbing, we have the Raptor Elite Razor Climbing Harness. It's lightweight, breathable, and designed for maximum comfort and performance. It features adjustable waist and leg loops for a secure fit and is priced at $94.99.\"},{\"Question\":\"I'm on a budget. Which of these products is the most affordable?\",\"Answer\":\"The most affordable product we have is the Solstix Expedition 2022 Goggles, priced at $89.00.\"},{\"Question\":\"What makes the Grolltex Mens Horizon 80s Softshell Jacket worth its price?\",\"Answer\":\"The Grolltex Mens Horizon 80s Softshell Jacket is worth its price due to its water-resistant and breathable fabric, retro 1980s style, detachable hood, adjustable cuffs, and multiple pockets. It's designed to keep you dry and comfortable in any weather, making it a versatile and stylish choice for various activities.\"},{\"Question\":\"Are the Solstix Expedition 2022 Goggles good for all weather conditions?\",\"Answer\":\"Yes, the Solstix Expedition 2022 Goggles are designed to provide clear vision and optimal protection in various weather conditions. The anti-fog lens and UV protection ensure you have an unrestricted view even in challenging conditions.\"},{\"Question\":\"What features does the Raptor Elite Razor Climbing Harness offer for its price?\",\"Answer\":\"The Raptor Elite Razor Climbing Harness offers several features for its price, including lightweight and breathable construction, adjustable waist and leg loops for a secure fit, and reinforced tie-in points for durability. The razor-shaped webbing adds a stylish touch to the blue color of the harness.\"},{\"Question\":\"Can the Grolltex Mens Horizon 80s Softshell Jacket be used for activities other than hiking and skiing?\",\"Answer\":\"Absolutely! The Grolltex Mens Horizon 80s Softshell Jacket is versatile enough for various activities, including exploring the city. Its stylish design and functional features make it suitable for different environments.\"},{\"Question\":\"Is the Raptor Elite Razor Climbing Harness suitable for beginners?\",\"Answer\":\"Yes, the Raptor Elite Razor Climbing Harness is suitable for climbers of all levels, including beginners. Its adjustable waist and leg loops provide a secure and customized fit, ensuring comfort and safety during climbs.\"}]",
           "name": "user",
           "role": "user"
          }
         ],
         "1": [
          "[{\"product\": {\"type\": \"Jacket\", \"brand\": \"Grolltex\", \"name\": \"Mens Horizon 80s Softshell Jacket\"}, \"sentiment\": \"enthusiastic\", \"features\": {\"like\": [\"design\", \"usability\", \"color\", \"size\", \"brand\"], \"dislike\": []}}, {\"product\": {\"type\": \"Goggles\", \"brand\": \"Solstix\", \"name\": \"Expedition 2022 Goggles\"}, \"sentiment\": \"enthusiastic\", \"features\": {\"like\": [\"design\", \"usability\", \"price\", \"brand\"], \"dislike\": []}}, {\"product\": {\"type\": \"Climbing Harness\", \"brand\": \"Raptor Elite\", \"name\": \"Razor Climbing Harness\"}, \"sentiment\": \"enthusiastic\", \"features\": {\"like\": [\"design\", \"usability\", \"color\", \"price\", \"brand\"], \"dislike\": []}}]"
         ],
         "2": "[{\"product\": {\"type\": \"Jacket\", \"brand\": \"Grolltex\", \"name\": \"Mens Horizon 80s Softshell Jacket\"}, \"sentiment\": \"enthusiastic\", \"features\": {\"like\": [\"design\", \"usability\", \"color\", \"size\", \"brand\"], \"dislike\": []}}, {\"product\": {\"type\": \"Goggles\", \"brand\": \"Solstix\", \"name\": \"Expedition 2022 Goggles\"}, \"sentiment\": \"enthusiastic\", \"features\": {\"like\": [\"design\", \"usability\", \"price\", \"brand\"], \"dislike\": []}}, {\"product\": {\"type\": \"Climbing Harness\", \"brand\": \"Raptor Elite\", \"name\": \"Razor Climbing Harness\"}, \"sentiment\": \"enthusiastic\", \"features\": {\"like\": [\"design\", \"usability\", \"color\", \"price\", \"brand\"], \"dislike\": []}}]",
         "3": [
          {
           "features": {
            "dislike": [],
            "like": [
             "design",
             "usability",
             "color",
             "size",
             "brand"
            ]
           },
           "product": {
            "brand": "Grolltex",
            "name": "Mens Horizon 80s Softshell Jacket",
            "type": "Jacket"
           },
           "sentiment": "enthusiastic"
          },
          {
           "features": {
            "dislike": [],
            "like": [
             "design",
             "usability",
             "price",
             "brand"
            ]
           },
           "product": {
            "brand": "Solstix",
            "name": "Expedition 2022 Goggles",
            "type": "Goggles"
           },
           "sentiment": "enthusiastic"
          },
          {
           "features": {
            "dislike": [],
            "like": [
             "design",
             "usability",
             "color",
             "price",
             "brand"
            ]
           },
           "product": {
            "brand": "Raptor Elite",
            "name": "Razor Climbing Harness",
            "type": "Climbing Harness"
           },
           "sentiment": "enthusiastic"
          }
         ],
         "4": {
          "features": {
           "dislike": [],
           "like": [
            "design",
            "usability",
            "price",
            "brand"
           ]
          },
          "product": {
           "brand": "Solstix",
           "name": "Expedition 2022 Goggles",
           "type": "Goggles"
          },
          "sentiment": "enthusiastic"
         },
         "5": {
          "dislike": [],
          "like": [
           "design",
           "usability",
           "price",
           "brand"
          ]
         },
         "6": [
          "design",
          "usability",
          "price",
          "brand"
         ],
         "7": [],
         "8": "1",
         "9": "0",
         "10": "0",
         "11": "0",
         "12": "1",
         "13": "0",
         "14": "0",
         "15": "0",
         "16": "1",
         "17": "0",
         "18": "1",
         "19": "0",
         "20": "enthusiastic",
         "21": "1",
         "22": "0",
         "23": "0",
         "24": "Goggles",
         "25": "Solstix",
         "26": "Expedition 2022 Goggles",
         "27": "dD5RAM6lPrIQAAAAAAAAAA==",
         "28": "16",
         "29": "Ski/boarding",
         "30": "Solstix",
         "31": "Expedition 2022 Goggles",
         "32": "Solstix Expedition 2022 Goggles provide clear vision and optimal protection on the slopes. With an anti-fog lens, UV protection, and a comfortable foam lining, these goggles ensure a great fit and unrestricted vision even in challenging conditions. The matte black frame gives them a sleek and modern look.",
         "33": "89.0",
         "34": "e91629f0-15db-4976-abb4-424b5c88504f",
         "index": 1,
         "key": 1
        }
       ],
       "schema": [
        {
         "key": "0",
         "name": "messages",
         "type": "ArrayType(StructType(StructField(role,StringType,true),StructField(content,StringType,true),StructField(name,StringType,true)),true)"
        },
        {
         "key": "1",
         "name": "content",
         "type": "ArrayType(StringType,true)"
        },
        {
         "key": "2",
         "name": "json_string",
         "type": "string"
        },
        {
         "key": "3",
         "name": "parsed_json",
         "type": "ArrayType(StructType(StructField(product,StructType(StructField(type,StringType,true),StructField(brand,StringType,true),StructField(name,StringType,true)),true),StructField(sentiment,StringType,true),StructField(features,StructType(StructField(like,ArrayType(StringType,true),true),StructField(dislike,ArrayType(StringType,true),true)),true)),true)"
        },
        {
         "key": "4",
         "name": "exploded",
         "type": "StructType(StructField(product,StructType(StructField(type,StringType,true),StructField(brand,StringType,true),StructField(name,StringType,true)),true),StructField(sentiment,StringType,true),StructField(features,StructType(StructField(like,ArrayType(StringType,true),true),StructField(dislike,ArrayType(StringType,true),true)),true))"
        },
        {
         "key": "5",
         "name": "features",
         "type": "StructType(StructField(like,ArrayType(StringType,true),true),StructField(dislike,ArrayType(StringType,true),true))"
        },
        {
         "key": "6",
         "name": "like_features",
         "type": "ArrayType(StringType,true)"
        },
        {
         "key": "7",
         "name": "dislike_features",
         "type": "ArrayType(StringType,true)"
        },
        {
         "key": "8",
         "name": "liked_price",
         "type": "int"
        },
        {
         "key": "9",
         "name": "disliked_price",
         "type": "int"
        },
        {
         "key": "10",
         "name": "liked_size",
         "type": "int"
        },
        {
         "key": "11",
         "name": "disliked_size",
         "type": "int"
        },
        {
         "key": "12",
         "name": "liked_usability",
         "type": "int"
        },
        {
         "key": "13",
         "name": "disliked_usability",
         "type": "int"
        },
        {
         "key": "14",
         "name": "liked_color",
         "type": "int"
        },
        {
         "key": "15",
         "name": "disliked_color",
         "type": "int"
        },
        {
         "key": "16",
         "name": "liked_brand",
         "type": "int"
        },
        {
         "key": "17",
         "name": "disliked_brand",
         "type": "int"
        },
        {
         "key": "18",
         "name": "liked_design",
         "type": "int"
        },
        {
         "key": "19",
         "name": "disliked_design",
         "type": "int"
        },
        {
         "key": "20",
         "name": "sentiment",
         "type": "string"
        },
        {
         "key": "21",
         "name": "enthusiastic",
         "type": "int"
        },
        {
         "key": "22",
         "name": "neutral",
         "type": "int"
        },
        {
         "key": "23",
         "name": "obstructionist",
         "type": "int"
        },
        {
         "key": "24",
         "name": "product_type",
         "type": "string"
        },
        {
         "key": "25",
         "name": "product_brand",
         "type": "string"
        },
        {
         "key": "26",
         "name": "product_name",
         "type": "string"
        },
        {
         "key": "27",
         "name": "_rid",
         "type": "string"
        },
        {
         "key": "28",
         "name": "Id",
         "type": "bigint"
        },
        {
         "key": "29",
         "name": "Type",
         "type": "string"
        },
        {
         "key": "30",
         "name": "Brand",
         "type": "string"
        },
        {
         "key": "31",
         "name": "Name",
         "type": "string"
        },
        {
         "key": "32",
         "name": "Description",
         "type": "string"
        },
        {
         "key": "33",
         "name": "Price",
         "type": "double"
        },
        {
         "key": "34",
         "name": "id_1",
         "type": "string"
        },
        {
         "key": "35",
         "name": "_change_type",
         "type": "string"
        }
       ],
       "truncated": false
      },
      "wranglerEntryContext": {
       "dataframeType": "pyspark"
      }
     },
     "type": "Synapse.DataFrame"
    },
    "9d8d41b5-5304-4076-9ba9-d0db5d3f4ef3": {
     "persist_state": {
      "view": {
       "chartOptions": {
        "aggregationType": "sum",
        "binsNumber": 10,
        "categoryFieldKeys": [],
        "chartType": "bar",
        "isStacked": false,
        "seriesFieldKeys": [],
        "wordFrequency": "-1"
       },
       "tableOptions": {},
       "type": "details",
       "viewOptionsGroup": [
        {
         "tabItems": [
          {
           "key": "0",
           "name": "Table",
           "options": {},
           "type": "table"
          }
         ]
        }
       ]
      }
     },
     "sync_state": {
      "isSummary": false,
      "language": "scala",
      "table": {
       "rows": [
        {
         "0": "1",
         "1": "Footwear",
         "2": "Daybird",
         "3": "Wanderer Black Hiking Boots",
         "4": "0",
         "5": "0",
         "6": "0",
         "7": "0",
         "8": "0",
         "9": "0",
         "10": "0",
         "11": "0",
         "12": "0",
         "13": "0",
         "14": "0",
         "15": "0",
         "16": "0",
         "17": "0",
         "18": "0",
         "19": "0",
         "20": "c001e3a9-ba31-4593-90b5-37812f5f0426",
         "index": 0,
         "key": 0
        },
        {
         "0": "2",
         "1": "Climbing",
         "2": "Gravitator",
         "3": "Summit Pro Harness",
         "4": "0",
         "5": "0",
         "6": "0",
         "7": "0",
         "8": "0",
         "9": "0",
         "10": "0",
         "11": "0",
         "12": "0",
         "13": "0",
         "14": "0",
         "15": "0",
         "16": "0",
         "17": "0",
         "18": "0",
         "19": "0",
         "20": "f18fd36a-f7a5-4cc7-b5e4-24936ffa965d",
         "index": 1,
         "key": 1
        }
       ],
       "schema": [
        {
         "key": "0",
         "name": "product_id",
         "type": "bigint"
        },
        {
         "key": "1",
         "name": "Type",
         "type": "string"
        },
        {
         "key": "2",
         "name": "Brand",
         "type": "string"
        },
        {
         "key": "3",
         "name": "Name",
         "type": "string"
        },
        {
         "key": "4",
         "name": "sum_liked_price",
         "type": "int"
        },
        {
         "key": "5",
         "name": "sum_disliked_price",
         "type": "int"
        },
        {
         "key": "6",
         "name": "sum_liked_size",
         "type": "int"
        },
        {
         "key": "7",
         "name": "sum_disliked_size",
         "type": "int"
        },
        {
         "key": "8",
         "name": "sum_liked_usability",
         "type": "int"
        },
        {
         "key": "9",
         "name": "sum_disliked_usability",
         "type": "int"
        },
        {
         "key": "10",
         "name": "sum_liked_color",
         "type": "int"
        },
        {
         "key": "11",
         "name": "sum_disliked_color",
         "type": "int"
        },
        {
         "key": "12",
         "name": "sum_liked_brand",
         "type": "int"
        },
        {
         "key": "13",
         "name": "sum_disliked_brand",
         "type": "int"
        },
        {
         "key": "14",
         "name": "sum_liked_design",
         "type": "int"
        },
        {
         "key": "15",
         "name": "sum_disliked_design",
         "type": "int"
        },
        {
         "key": "16",
         "name": "sum_enthusiastic",
         "type": "int"
        },
        {
         "key": "17",
         "name": "sum_neutral",
         "type": "int"
        },
        {
         "key": "18",
         "name": "sum_obstructionist",
         "type": "int"
        },
        {
         "key": "19",
         "name": "sum_mentions",
         "type": "int"
        },
        {
         "key": "20",
         "name": "id",
         "type": "string"
        }
       ],
       "truncated": false
      },
      "wranglerEntryContext": {
       "dataframeType": "pyspark"
      }
     },
     "type": "Synapse.DataFrame"
    },
    "a2f1a6ad-b856-4de8-8315-8130d8e906f7": {
     "persist_state": {
      "view": {
       "chartOptions": {
        "aggregationType": "sum",
        "binsNumber": 10,
        "categoryFieldKeys": [],
        "chartType": "bar",
        "isStacked": false,
        "seriesFieldKeys": [],
        "wordFrequency": "-1"
       },
       "tableOptions": {},
       "type": "details",
       "viewOptionsGroup": [
        {
         "tabItems": [
          {
           "key": "0",
           "name": "Table",
           "options": {},
           "type": "table"
          }
         ]
        }
       ]
      }
     },
     "sync_state": {
      "isSummary": false,
      "language": "scala",
      "table": {
       "rows": [
        {
         "0": [
          {
           "content": "You are an expert bussiness analyst, give a conversation between client and a chatbot, you identify the list of products discussed, sentiment around each product, features that are liked or disliked and provide results as a json file.            when identifying product, separate type, brand, and name             choices for sentiment: enthusiastic, neutral, obstructionist             choices for product features (like or disliked): design, usability, color, size, price, brand             Please return a a list of jsons only. Please use the example below as a template            [{\"product\": {\"type\": \"Climbing\", \"brand\": \"Gravitator\", \"name\": \"Gravity Beam Climbing Rope\"}, \"sentiment\": \"enthusiastic\", \"features\": {\"like\": [\"design\", \"usability\", \"color\", \"size\", \"price\", \"brand\"], \"dislike\": []}}, {\"product\": {\"type\": \"Footwear\", \"brand\": \"Raptor Elite\", \"name\": \"Trek Xtreme Hiking Shoes\"}, \"sentiment\": \"enthusiastic\", \"features\": {\"like\": [\"design\", \"usability\", \"color\", \"size\", \"price\", \"brand\"], \"dislike\": []}}, {\"product\": {\"type\": \"Navigation\", \"brand\": \"AirStrider\", \"name\": \"VenturePro GPS Watch\"}, \"sentiment\": \"enthusiastic\", \"features\": {\"like\": [\"design\", \"usability\", \"price\", \"brand\"], \"dislike\": []}}]            ",
           "name": "system",
           "role": "system"
          },
          {
           "content": "[{\"Question\":\"What kind of products are you selling?\",\"Answer\":\"We offer a variety of outdoor and adventure gear, including jackets, ski/boarding equipment, and climbing gear.\"},{\"Question\":\"Can you tell me more about the jackets you have?\",\"Answer\":\"Certainly! We have the Grolltex Mens Horizon 80s Softshell Jacket. It's water-resistant, breathable, and designed in a retro 1980s style. It also features a detachable hood, adjustable cuffs, and multiple pockets. It's priced at $169.99.\"},{\"Question\":\"I'm looking for something to use while skiing. Do you have any recommendations?\",\"Answer\":\"Yes, the Solstix Expedition 2022 Goggles are perfect for skiing. They come with an anti-fog lens, UV protection, and a comfortable foam lining. They also have a sleek matte black frame. These goggles are priced at $89.00.\"},{\"Question\":\"How about climbing gear? What do you have available?\",\"Answer\":\"For climbing, we have the Raptor Elite Razor Climbing Harness. It's lightweight, breathable, and designed for maximum comfort and performance. It features adjustable waist and leg loops for a secure fit and is priced at $94.99.\"},{\"Question\":\"I'm on a budget. Which of these products is the most affordable?\",\"Answer\":\"The most affordable product we have is the Solstix Expedition 2022 Goggles, priced at $89.00.\"},{\"Question\":\"What makes the Grolltex Mens Horizon 80s Softshell Jacket worth its price?\",\"Answer\":\"The Grolltex Mens Horizon 80s Softshell Jacket is worth its price due to its water-resistant and breathable fabric, retro 1980s style, detachable hood, adjustable cuffs, and multiple pockets. It's designed to keep you dry and comfortable in any weather, making it a versatile and stylish choice for various activities.\"},{\"Question\":\"Are the Solstix Expedition 2022 Goggles good for all weather conditions?\",\"Answer\":\"Yes, the Solstix Expedition 2022 Goggles are designed to provide clear vision and optimal protection in various weather conditions. The anti-fog lens and UV protection ensure you have an unrestricted view even in challenging conditions.\"},{\"Question\":\"What features does the Raptor Elite Razor Climbing Harness offer for its price?\",\"Answer\":\"The Raptor Elite Razor Climbing Harness offers several features for its price, including lightweight and breathable construction, adjustable waist and leg loops for a secure fit, and reinforced tie-in points for durability. The razor-shaped webbing adds a stylish touch to the blue color of the harness.\"},{\"Question\":\"Can the Grolltex Mens Horizon 80s Softshell Jacket be used for activities other than hiking and skiing?\",\"Answer\":\"Absolutely! The Grolltex Mens Horizon 80s Softshell Jacket is versatile enough for various activities, including exploring the city. Its stylish design and functional features make it suitable for different environments.\"},{\"Question\":\"Is the Raptor Elite Razor Climbing Harness suitable for beginners?\",\"Answer\":\"Yes, the Raptor Elite Razor Climbing Harness is suitable for climbers of all levels, including beginners. Its adjustable waist and leg loops provide a secure and customized fit, ensuring comfort and safety during climbs.\"}]",
           "name": "user",
           "role": "user"
          }
         ],
         "1": [
          "[{\"product\": {\"type\": \"Jacket\", \"brand\": \"Grolltex\", \"name\": \"Mens Horizon 80s Softshell Jacket\"}, \"sentiment\": \"enthusiastic\", \"features\": {\"like\": [\"design\", \"usability\", \"color\", \"size\", \"brand\"], \"dislike\": [\"price\"]}}, {\"product\": {\"type\": \"Goggles\", \"brand\": \"Solstix\", \"name\": \"Expedition 2022 Goggles\"}, \"sentiment\": \"enthusiastic\", \"features\": {\"like\": [\"design\", \"usability\", \"color\", \"price\", \"brand\"], \"dislike\": []}}, {\"product\": {\"type\": \"Climbing Harness\", \"brand\": \"Raptor Elite\", \"name\": \"Razor Climbing Harness\"}, \"sentiment\": \"enthusiastic\", \"features\": {\"like\": [\"design\", \"usability\", \"color\", \"size\", \"brand\", \"price\"], \"dislike\": []}}]"
         ],
         "2": "[{\"product\": {\"type\": \"Jacket\", \"brand\": \"Grolltex\", \"name\": \"Mens Horizon 80s Softshell Jacket\"}, \"sentiment\": \"enthusiastic\", \"features\": {\"like\": [\"design\", \"usability\", \"color\", \"size\", \"brand\"], \"dislike\": [\"price\"]}}, {\"product\": {\"type\": \"Goggles\", \"brand\": \"Solstix\", \"name\": \"Expedition 2022 Goggles\"}, \"sentiment\": \"enthusiastic\", \"features\": {\"like\": [\"design\", \"usability\", \"color\", \"price\", \"brand\"], \"dislike\": []}}, {\"product\": {\"type\": \"Climbing Harness\", \"brand\": \"Raptor Elite\", \"name\": \"Razor Climbing Harness\"}, \"sentiment\": \"enthusiastic\", \"features\": {\"like\": [\"design\", \"usability\", \"color\", \"size\", \"brand\", \"price\"], \"dislike\": []}}]",
         "index": 0,
         "key": 0
        },
        {
         "0": [
          {
           "content": "You are an expert bussiness analyst, give a conversation between client and a chatbot, you identify the list of products discussed, sentiment around each product, features that are liked or disliked and provide results as a json file.            when identifying product, separate type, brand, and name             choices for sentiment: enthusiastic, neutral, obstructionist             choices for product features (like or disliked): design, usability, color, size, price, brand             Please return a a list of jsons only. Please use the example below as a template            [{\"product\": {\"type\": \"Climbing\", \"brand\": \"Gravitator\", \"name\": \"Gravity Beam Climbing Rope\"}, \"sentiment\": \"enthusiastic\", \"features\": {\"like\": [\"design\", \"usability\", \"color\", \"size\", \"price\", \"brand\"], \"dislike\": []}}, {\"product\": {\"type\": \"Footwear\", \"brand\": \"Raptor Elite\", \"name\": \"Trek Xtreme Hiking Shoes\"}, \"sentiment\": \"enthusiastic\", \"features\": {\"like\": [\"design\", \"usability\", \"color\", \"size\", \"price\", \"brand\"], \"dislike\": []}}, {\"product\": {\"type\": \"Navigation\", \"brand\": \"AirStrider\", \"name\": \"VenturePro GPS Watch\"}, \"sentiment\": \"enthusiastic\", \"features\": {\"like\": [\"design\", \"usability\", \"price\", \"brand\"], \"dislike\": []}}]            ",
           "name": "system",
           "role": "system"
          },
          {
           "content": "[{\"Question\":\"I'm planning a hiking trip and need a reliable backpack. What options do you have?\",\"Answer\":\"For your hiking trip, I recommend the WildRunner Ridgevent Stealth Hiking Backpack. It's designed specifically for outdoor adventures, featuring a durable nylon construction and multiple compartments for ample storage. Plus, its stealthy red color adds a touch of style to your gear. It’s priced at $69.99.\"},{\"Question\":\"That sounds great! What other types of products do you offer?\",\"Answer\":\"We offer a variety of products including Bags, Jackets, and more. Each category is designed to meet the needs of outdoor enthusiasts and adventurers.\"},{\"Question\":\"I'm also looking for a jacket that can handle cold weather. What do you have in that category?\",\"Answer\":\"We have two excellent options for cold weather jackets. The first is the Frostbite Insulated Jacket by Grolltex, which features a water-resistant outer shell and lightweight insulation. The second is the Legend Element Outdoor Jacket, which offers waterproof and windproof protection with breathable fabric. Both are priced at $179.99.\"},{\"Question\":\"Can you tell me more about the Frostbite Insulated Jacket? I'm interested in its features.\",\"Answer\":\"Certainly! The Frostbite Insulated Jacket by Grolltex is designed to keep you warm and stylish. It has a water-resistant outer shell and lightweight insulation, making it perfect for cold weather adventures. The black and gray color combination, along with the Grolltex logo, adds a touch of sophistication. It also features an adjustable hood and multiple pockets for added functionality.\"},{\"Question\":\"What about the Legend Element Outdoor Jacket? How does it compare?\",\"Answer\":\"The Legend Element Outdoor Jacket is another excellent choice. It offers ultimate protection with its waterproof and windproof shell, making it ideal for any weather condition. The breathable fabric and adjustable cuffs ensure comfort during your adventures. It comes in a stylish charcoal gray color and is also priced at $179.99.\"},{\"Question\":\"I'm curious about the materials used in these jackets. Can you provide more details?\",\"Answer\":\"Of course! The Frostbite Insulated Jacket by Grolltex features a water-resistant outer shell made from high-quality synthetic materials and lightweight insulation to keep you warm. The Legend Element Outdoor Jacket, on the other hand, has a waterproof and windproof shell made from durable, breathable fabric, ensuring both protection and comfort.\"},{\"Question\":\"I see. How do the prices of these jackets compare to the Ridgevent Stealth Hiking Backpack?\",\"Answer\":\"The Ridgevent Stealth Hiking Backpack is priced at $69.99, which is quite affordable for a high-quality hiking backpack. In comparison, both the Frostbite Insulated Jacket and the Legend Element Outdoor Jacket are priced at $179.99 each, reflecting their advanced features and materials designed for cold weather protection.\"},{\"Question\":\"I'm trying to decide between the two jackets. Which one would you recommend for versatility?\",\"Answer\":\"For versatility, I would recommend the Legend Element Outdoor Jacket. Its waterproof and windproof shell, combined with breathable fabric and adjustable cuffs, makes it suitable for a wide range of weather conditions. It’s designed to keep you comfortable and protected whether you're facing rain, wind, or cold temperatures.\"},{\"Question\":\"That sounds like a good choice. Do you have any other products that might be useful for my hiking trip?\",\"Answer\":\"In addition to the Ridgevent Stealth Hiking Backpack and the jackets, we also offer other outdoor gear and accessories. However, based on your current needs, the backpack and one of the jackets would be the most essential items for your hiking trip.\"}]",
           "name": "user",
           "role": "user"
          }
         ],
         "1": [
          "[{\"product\": {\"type\": \"Backpack\", \"brand\": \"WildRunner\", \"name\": \"Ridgevent Stealth Hiking Backpack\"}, \"sentiment\": \"enthusiastic\", \"features\": {\"like\": [\"design\", \"usability\", \"color\", \"price\"], \"dislike\": []}}, {\"product\": {\"type\": \"Jacket\", \"brand\": \"Grolltex\", \"name\": \"Frostbite Insulated Jacket\"}, \"sentiment\": \"enthusiastic\", \"features\": {\"like\": [\"design\", \"usability\", \"color\", \"brand\"], \"dislike\": [\"price\"]}}, {\"product\": {\"type\": \"Jacket\", \"brand\": \"Legend\", \"name\": \"Element Outdoor Jacket\"}, \"sentiment\": \"enthusiastic\", \"features\": {\"like\": [\"design\", \"usability\", \"color\", \"size\"], \"dislike\": [\"price\"]}}]"
         ],
         "2": "[{\"product\": {\"type\": \"Backpack\", \"brand\": \"WildRunner\", \"name\": \"Ridgevent Stealth Hiking Backpack\"}, \"sentiment\": \"enthusiastic\", \"features\": {\"like\": [\"design\", \"usability\", \"color\", \"price\"], \"dislike\": []}}, {\"product\": {\"type\": \"Jacket\", \"brand\": \"Grolltex\", \"name\": \"Frostbite Insulated Jacket\"}, \"sentiment\": \"enthusiastic\", \"features\": {\"like\": [\"design\", \"usability\", \"color\", \"brand\"], \"dislike\": [\"price\"]}}, {\"product\": {\"type\": \"Jacket\", \"brand\": \"Legend\", \"name\": \"Element Outdoor Jacket\"}, \"sentiment\": \"enthusiastic\", \"features\": {\"like\": [\"design\", \"usability\", \"color\", \"size\"], \"dislike\": [\"price\"]}}]",
         "index": 1,
         "key": 1
        }
       ],
       "schema": [
        {
         "key": "0",
         "name": "messages",
         "type": "ArrayType(StructType(StructField(role,StringType,true),StructField(content,StringType,true),StructField(name,StringType,true)),true)"
        },
        {
         "key": "1",
         "name": "content",
         "type": "ArrayType(StringType,true)"
        },
        {
         "key": "2",
         "name": "json_string",
         "type": "string"
        }
       ],
       "truncated": false
      },
      "wranglerEntryContext": {
       "dataframeType": "pyspark"
      }
     },
     "type": "Synapse.DataFrame"
    },
    "a604a6e3-3e63-4604-9a27-ba0fdaee19b8": {
     "persist_state": {
      "view": {
       "chartOptions": {
        "aggregationType": "sum",
        "binsNumber": 10,
        "categoryFieldKeys": [],
        "chartType": "bar",
        "isStacked": false,
        "seriesFieldKeys": [],
        "wordFrequency": "-1"
       },
       "tableOptions": {},
       "type": "details",
       "viewOptionsGroup": [
        {
         "tabItems": [
          {
           "key": "0",
           "name": "Table",
           "options": {},
           "type": "table"
          }
         ]
        }
       ]
      }
     },
     "sync_state": {
      "isSummary": false,
      "language": "scala",
      "table": {
       "rows": [
        {
         "0": "dD5RAOZaj8MBAAAAAAAAAA==",
         "1": "1",
         "2": "concise",
         "3": "price",
         "4": "[{\"Id\":68,\"Type\":\"Jackets\",\"Brand\":\"Grolltex\",\"Name\":\"Mens Horizon 80s Softshell Jacket\",\"Description\":\"Stay protected from the elements in the Grolltex Mens Horizon 80s Softshell Jacket. Made from a water-resistant and breathable fabric in retro 1980s style, this jacket keeps you dry and comfortable in any weather. It features multiple colors, a detachable hood, adjustable cuffs, and multiple pockets for storing your essentials. Whether you're hiking, skiing, or exploring the city, this jacket combines style and functionality.\",\"Price\":169.99},{\"Id\":16,\"Type\":\"Ski/boarding\",\"Brand\":\"Solstix\",\"Name\":\"Expedition 2022 Goggles\",\"Description\":\"Solstix Expedition 2022 Goggles provide clear vision and optimal protection on the slopes. With an anti-fog lens, UV protection, and a comfortable foam lining, these goggles ensure a great fit and unrestricted vision even in challenging conditions. The matte black frame gives them a sleek and modern look.\",\"Price\":89},{\"Id\":63,\"Type\":\"Climbing\",\"Brand\":\"Raptor Elite\",\"Name\":\"Razor Climbing Harness\",\"Description\":\"Reach new heights with the Raptor Elite Razor Climbing Harness. This lightweight and breathable harness is designed for maximum comfort and performance. With its adjustable waist and leg loops, it offers a secure and customized fit. The razor-shaped webbing adds a stylish touch to the blue color of the harness. Featuring durable construction and reinforced tie-in points, this harness is a must-have for climbers of all levels.\",\"Price\":94.99}]",
         "5": [
          {
           "content": "You are an expert bussiness analyst, give a conversation between client and a chatbot, you identify the list of products discussed, sentiment around each product, features that are liked or disliked and provide results as a json file.            when identifying product, separate type, brand, and name             choices for sentiment: enthusiastic, neutral, obstructionist             choices for product features (like or disliked): design, usability, color, size, price, brand             Please return a a list of jsons only. Please use the example below as a template            [{\"product\": {\"type\": \"Climbing\", \"brand\": \"Gravitator\", \"name\": \"Gravity Beam Climbing Rope\"}, \"sentiment\": \"enthusiastic\", \"features\": {\"like\": [\"design\", \"usability\", \"color\", \"size\", \"price\", \"brand\"], \"dislike\": []}}, {\"product\": {\"type\": \"Footwear\", \"brand\": \"Raptor Elite\", \"name\": \"Trek Xtreme Hiking Shoes\"}, \"sentiment\": \"enthusiastic\", \"features\": {\"like\": [\"design\", \"usability\", \"color\", \"size\", \"price\", \"brand\"], \"dislike\": []}}, {\"product\": {\"type\": \"Navigation\", \"brand\": \"AirStrider\", \"name\": \"VenturePro GPS Watch\"}, \"sentiment\": \"enthusiastic\", \"features\": {\"like\": [\"design\", \"usability\", \"price\", \"brand\"], \"dislike\": []}}]            ",
           "name": "system",
           "role": "system"
          },
          {
           "content": "[{\"Question\":\"What kind of products are you selling?\",\"Answer\":\"We offer a variety of outdoor and adventure gear, including jackets, ski/boarding equipment, and climbing gear.\"},{\"Question\":\"Can you tell me more about the jackets you have?\",\"Answer\":\"Certainly! We have the Grolltex Mens Horizon 80s Softshell Jacket. It's water-resistant, breathable, and designed in a retro 1980s style. It also features a detachable hood, adjustable cuffs, and multiple pockets. It's priced at $169.99.\"},{\"Question\":\"I'm looking for something to use while skiing. Do you have any recommendations?\",\"Answer\":\"Yes, the Solstix Expedition 2022 Goggles are perfect for skiing. They come with an anti-fog lens, UV protection, and a comfortable foam lining. They also have a sleek matte black frame. These goggles are priced at $89.00.\"},{\"Question\":\"How about climbing gear? What do you have available?\",\"Answer\":\"For climbing, we have the Raptor Elite Razor Climbing Harness. It's lightweight, breathable, and designed for maximum comfort and performance. It features adjustable waist and leg loops for a secure fit and is priced at $94.99.\"},{\"Question\":\"I'm on a budget. Which of these products is the most affordable?\",\"Answer\":\"The most affordable product we have is the Solstix Expedition 2022 Goggles, priced at $89.00.\"},{\"Question\":\"What makes the Grolltex Mens Horizon 80s Softshell Jacket worth its price?\",\"Answer\":\"The Grolltex Mens Horizon 80s Softshell Jacket is worth its price due to its water-resistant and breathable fabric, retro 1980s style, detachable hood, adjustable cuffs, and multiple pockets. It's designed to keep you dry and comfortable in any weather, making it a versatile and stylish choice for various activities.\"},{\"Question\":\"Are the Solstix Expedition 2022 Goggles good for all weather conditions?\",\"Answer\":\"Yes, the Solstix Expedition 2022 Goggles are designed to provide clear vision and optimal protection in various weather conditions. The anti-fog lens and UV protection ensure you have an unrestricted view even in challenging conditions.\"},{\"Question\":\"What features does the Raptor Elite Razor Climbing Harness offer for its price?\",\"Answer\":\"The Raptor Elite Razor Climbing Harness offers several features for its price, including lightweight and breathable construction, adjustable waist and leg loops for a secure fit, and reinforced tie-in points for durability. The razor-shaped webbing adds a stylish touch to the blue color of the harness.\"},{\"Question\":\"Can the Grolltex Mens Horizon 80s Softshell Jacket be used for activities other than hiking and skiing?\",\"Answer\":\"Absolutely! The Grolltex Mens Horizon 80s Softshell Jacket is versatile enough for various activities, including exploring the city. Its stylish design and functional features make it suitable for different environments.\"},{\"Question\":\"Is the Raptor Elite Razor Climbing Harness suitable for beginners?\",\"Answer\":\"Yes, the Raptor Elite Razor Climbing Harness is suitable for climbers of all levels, including beginners. Its adjustable waist and leg loops provide a secure and customized fit, ensuring comfort and safety during climbs.\"}]",
           "name": "user",
           "role": "user"
          }
         ],
         "6": "70.5335812",
         "7": "02746683-891f-4985-a96c-f2c14b0a0fe8",
         "8": "1758755603"
        },
        {
         "0": "dD5RAOZaj8MCAAAAAAAAAA==",
         "1": "2",
         "2": "verbose",
         "3": "type",
         "4": "[{\"Id\":24,\"Type\":\"Bags\",\"Brand\":\"WildRunner\",\"Name\":\"Ridgevent Stealth Hiking Backpack\",\"Description\":\"The WildRunner Ridgevent Stealth Hiking Backpack is the ultimate companion for your outdoor adventures. With its stealthy red color, this backpack combines style with functionality. Made from durable nylon and featuring multiple compartments, this backpack offers ample storage space for all your essentials. Whether you're venturing into the mountains or exploring hidden trails, the Ridgevent Stealth Hiking Backpack has got you covered.\",\"Price\":69.99},{\"Id\":8,\"Type\":\"Jackets\",\"Brand\":\"Grolltex\",\"Name\":\"Frostbite Insulated Jacket\",\"Description\":\"Stay warm and stylish with the Frostbite Insulated Jacket by Grolltex. Featuring a water-resistant outer shell and lightweight insulation, this jacket is perfect for cold weather adventures. The black and gray color combination and Grolltex logo add a touch of sophistication. With its adjustable hood and multiple pockets, this jacket offers both style and functionality.\",\"Price\":179.99},{\"Id\":98,\"Type\":\"Jackets\",\"Brand\":\"Legend\",\"Name\":\"Element Outdoor Jacket\",\"Description\":\"Gear up for any adventure with the Legend Element Outdoor Jacket. Available in charcoal gray, this jacket offers ultimate protection with its waterproof and windproof shell. The breathable fabric and adjustable cuffs ensure comfort, allowing you to explore in any weather condition.\",\"Price\":179.99}]",
         "5": [
          {
           "content": "You are an expert bussiness analyst, give a conversation between client and a chatbot, you identify the list of products discussed, sentiment around each product, features that are liked or disliked and provide results as a json file.            when identifying product, separate type, brand, and name             choices for sentiment: enthusiastic, neutral, obstructionist             choices for product features (like or disliked): design, usability, color, size, price, brand             Please return a a list of jsons only. Please use the example below as a template            [{\"product\": {\"type\": \"Climbing\", \"brand\": \"Gravitator\", \"name\": \"Gravity Beam Climbing Rope\"}, \"sentiment\": \"enthusiastic\", \"features\": {\"like\": [\"design\", \"usability\", \"color\", \"size\", \"price\", \"brand\"], \"dislike\": []}}, {\"product\": {\"type\": \"Footwear\", \"brand\": \"Raptor Elite\", \"name\": \"Trek Xtreme Hiking Shoes\"}, \"sentiment\": \"enthusiastic\", \"features\": {\"like\": [\"design\", \"usability\", \"color\", \"size\", \"price\", \"brand\"], \"dislike\": []}}, {\"product\": {\"type\": \"Navigation\", \"brand\": \"AirStrider\", \"name\": \"VenturePro GPS Watch\"}, \"sentiment\": \"enthusiastic\", \"features\": {\"like\": [\"design\", \"usability\", \"price\", \"brand\"], \"dislike\": []}}]            ",
           "name": "system",
           "role": "system"
          },
          {
           "content": "[{\"Question\":\"I'm planning a hiking trip and need a reliable backpack. What options do you have?\",\"Answer\":\"For your hiking trip, I recommend the WildRunner Ridgevent Stealth Hiking Backpack. It's designed specifically for outdoor adventures, featuring a durable nylon construction and multiple compartments for ample storage. Plus, its stealthy red color adds a touch of style to your gear. It’s priced at $69.99.\"},{\"Question\":\"That sounds great! What other types of products do you offer?\",\"Answer\":\"We offer a variety of products including Bags, Jackets, and more. Each category is designed to meet the needs of outdoor enthusiasts and adventurers.\"},{\"Question\":\"I'm also looking for a jacket that can handle cold weather. What do you have in that category?\",\"Answer\":\"We have two excellent options for cold weather jackets. The first is the Frostbite Insulated Jacket by Grolltex, which features a water-resistant outer shell and lightweight insulation. The second is the Legend Element Outdoor Jacket, which offers waterproof and windproof protection with breathable fabric. Both are priced at $179.99.\"},{\"Question\":\"Can you tell me more about the Frostbite Insulated Jacket? I'm interested in its features.\",\"Answer\":\"Certainly! The Frostbite Insulated Jacket by Grolltex is designed to keep you warm and stylish. It has a water-resistant outer shell and lightweight insulation, making it perfect for cold weather adventures. The black and gray color combination, along with the Grolltex logo, adds a touch of sophistication. It also features an adjustable hood and multiple pockets for added functionality.\"},{\"Question\":\"What about the Legend Element Outdoor Jacket? How does it compare?\",\"Answer\":\"The Legend Element Outdoor Jacket is another excellent choice. It offers ultimate protection with its waterproof and windproof shell, making it ideal for any weather condition. The breathable fabric and adjustable cuffs ensure comfort during your adventures. It comes in a stylish charcoal gray color and is also priced at $179.99.\"},{\"Question\":\"I'm curious about the materials used in these jackets. Can you provide more details?\",\"Answer\":\"Of course! The Frostbite Insulated Jacket by Grolltex features a water-resistant outer shell made from high-quality synthetic materials and lightweight insulation to keep you warm. The Legend Element Outdoor Jacket, on the other hand, has a waterproof and windproof shell made from durable, breathable fabric, ensuring both protection and comfort.\"},{\"Question\":\"I see. How do the prices of these jackets compare to the Ridgevent Stealth Hiking Backpack?\",\"Answer\":\"The Ridgevent Stealth Hiking Backpack is priced at $69.99, which is quite affordable for a high-quality hiking backpack. In comparison, both the Frostbite Insulated Jacket and the Legend Element Outdoor Jacket are priced at $179.99 each, reflecting their advanced features and materials designed for cold weather protection.\"},{\"Question\":\"I'm trying to decide between the two jackets. Which one would you recommend for versatility?\",\"Answer\":\"For versatility, I would recommend the Legend Element Outdoor Jacket. Its waterproof and windproof shell, combined with breathable fabric and adjustable cuffs, makes it suitable for a wide range of weather conditions. It’s designed to keep you comfortable and protected whether you're facing rain, wind, or cold temperatures.\"},{\"Question\":\"That sounds like a good choice. Do you have any other products that might be useful for my hiking trip?\",\"Answer\":\"In addition to the Ridgevent Stealth Hiking Backpack and the jackets, we also offer other outdoor gear and accessories. However, based on your current needs, the backpack and one of the jackets would be the most essential items for your hiking trip.\"}]",
           "name": "user",
           "role": "user"
          }
         ],
         "6": "71.6984616",
         "7": "23f59e1a-e867-42da-87d9-6ddb678dcc0c",
         "8": "1758755603"
        }
       ],
       "schema": [
        {
         "key": "0",
         "name": "_rid",
         "type": "string"
        },
        {
         "key": "1",
         "name": "Id",
         "type": "bigint"
        },
        {
         "key": "2",
         "name": "Tone",
         "type": "string"
        },
        {
         "key": "3",
         "name": "ProductCharacteristic",
         "type": "string"
        },
        {
         "key": "4",
         "name": "TargetProducts",
         "type": "string"
        },
        {
         "key": "5",
         "name": "messages",
         "type": "ArrayType(StructType(StructField(role,StringType,true),StructField(content,StringType,true),StructField(name,StringType,true)),true)"
        },
        {
         "key": "6",
         "name": "TimeToGenerate",
         "type": "double"
        },
        {
         "key": "7",
         "name": "id_1",
         "type": "string"
        },
        {
         "key": "8",
         "name": "_ts",
         "type": "bigint"
        },
        {
         "key": "9",
         "name": "_change_type",
         "type": "string"
        }
       ],
       "truncated": false
      },
      "wranglerEntryContext": {
       "dataframeType": "pyspark"
      }
     },
     "type": "Synapse.DataFrame"
    },
    "f94c077d-7b51-4da9-942b-361f90d36284": {
     "persist_state": {
      "view": {
       "chartOptions": {
        "aggregationType": "sum",
        "binsNumber": 10,
        "categoryFieldKeys": [],
        "chartType": "bar",
        "isStacked": false,
        "seriesFieldKeys": [],
        "wordFrequency": "-1"
       },
       "tableOptions": {},
       "type": "details",
       "viewOptionsGroup": [
        {
         "tabItems": [
          {
           "key": "0",
           "name": "Table",
           "options": {},
           "type": "table"
          }
         ]
        }
       ]
      }
     },
     "sync_state": {
      "isSummary": false,
      "language": "scala",
      "table": {
       "rows": [
        {
         "0": "29",
         "1": "2",
         "2": "0",
         "3": "1",
         "4": "0",
         "5": "2",
         "6": "0",
         "7": "2",
         "8": "0",
         "9": "2",
         "10": "0",
         "11": "2",
         "12": "0",
         "13": "2",
         "14": "0",
         "15": "0",
         "16": "2"
        },
        {
         "0": "26",
         "1": "2",
         "2": "0",
         "3": "2",
         "4": "0",
         "5": "2",
         "6": "0",
         "7": "2",
         "8": "0",
         "9": "2",
         "10": "0",
         "11": "2",
         "12": "0",
         "13": "2",
         "14": "0",
         "15": "0",
         "16": "2"
        }
       ],
       "schema": [
        {
         "key": "0",
         "name": "id",
         "type": "bigint"
        },
        {
         "key": "1",
         "name": "sum_liked_price",
         "type": "bigint"
        },
        {
         "key": "2",
         "name": "sum_disliked_price",
         "type": "bigint"
        },
        {
         "key": "3",
         "name": "sum_liked_size",
         "type": "bigint"
        },
        {
         "key": "4",
         "name": "sum_disliked_size",
         "type": "bigint"
        },
        {
         "key": "5",
         "name": "sum_liked_usability",
         "type": "bigint"
        },
        {
         "key": "6",
         "name": "sum_disliked_usability",
         "type": "bigint"
        },
        {
         "key": "7",
         "name": "sum_liked_color",
         "type": "bigint"
        },
        {
         "key": "8",
         "name": "sum_disliked_color",
         "type": "bigint"
        },
        {
         "key": "9",
         "name": "sum_liked_brand",
         "type": "bigint"
        },
        {
         "key": "10",
         "name": "sum_disliked_brand",
         "type": "bigint"
        },
        {
         "key": "11",
         "name": "sum_liked_design",
         "type": "bigint"
        },
        {
         "key": "12",
         "name": "sum_disliked_design",
         "type": "bigint"
        },
        {
         "key": "13",
         "name": "sum_enthusiastic",
         "type": "bigint"
        },
        {
         "key": "14",
         "name": "sum_neutral",
         "type": "bigint"
        },
        {
         "key": "15",
         "name": "sum_obstructionist",
         "type": "bigint"
        },
        {
         "key": "16",
         "name": "sum_mentions",
         "type": "bigint"
        }
       ],
       "truncated": false
      },
      "wranglerEntryContext": {
       "dataframeType": "pyspark"
      }
     },
     "type": "Synapse.DataFrame"
    }
   },
   "version": "0.1"
  },
  "widgets": {}
 },
 "nbformat": 4,
 "nbformat_minor": 5
}
